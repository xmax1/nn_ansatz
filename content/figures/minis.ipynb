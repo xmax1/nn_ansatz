{
 "cells": [
  {
   "cell_type": "code",
   "execution_count": null,
   "metadata": {},
   "outputs": [],
   "source": [
    "import numpy as np\n",
    "\n",
    "from bokeh.io import output_notebook\n",
    "output_notebook()\n",
    "from bokeh.palettes import Dark2_5 as palette\n",
    "from bokeh.plotting import figure, show\n",
    "\n",
    "import matplotlib.pyplot as plt\n"
   ]
  },
  {
   "cell_type": "code",
   "execution_count": null,
   "metadata": {},
   "outputs": [],
   "source": [
    "def decorate(ax, title=None, xaxis=None, yaxis=None, xlims=None, ylims=None):\n",
    "    ax.set_title(title)\n",
    "    ax.set_xlabel(xaxis)\n",
    "    ax.set_ylabel(yaxis)\n",
    "    if xlims is not None: ax.set_xlim(xlims) \n",
    "    if ylims is not None: ax.set_ylim(ylims)\n",
    "\n",
    "# tricks with pandas\n",
    "# df.loc[df['column name'] condition, 'new column name'] = 'value if condition is met'\n",
    "\n",
    "def pretty_base(title=None, \n",
    "                xlabel=None, \n",
    "                ylabel=None, \n",
    "                xlims=None, \n",
    "                ylims=None,\n",
    "                legend=None,\n",
    "                xlines=[],\n",
    "                ylines=[],\n",
    "                latex=True,\n",
    "                name=None):\n",
    "    fig, ax = plt.subplots(1, 1, figsize=(4, 4))\n",
    "\n",
    "    ax.spines[\"top\"].set_visible(True)    \n",
    "    ax.spines[\"bottom\"].set_visible(True)    \n",
    "    ax.spines[\"right\"].set_visible(True)    \n",
    "    ax.spines[\"left\"].set_visible(True)    \n",
    "    \n",
    "    # Ensure that the axis ticks only show up on the bottom and left of the plot.    \n",
    "    # Ticks on the right and top of the plot are generally unnecessary chartjunk.    \n",
    "    ax.get_xaxis().tick_bottom()    \n",
    "    ax.get_yaxis().tick_left()    \n",
    "\n",
    "    if latex:\n",
    "        plt.rcParams.update({\n",
    "            \"text.usetex\": True,\n",
    "            \"font.family\": \"Times New Roman\"})\n",
    "        csfont = {}\n",
    "        hfont = {}\n",
    "    else:\n",
    "        csfont = {'fontname':'Comic Sans MS'}\n",
    "        hfont = {'fontname':'Helvetica'}\n",
    "\n",
    "    ax.set_title(title, fontsize=18, **csfont)\n",
    "    ax.set_xlabel(xlabel, fontsize=16, **hfont)\n",
    "    ax.set_ylabel(ylabel, fontsize=16, **hfont)\n",
    "    if legend is None:\n",
    "        pass\n",
    "    elif legend == 'outside':\n",
    "        ax.legend(fontsize=12, bbox_to_anchor=(1.05, 1), loc='upper left')\n",
    "    elif legend == 'inside':\n",
    "        ax.legend(fontsize=12)\n",
    "    if xlims is not None: ax.set_xlim(xlims) \n",
    "    if ylims is not None: ax.set_ylim(ylims)\n",
    "    ax.grid(b=True, which='major', axis='both')\n",
    "    [ax.axvline(x=x, ls='--') for x in xlines]\n",
    "    [ax.axhline(y=y, ls='--') for y in ylines]\n",
    "    return fig, ax"
   ]
  },
  {
   "cell_type": "code",
   "execution_count": null,
   "metadata": {},
   "outputs": [],
   "source": []
  }
 ],
 "metadata": {
  "interpreter": {
   "hash": "31f2aee4e71d21fbe5cf8b01ff0e069b9275f58929596ceb00d14d90e3e16cd6"
  },
  "kernelspec": {
   "display_name": "Python 3.6.8 64-bit",
   "language": "python",
   "name": "python3"
  },
  "language_info": {
   "name": "python",
   "version": "3.6.8"
  },
  "orig_nbformat": 4
 },
 "nbformat": 4,
 "nbformat_minor": 2
}
