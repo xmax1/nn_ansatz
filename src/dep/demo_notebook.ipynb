{
 "cells": [
  {
   "cell_type": "code",
   "execution_count": 1,
   "id": "settled-industry",
   "metadata": {},
   "outputs": [
    {
     "ename": "ModuleNotFoundError",
     "evalue": "No module named 'nn_ansatz'",
     "output_type": "error",
     "traceback": [
      "\u001b[0;31m---------------------------------------------------------------------------\u001b[0m",
      "\u001b[0;31mModuleNotFoundError\u001b[0m                       Traceback (most recent call last)",
      "\u001b[0;32m<ipython-input-1-ce9a5dd92a7a>\u001b[0m in \u001b[0;36m<module>\u001b[0;34m\u001b[0m\n\u001b[0;32m----> 1\u001b[0;31m \u001b[0;32mfrom\u001b[0m \u001b[0mnn_ansatz\u001b[0m \u001b[0;32mimport\u001b[0m \u001b[0msetup\u001b[0m\u001b[0;34m\u001b[0m\u001b[0;34m\u001b[0m\u001b[0m\n\u001b[0m\u001b[1;32m      2\u001b[0m \u001b[0;32mfrom\u001b[0m \u001b[0mnn_ansatz\u001b[0m \u001b[0;32mimport\u001b[0m \u001b[0mrun_vmc\u001b[0m\u001b[0;34m\u001b[0m\u001b[0;34m\u001b[0m\u001b[0m\n",
      "\u001b[0;31mModuleNotFoundError\u001b[0m: No module named 'nn_ansatz'"
     ]
    }
   ],
   "source": [
    "from nn_ansatz import setup\n",
    "from nn_ansatz import run_vmc"
   ]
  },
  {
   "cell_type": "code",
   "execution_count": null,
   "id": "green-disabled",
   "metadata": {},
   "outputs": [],
   "source": [
    "# using routines\n",
    "\n",
    "lr, damping, nc = 1e-4, 1e-4, 1e-4\n",
    "n_pre_it = 500\n",
    "n_walkers = 512\n",
    "n_layers = 2\n",
    "n_sh = 64\n",
    "n_ph = 16\n",
    "n_det = 8\n",
    "n_it = 1000\n",
    "seed = 1\n",
    "\n",
    "\n",
    "config = setup(system='Be',\n",
    "               n_pre_it=500,\n",
    "               n_walkers=512,\n",
    "               n_layers=2,\n",
    "               n_sh=64,\n",
    "               n_ph=16,\n",
    "               opt='kfac',\n",
    "               n_det=8,\n",
    "               print_every=1,\n",
    "               save_every=5000,\n",
    "               lr=lr,\n",
    "               n_it=1000,\n",
    "               norm_constraint=nc,\n",
    "               damping=damping)\n",
    "\n"
   ]
  },
  {
   "cell_type": "code",
   "execution_count": null,
   "id": "neither-meter",
   "metadata": {},
   "outputs": [],
   "source": [
    "run_vmc(**config)"
   ]
  },
  {
   "cell_type": "code",
   "execution_count": null,
   "id": "dynamic-production",
   "metadata": {},
   "outputs": [],
   "source": [
    "# using core functions \n",
    "\n",
    "key = rnd.PRNGKey(seed)\n",
    "\n",
    "mol = SystemAnsatz(r_atoms,\n",
    "                   z_atoms,\n",
    "                   n_el,\n",
    "                   n_el_atoms=n_el_atoms,\n",
    "                   n_layers=n_layers,\n",
    "                   n_sh=n_sh,\n",
    "                   n_ph=n_ph,\n",
    "                   n_det=n_det,\n",
    "                   step_size=step_size)\n",
    "\n",
    "wf, kfac_wf, wf_orbitals = create_wf(mol)\n",
    "params = initialise_params(key, mol)\n",
    "d0s = expand_d0s(initialise_d0s(mol), n_walkers)\n",
    "\n",
    "sampler, equilibrate = create_sampler(wf, mol, correlation_length=10)\n",
    "\n",
    "if load_pretrain:\n",
    "    params, walkers = load_pk(pre_path)\n",
    "    walkers = mol.initialise_walkers(walkers=walkers,\n",
    "                                     n_walkers=n_walkers,\n",
    "                                     equilibrate=equilibrate,\n",
    "                                     params=params,\n",
    "                                     d0s=d0s)\n",
    "else:\n",
    "    walkers = mol.initialise_walkers(n_walkers=n_walkers)\n",
    "    params, walkers = pretrain_wf(params,\n",
    "                                  wf,\n",
    "                                  wf_orbitals,\n",
    "                                  mol,\n",
    "                                  walkers,\n",
    "                                  n_it=n_pre_it,\n",
    "                                  lr=pre_lr,\n",
    "                                  n_eq_it=n_pre_it)\n",
    "\n",
    "grad_fn = create_grad_function(wf, mol)\n",
    "\n",
    "if opt == 'kfac':\n",
    "    update, get_params, kfac_update, state = kfac(kfac_wf, wf, mol, params, walkers, d0s,\n",
    "                                                  lr=lr,\n",
    "                                                  damping=damping,\n",
    "                                                  norm_constraint=norm_constraint)\n",
    "else:\n",
    "    init, update, get_params = adam(lr)\n",
    "    state = init(params)\n",
    "\n",
    "steps = trange(0, n_it, initial=0, total=n_it, desc='training', disable=None)\n",
    "for step in steps:\n",
    "    key, subkey = rnd.split(key)\n",
    "\n",
    "    walkers, acceptance, step_size = sampler(params, walkers, d0s, subkey, step_size)\n",
    "\n",
    "    grads, e_locs = grad_fn(params, walkers, d0s)\n",
    "\n",
    "    if opt == 'kfac':\n",
    "        grads, state = kfac_update(step, grads, state, walkers, d0s)\n",
    "\n",
    "    state = update(step, grads, state)\n",
    "    params = get_params(state)\n",
    "\n",
    "    steps.set_postfix(E=f'{jnp.mean(e_locs):.6f}')"
   ]
  }
 ],
 "metadata": {
  "kernelspec": {
   "display_name": "Python 3",
   "language": "python",
   "name": "python3"
  },
  "language_info": {
   "codemirror_mode": {
    "name": "ipython",
    "version": 3
   },
   "file_extension": ".py",
   "mimetype": "text/x-python",
   "name": "python",
   "nbconvert_exporter": "python",
   "pygments_lexer": "ipython3",
   "version": "3.8.8"
  }
 },
 "nbformat": 4,
 "nbformat_minor": 5
}
