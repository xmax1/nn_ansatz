{
 "cells": [
  {
   "cell_type": "code",
   "execution_count": 1,
   "metadata": {},
   "outputs": [],
   "source": [
    "import matplotlib.pyplot as plt\n",
    "%matplotlib inline\n",
    "from matplotlib import cm\n",
    "\n",
    "import numpy as np\n",
    "from itertools import chain, combinations, combinations_with_replacement, product\n",
    "from scipy.special import erfc\n",
    "import pickle as pk\n",
    "from time import time\n",
    "import math\n",
    "\n",
    "# utility functions\n",
    "def save_pk(data, file):\n",
    "    with open(file, 'wb') as f:\n",
    "        pk.dump(data, f)\n"
   ]
  },
  {
   "cell_type": "code",
   "execution_count": 95,
   "metadata": {},
   "outputs": [
    {
     "name": "stdout",
     "output_type": "stream",
     "text": [
      "27\n",
      "[-4 -3 -2 -1  0  1  2  3  4]\n",
      "232\n",
      "(232, 3)\n"
     ]
    }
   ],
   "source": []
  },
  {
   "cell_type": "code",
   "execution_count": 96,
   "metadata": {},
   "outputs": [],
   "source": [
    "def generate_vectors(vector_set, rcut, nimgs=10, sphere=True):\n",
    "    \n",
    "    nimgs = np.ceil(rcut*reciprocal_height[0] + 1.1).astype(int)\n",
    "    img_range = np.arange(-nimgs, nimgs+1)\n",
    "    print(img_range)\n",
    "    # get all possible combinations of the basis vectors\n",
    "   # get all possible combinations of the basis vectors\n",
    "    img_sets = list(product(*[img_range, img_range, img_range]))\n",
    "    img_sets = np.concatenate([np.array(x)[None, :, None] for x in img_sets if not np.sum(np.abs(x)) == 0], axis=0)\n",
    "    # print(img_sets)\n",
    "\n",
    "    imgs = np.sum(img_sets * basis_cell, axis=1)\n",
    "    x = np.unique(imgs, axis=0)\n",
    "    print(len(imgs), len(x))\n",
    "    \n",
    "    v = np.split(basis_cell, 3, axis=0)\n",
    "    z = np.zeros_like(v[0])\n",
    "    # print(v.shape, z.shape)\n",
    "    vecs = product(*[[-v[0], z, v[0]],[-v[1], z, v[1]], [-v[2], z, v[2]]] )\n",
    "    vecs = np.array(list(vecs)).squeeze().sum(-2)\n",
    "\n",
    "\n",
    "    # remove the copies\n",
    "    if sphere:\n",
    "        # remove outside the radius (so it is a sphere) it doesn't make a difference to the current implementation\n",
    "        lengths = np.linalg.norm(vecs[None, ...] + imgs[:, None, :], axis=-1)\n",
    "        mask = np.any(lengths < rcut, axis=1)\n",
    "\n",
    "#         print('n vectors cut: ', np.sum(mask))\n",
    "        imgs = imgs[mask]\n",
    "\n",
    "    return imgs\n",
    "\n",
    "def compute_volume(v1, v2, v3):\n",
    "    cross = np.cross(v2, v3, axisa=0, axisb=0)\n",
    "    box = np.sum(v1 * cross)\n",
    "    return np.abs(np.squeeze(box))\n",
    "\n",
    "def vector_sub(v1, v2):\n",
    "    return np.expand_dims(v1, axis=-2) - np.expand_dims(v2, axis=-3)\n",
    "\n",
    "def vector_add(v1, v2):\n",
    "    return np.expand_dims(v1, axis=2) + np.expand_dims(v2, axis=1)\n",
    "\n",
    "def vector_prod(v1, v2):\n",
    "    return np.expand_dims(v1, axis=2) * np.expand_dims(v2, axis=1)\n",
    "\n",
    "def compute_distances(v1, v2):\n",
    "    inter_vector = vector_sub(v1, v2)\n",
    "    return np.sqrt(np.sum(inter_vector**2, axis=-1))\n",
    "\n",
    "def inner(v1, v2):\n",
    "    return np.sum(v1 * v2, axis=-1)"
   ]
  },
  {
   "cell_type": "code",
   "execution_count": 138,
   "metadata": {},
   "outputs": [
    {
     "name": "stdout",
     "output_type": "stream",
     "text": [
      "0.5\n",
      "center:  [0.25 0.25 0.25]\n",
      "primitive vectors:  \n",
      " [[-0.5]\n",
      " [ 0.5]\n",
      " [ 0.5]] \n",
      " [[ 0.5]\n",
      " [-0.5]\n",
      " [ 0.5]] \n",
      " [[ 0.5]\n",
      " [ 0.5]\n",
      " [-0.5]]\n",
      "volume 0.5\n",
      "reciprocal volume:  496.10042688479695\n",
      "recipricol vectors:  \n",
      " [0.         6.28318531 6.28318531] \n",
      " [6.28318531 0.         6.28318531] \n",
      " [6.28318531 6.28318531 0.        ]\n",
      "r_atom:  [[[0. 0. 0.]]]\n",
      "(1, 1, 3) (1, 1)\n"
     ]
    }
   ],
   "source": [
    "#https://unlcms.unl.edu/cas/physics/tsymbal/teaching/SSP-927/Section%2001_Crystal%20Structure.pdf\n",
    "\n",
    "basis_cell = np.array([[-0.5, 0.5, 0.5],\n",
    "                       [0.5, -0.5, 0.5],\n",
    "                       [0.5, 0.5, -0.5]])\n",
    "print(abs(np.linalg.det(basis_cell)))\n",
    "inv_cell_basis = np.linalg.inv(basis_cell)\n",
    "center = np.sum(basis_cell, axis=0) / 2.\n",
    "print('center: ', center)\n",
    "\n",
    "cv1, cv2, cv3 = np.split(basis_cell, 3, axis=1)\n",
    "print('primitive vectors: ', '\\n', cv1, '\\n', cv2, '\\n', cv3)\n",
    "volume = compute_volume(cv1, cv2, cv3)\n",
    "print('volume', volume)\n",
    "\n",
    "rv1 = 2 * np.pi * np.cross(cv2.squeeze(), cv3.squeeze()) / volume\n",
    "rv2 = 2 * np.pi * np.cross(cv3.squeeze(), cv1.squeeze()) / volume\n",
    "rv3 = 2 * np.pi * np.cross(cv1.squeeze(), cv2.squeeze()) / volume\n",
    "reciprocal_cell = np.concatenate([x[None, :] for x in (rv1, rv2, rv3)], axis=0)\n",
    "normed_to1 = reciprocal_vectors / (2 * np.pi)\n",
    "reciprocal_height = np.linalg.norm(normed_to1, axis=1)\n",
    "\n",
    "\n",
    "reciprocal_volume = abs(np.linalg.det(reciprocal_vectors))\n",
    "print('reciprocal volume: ', reciprocal_volume)\n",
    "\n",
    "print('recipricol vectors: ', '\\n', rv1, '\\n', rv2, '\\n', rv3)\n",
    "\n",
    "n_walkers = 1\n",
    "n_el = 3\n",
    "\n",
    "r_atoms = np.array([[[0.25, 0.25, 0.25]]]).repeat(n_walkers, axis=0) - center\n",
    "print('r_atom: ', r_atoms)\n",
    "\n",
    "r_charges = np.array([[float(n_el)]]).repeat(n_walkers, axis=0)\n",
    "\n",
    "walkers = np.concatenate([r_atoms,], axis=1)\n",
    "charges = np.concatenate([r_charges,], axis=1)\n",
    "print(walkers.shape, charges.shape)\n"
   ]
  },
  {
   "cell_type": "code",
   "execution_count": 139,
   "metadata": {},
   "outputs": [
    {
     "name": "stdout",
     "output_type": "stream",
     "text": [
      "1000\n"
     ]
    }
   ],
   "source": [
    "def cartesian_prod(arrays, out=None):\n",
    "    arrays = [np.asarray(x) for x in arrays]\n",
    "    dtype = np.result_type(*arrays)\n",
    "    nd = len(arrays)\n",
    "    dims = [nd] + [len(x) for x in arrays]\n",
    "    out = np.ndarray(dims, dtype, buffer=out)\n",
    "\n",
    "    shape = [-1] + [1] * nd\n",
    "    for i, arr in enumerate(arrays):\n",
    "        out[i] = arr.reshape(shape[:nd-i])\n",
    "\n",
    "    return out.reshape(nd,-1).T\n",
    "\n",
    "\n",
    "def cartesian_product(*arrays):\n",
    "    la = len(arrays)\n",
    "    dtype = np.result_type(*arrays)\n",
    "    arr = np.empty([len(a) for a in arrays] + [la], dtype=dtype)\n",
    "    for i, a in enumerate(np.ix_(*arrays)):\n",
    "        arr[...,i] = a\n",
    "    return arr.reshape(-1, la)\n",
    "\n",
    "mesh = [10, 10, 10]\n",
    "rx = np.fft.fftfreq(mesh[0], 1./mesh[0])\n",
    "ry = np.fft.fftfreq(mesh[1], 1./mesh[1])\n",
    "rz = np.fft.fftfreq(mesh[2], 1./mesh[2])\n",
    "\n",
    "Gvbase = (rx, ry, rz)\n",
    "\n",
    "x = cartesian_product(*Gvbase)\n",
    "y = cartesian_prod(Gvbase)\n",
    "z = np.concatenate([x, y], axis=0)\n",
    "print(len(np.unique(z, axis=0)))"
   ]
  },
  {
   "cell_type": "code",
   "execution_count": 140,
   "metadata": {},
   "outputs": [
    {
     "name": "stdout",
     "output_type": "stream",
     "text": [
      "[10 10 10]\n",
      "(1000, 3)\n",
      "(1000, 3)\n"
     ]
    }
   ],
   "source": [
    "\n",
    "def create_mesh(mesh):\n",
    "    mesh = np.copy(mesh)\n",
    "    mesh_max = np.asarray(np.linalg.norm(basis_cell, axis=1) * 2,\n",
    "                          dtype=int)  # roughly 2 grids per bohr\n",
    "    mesh_max[mesh_max<80] = 80\n",
    "    mesh[mesh>mesh_max] = mesh_max[mesh>mesh_max]\n",
    "    return mesh\n",
    "\n",
    "\n",
    "\n",
    "\n",
    "\n",
    "def get_gv_weights(reciprocal_vectors, mesh=[10, 10, 10]):\n",
    "    mesh = create_mesh(mesh)\n",
    "    print(mesh)\n",
    "    rx = np.fft.fftfreq(mesh[0], 1./mesh[0])\n",
    "    ry = np.fft.fftfreq(mesh[1], 1./mesh[1])\n",
    "    rz = np.fft.fftfreq(mesh[2], 1./mesh[2])\n",
    "    \n",
    "    weights = abs(np.linalg.det(reciprocal_vectors))\n",
    "    weights *= (1./ (2*np.pi)**3)\n",
    "\n",
    "    Gvbase = (rx, ry, rz)\n",
    "    gv = np.dot(cartesian_product(*Gvbase), reciprocal_vectors)\n",
    "    print(gv.shape)\n",
    "    return gv, weights\n",
    "\n",
    "gv, w = get_gv_weights(reciprocal_vectors)\n",
    "\n",
    "print(gv.shape)\n",
    "    "
   ]
  },
  {
   "cell_type": "code",
   "execution_count": 142,
   "metadata": {},
   "outputs": [
    {
     "name": "stdout",
     "output_type": "stream",
     "text": [
      "[-4 -3 -2 -1  0  1  2  3  4]\n",
      "728 728\n",
      "[10 10 10]\n",
      "(1000, 3)\n",
      "[-4 -3 -2 -1  0  1  2  3  4]\n",
      "728 728\n",
      "232 232\n",
      "[[[1.47757581e-05]]]\n",
      "r_term: [[[6545.70843667]]]\n",
      "self_interation [[[-21.11443204]]]\n",
      "constant  -1.6351918754903916\n"
     ]
    },
    {
     "name": "stderr",
     "output_type": "stream",
     "text": [
      "<ipython-input-142-cf91a04ba648>:11: RuntimeWarning: divide by zero encountered in true_divide\n",
      "  e_e_Rs0 = q_q * np.tril(erfc(kappa * e_e_distances) / e_e_distances, k=-1)\n"
     ]
    },
    {
     "data": {
      "text/plain": [
       "array([6522.95882752])"
      ]
     },
     "execution_count": 142,
     "metadata": {},
     "output_type": "execute_result"
    }
   ],
   "source": [
    "def compute_potential(walkers, charges, kappa, rcut, test=False):\n",
    "    lattice_vectors = generate_vectors(basis_cell, rcut)\n",
    "    r_vectors, weights = get_gv_weights(reciprocal_vectors)\n",
    "    r_vectors = generate_vectors(reciprocal_vectors, rcut)\n",
    "    print(len(lattice_vectors), len(r_vectors))\n",
    "    # compute the Rs0 term\n",
    "    e_e_vectors = vector_sub(walkers, walkers)\n",
    "    q_q = vector_prod(charges, charges)\n",
    "    e_e_distances = compute_distances(walkers, walkers)\n",
    "    # is half the value because only the lower half is taken\n",
    "    e_e_Rs0 = q_q * np.tril(erfc(kappa * e_e_distances) / e_e_distances, k=-1)  \n",
    "\n",
    "    # compute the Rs > 0 term\n",
    "    ex_walkers = vector_add(walkers, lattice_vectors[None, ...])\n",
    "    tmp = walkers[..., None, None, :] - ex_walkers[:, None, ...]\n",
    "    ex_distances = np.sqrt(np.sum(tmp**2, axis=-1))\n",
    "    e_e_Rs1 = 0.5 * q_q * np.sum(erfc(kappa * ex_distances) / ex_distances, axis=-1)\n",
    "    print(e_e_Rs1)\n",
    "\n",
    "    # compute the constant factor\n",
    "    self_interaction = 0.5 * q_q * np.diag(np.array([2 * kappa / np.sqrt(np.pi)]).repeat(walkers.shape[1], axis=0))[None, ...]\n",
    "    \n",
    "    constant = 0.5 * np.pi * np.sum(charges)**2 / (kappa**2 * volume)\n",
    "\n",
    "    # compute the reciprocal term reuse the ee vectors\n",
    "    exp = np.exp(1j * e_e_vectors @ np.transpose(r_vectors))\n",
    "    r_inner = inner(r_vectors, r_vectors) \n",
    "    r_inner[r_inner == 0.] = 1e200\n",
    "    r_factor = 4 * np.pi * weights * (np.exp(- r_inner / (4 * kappa**2)) / r_inner)[None, None, None, :] * exp\n",
    "    r_term = 0.5 * q_q * np.real(np.sum(r_factor, axis=-1)) \n",
    "    \n",
    "    print('r_term:', r_term)\n",
    "    print('self_interation', - self_interaction)\n",
    "    print('constant ', -constant)\n",
    "    average_potential = e_e_Rs0 + e_e_Rs1 + r_term\n",
    "    average_potential -= constant\n",
    "    average_potential -= self_interaction\n",
    "    average_potential = np.sum(average_potential, axis=(-1,-2))\n",
    "    \n",
    "    if test:\n",
    "        print(lattice_vectors.shape, r_vectors.shape)\n",
    "        print(e_e_Rs0.shape, e_e_Rs1.shape, r_term.shape)\n",
    "        \n",
    "    return average_potential\n",
    "\n",
    "# unit test\n",
    "k, rcut = 4.15826182047647, 1.7129888292804627\n",
    "compute_potential(walkers, charges, k, rcut)"
   ]
  },
  {
   "cell_type": "code",
   "execution_count": null,
   "metadata": {},
   "outputs": [],
   "source": []
  },
  {
   "cell_type": "code",
   "execution_count": null,
   "metadata": {},
   "outputs": [],
   "source": []
  },
  {
   "cell_type": "code",
   "execution_count": null,
   "metadata": {},
   "outputs": [],
   "source": []
  }
 ],
 "metadata": {
  "kernelspec": {
   "display_name": "Python 3",
   "language": "python",
   "name": "python3"
  },
  "language_info": {
   "codemirror_mode": {
    "name": "ipython",
    "version": 3
   },
   "file_extension": ".py",
   "mimetype": "text/x-python",
   "name": "python",
   "nbconvert_exporter": "python",
   "pygments_lexer": "ipython3",
   "version": "3.8.5"
  }
 },
 "nbformat": 4,
 "nbformat_minor": 4
}
