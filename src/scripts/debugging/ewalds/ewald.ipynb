{
 "cells": [
  {
   "cell_type": "code",
   "execution_count": 2,
   "id": "improved-vertical",
   "metadata": {},
   "outputs": [],
   "source": [
    "import jax.numpy as jnp\n",
    "from itertools import chain, combinations, combinations_with_replacement\n"
   ]
  },
  {
   "cell_type": "code",
   "execution_count": 3,
   "id": "powerful-flour",
   "metadata": {},
   "outputs": [
    {
     "name": "stdout",
     "output_type": "stream",
     "text": [
      "(24, 3)\n"
     ]
    }
   ],
   "source": [
    "cell_basis = jnp.array([[-0.5, 0.5, 0.5], [0.5, -0.5, 0.5], [0.5, 0.5, -0.5]])\n",
    "cv1, cv2, cv3 = cell_basis.split(3, axis=1)\n",
    "\n",
    "n = 2\n",
    "vector_set = [cv1, -cv1, cv2, -cv2, cv3, -cv3]\n",
    "lattice_vectors = list(chain.from_iterable(combinations_with_replacement(vector_set, i) for i in range(1, n+1)))\n",
    "lattice_vectors = [jnp.sum(jnp.concatenate(x, axis=-1), axis=-1) for x in lattice_vectors]\n",
    "lattice_vectors = jnp.array([x for x in lattice_vectors if not jnp.sum(jnp.zeros(3,) == x) == 3])\n",
    "print(lattice_vectors.shape)"
   ]
  },
  {
   "cell_type": "code",
   "execution_count": 26,
   "id": "alike-surgery",
   "metadata": {},
   "outputs": [
    {
     "name": "stdout",
     "output_type": "stream",
     "text": [
      "(3, 1)\n",
      "[[0.  0.5 0.5]]\n",
      "[[0.5]]\n",
      "0.5\n"
     ]
    }
   ],
   "source": [
    "print(cv2.shape)\n",
    "cross = jnp.cross(cv2, cv3, axisa=0, axisb=0)\n",
    "print(cross)\n",
    "box = cross @ cv1\n",
    "print(box)\n",
    "volume = jnp.abs(box.squeeze())\n",
    "print(volume)"
   ]
  },
  {
   "cell_type": "code",
   "execution_count": 52,
   "id": "amended-boring",
   "metadata": {},
   "outputs": [
    {
     "name": "stdout",
     "output_type": "stream",
     "text": [
      "24\n",
      "[-0.5  0.5  0.5]\n",
      "[ 0.5 -0.5 -0.5]\n",
      "[ 0.5 -0.5  0.5]\n",
      "[-0.5  0.5 -0.5]\n",
      "[ 0.5  0.5 -0.5]\n",
      "[-0.5 -0.5  0.5]\n",
      "[-1.  1.  1.]\n",
      "[0. 0. 1.]\n",
      "[-1.  1.  0.]\n",
      "[0. 1. 0.]\n",
      "[-1.  0.  1.]\n",
      "[ 1. -1. -1.]\n",
      "[ 1. -1.  0.]\n",
      "[ 0.  0. -1.]\n",
      "[ 1.  0. -1.]\n",
      "[ 0. -1.  0.]\n",
      "[ 1. -1.  1.]\n",
      "[1. 0. 0.]\n",
      "[ 0. -1.  1.]\n",
      "[-1.  1. -1.]\n",
      "[ 0.  1. -1.]\n",
      "[-1.  0.  0.]\n",
      "[ 1.  1. -1.]\n",
      "[-1. -1.  1.]\n"
     ]
    }
   ],
   "source": [
    "print(len(lattice_vectors))\n",
    "for l in lattice_vectors:\n",
    "    print(l)\n",
    "    "
   ]
  },
  {
   "cell_type": "code",
   "execution_count": 45,
   "id": "proper-anger",
   "metadata": {},
   "outputs": [
    {
     "name": "stdout",
     "output_type": "stream",
     "text": [
      "27\n",
      "(1,)\n",
      "(2,)\n",
      "(3,)\n",
      "(4,)\n",
      "(5,)\n",
      "(6,)\n",
      "(1, 1)\n",
      "(1, 2)\n",
      "(1, 3)\n",
      "(1, 4)\n",
      "(1, 5)\n",
      "(1, 6)\n",
      "(2, 2)\n",
      "(2, 3)\n",
      "(2, 4)\n",
      "(2, 5)\n",
      "(2, 6)\n",
      "(3, 3)\n",
      "(3, 4)\n",
      "(3, 5)\n",
      "(3, 6)\n",
      "(4, 4)\n",
      "(4, 5)\n",
      "(4, 6)\n",
      "(5, 5)\n",
      "(5, 6)\n",
      "(6, 6)\n"
     ]
    }
   ],
   "source": [
    "n = 2\n",
    "vector_set = [1, 2, 3, 4, 5, 6]\n",
    "lattice_vectors = list(combinations_with_replacement(vector_set, 2))\n",
    "lattice_vectors = list(chain.from_iterable(combinations_with_replacement(vector_set, i) for i in range(1, n+1)))\n",
    "print(len(lattice_vectors))\n",
    "for l in lattice_vectors:\n",
    "    print(l)"
   ]
  },
  {
   "cell_type": "code",
   "execution_count": null,
   "id": "historical-hampshire",
   "metadata": {},
   "outputs": [],
   "source": [
    "\n",
    "def create_potential_energy(mol):\n",
    "    if mol.periodic_boundaries:\n",
    "        cv1, cv2, cv3 = mol.cell_basis.split(3, axis=1)\n",
    "        # translations = all_translations(cv1, cv2, cv3)\n",
    "        # translations.extend(all_translations(-cv1, cv2, cv3))\n",
    "        # translations.extend([cv2, cv2 + cv3, cv2 - cv3, -cv2, -cv2 + cv3, -cv2 - cv3])\n",
    "        # translations.extend([cv3, -cv3])\n",
    "        # translation_vectors = jnp.concatenate(translations, axis=-1).transpose()\n",
    "        # translation_vectors = jnp.expand_dims(translation_vectors, axis=0)\n",
    "        #\n",
    "        n = 3\n",
    "        vector_set = [cv1, -cv1, cv2, -cv2, cv3, -cv3]\n",
    "        lattice_vectors = list(\n",
    "            chain.from_iterable(combinations_with_replacement(vector_set, i) for i in range(1, n + 1)))\n",
    "        lattice_vectors = [jnp.sum(jnp.concatenate(x, axis=-1), axis=-1) for x in lattice_vectors]\n",
    "        lattice_vectors = jnp.array([x for x in lattice_vectors if not jnp.sum(jnp.zeros(3, ) == x) == 3])\n",
    "\n",
    "        def compute_potential_energy_solid_i(walkers, r_atoms, z_atoms):\n",
    "\n",
    "            \"\"\"\n",
    "            :param walkers (n_el, 3):\n",
    "            :param r_atoms (n_atoms, 3):\n",
    "            :param z_atoms (n_atoms, ):\n",
    "\n",
    "            Pseudocode:\n",
    "                - compute the potential energy (pe) of the cell\n",
    "                - compute the pe of the cell electrons with electrons outside\n",
    "                - compute the pe of the cell electrons with nuclei outside\n",
    "                - compute the pe of the cell nuclei with nuclei outside\n",
    "            \"\"\"\n",
    "\n",
    "            ex_walkers = (jnp.expand_dims(walkers, axis=1) + lattice_vectors).reshape(-1, 3)  # (n_el * 26, 3)\n",
    "            ex_r_atoms = (jnp.expand_dims(r_atoms, axis=1) + lattice_vectors).reshape(-1, 3)  # (n_atom * 26, 3)\n",
    "            ex_z_atoms = jnp.expand_dims(z_atoms, axis=0).repeat(len(lattice_vectors), axis=0)  # (n_atom * 26, 1)\n",
    "\n",
    "            potential_energy = compute_potential_energy_i(walkers, r_atoms, z_atoms)\n",
    "\n",
    "            ex_e_e_dist = batched_cdist_l2(walkers, ex_walkers)\n",
    "            potential_energy += jnp.sum(1. / ex_e_e_dist)\n",
    "\n",
    "            ex_a_e_dist = batched_cdist_l2(walkers, ex_r_atoms)\n",
    "            potential_energy -= jnp.sum(ex_z_atoms / ex_a_e_dist)\n",
    "\n",
    "            ex_a_a_dist = batched_cdist_l2(r_atoms, ex_r_atoms)\n",
    "            potential_energy += (z_atoms[None, :] * ex_z_atoms) / ex_a_a_dist\n",
    "\n",
    "            return potential_energy\n",
    "\n",
    "        # return vmap(compute_potential_energy_i, in_axes=(0, None, None))\n",
    "        return vmap(compute_potential_energy_solid_i, in_axes=(0, None, None))\n",
    "\n",
    "    return vmap(compute_potential_energy_i, in_axes=(0, None, None))\n",
    "\n",
    "\n",
    "def batched_cdist_l2(x1, x2):\n",
    "\n",
    "    x1_sq = jnp.sum(x1 ** 2, axis=-1, keepdims=True)\n",
    "    x2_sq = jnp.sum(x2 ** 2, axis=-1, keepdims=True)\n",
    "    cdist = jnp.sqrt(jnp.swapaxes(x1_sq, -1, -2) + x2_sq \\\n",
    "                     - jnp.sum(2 * jnp.expand_dims(x1, axis=0) * jnp.expand_dims(x2, axis=1), axis=-1))\n",
    "    return cdist\n",
    "\n",
    "\n",
    "\n",
    "\n",
    "\n",
    "def compute_potential_energy_i(walkers, r_atoms, z_atoms):\n",
    "    \"\"\"\n",
    "\n",
    "    :param walkers (n_el, 3):\n",
    "    :param r_atoms (n_atoms, 3):\n",
    "    :param z_atoms (n_atoms, ):\n",
    "    :return:\n",
    "\n",
    "    pseudocode:\n",
    "        - compute potential energy contributions\n",
    "            - electron - electron interaction\n",
    "            - atom - electron interaction\n",
    "            - atom - atom interation\n",
    "    \"\"\"\n",
    "\n",
    "    n_atom = r_atoms.shape[0]\n",
    "\n",
    "    e_e_dist = batched_cdist_l2(walkers, walkers)\n",
    "    potential_energy = jnp.sum(jnp.tril(1. / e_e_dist, k=-1))\n",
    "\n",
    "    a_e_dist = batched_cdist_l2(r_atoms, walkers)\n",
    "    potential_energy -= jnp.sum(z_atoms / a_e_dist)\n",
    "\n",
    "    if n_atom > 1:\n",
    "        a_a_dist = batched_cdist_l2(r_atoms, r_atoms)\n",
    "        weighted_a_a = (z_atoms[:, None] * z_atoms[None, :]) / a_a_dist\n",
    "        unique_a_a = jnp.tril(weighted_a_a, k=-1)\n",
    "        potential_energy += jnp.sum(unique_a_a)\n",
    "\n",
    "    return potential_energy"
   ]
  },
  {
   "cell_type": "code",
   "execution_count": null,
   "id": "fundamental-constant",
   "metadata": {},
   "outputs": [],
   "source": []
  }
 ],
 "metadata": {
  "kernelspec": {
   "display_name": "Python 3",
   "language": "python",
   "name": "python3"
  },
  "language_info": {
   "codemirror_mode": {
    "name": "ipython",
    "version": 3
   },
   "file_extension": ".py",
   "mimetype": "text/x-python",
   "name": "python",
   "nbconvert_exporter": "python",
   "pygments_lexer": "ipython3",
   "version": "3.8.8"
  }
 },
 "nbformat": 4,
 "nbformat_minor": 5
}
