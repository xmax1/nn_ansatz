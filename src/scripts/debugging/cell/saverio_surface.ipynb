{
 "cells": [
  {
   "cell_type": "code",
   "execution_count": 1,
   "metadata": {},
   "outputs": [],
   "source": [
    "# implicit none\n",
    "# integer ix,iy,n\n",
    "# real x,y,r,xp,yp,rp,eps\n",
    "import numpy as np\n",
    "import pandas as pd\n",
    "import matplotlib.pyplot as plt\n"
   ]
  },
  {
   "cell_type": "code",
   "execution_count": 12,
   "metadata": {},
   "outputs": [
    {
     "name": "stdout",
     "output_type": "stream",
     "text": [
      "[[ 1.  0.]\n",
      " [-1.  1.]]\n",
      "0     0.000000\n",
      "1    -0.111111\n",
      "2    -0.222222\n",
      "3    -0.333333\n",
      "4    -0.444444\n",
      "        ...   \n",
      "95    0.444444\n",
      "96    0.333333\n",
      "97    0.222222\n",
      "98    0.111111\n",
      "99    0.000000\n",
      "Name: x_prim, Length: 100, dtype: float64 0    -0.499990\n",
      "1    -0.388879\n",
      "2    -0.277768\n",
      "3    -0.166657\n",
      "4    -0.055546\n",
      "        ...   \n",
      "95    0.055566\n",
      "96    0.166677\n",
      "97    0.277788\n",
      "98    0.388899\n",
      "99    0.500010\n",
      "Name: y_prim, Length: 100, dtype: float64\n"
     ]
    },
    {
     "data": {
      "image/png": "[encoded data removed]",
      "text/plain": [
       "<Figure size 1008x360 with 3 Axes>"
      ]
     },
     "metadata": {
      "needs_background": "light"
     },
     "output_type": "display_data"
    }
   ],
   "source": [
    "\n",
    "eps = 0.00001\n",
    "def eq100(x):\n",
    "    if(x < -0.25):\n",
    "        xp=-1/(8*(1+2*x))\n",
    "    elif(x < 0.25):\n",
    "        xp=x\n",
    "    else:\n",
    "        xp=1/(8*(1-2*x))\n",
    "    return xp\n",
    "\n",
    "A = np.array([[1., 0.], [1., 1.]])\n",
    "A_inv = np.linalg.inv(A)\n",
    "print(A_inv)\n",
    "\n",
    "Xs = np.linspace(-0.5, 0.5, 10) + eps\n",
    "Ys = Xs\n",
    "\n",
    "datas = []\n",
    "for x in Xs:\n",
    "    xp = eq100(x)\n",
    "    for y in Ys:\n",
    "        yp = eq100(y)\n",
    "\n",
    "        r = np.linalg.norm(np.array([x, y]))\n",
    "        rp = np.linalg.norm(np.array([xp, yp]))\n",
    "\n",
    "        v = np.array([[x, y]])\n",
    "        v_prim = v.dot(A_inv)\n",
    "        x_prim, y_prim = v_prim[0, 0], v_prim[0, 1]\n",
    "        x_primp, y_primp = eq100(x_prim), eq100(y_prim)\n",
    "        rp_prim = np.linalg.norm(np.array([x_primp, y_primp]))\n",
    "\n",
    "        data = [np.squeeze(i) for i in [x, y, xp, yp, x_prim, y_prim, x_primp, y_primp, r, rp_prim, np.exp(-3*r), np.exp(-3*rp), np.exp(-3*rp_prim)]]\n",
    "        datas.append(data)\n",
    "\n",
    "\n",
    "data = pd.DataFrame(datas, columns=['x', 'y', 'xp', 'yp', 'x_prim', 'y_prim', 'x_primp', 'y_primp', 'r', 'r_primp', 'exp_r', 'exp_rp', 'exp_r_primp'])\n",
    "\n",
    "og = data.pivot(index='y', columns='x', values='exp_r')\n",
    "cartesian = data.pivot(index='y', columns='x', values='exp_rp')\n",
    "primitive = data.pivot(index='y', columns='x', values='exp_r_primp')\n",
    "\n",
    "print(data['x_prim'], data['y_prim'])\n",
    "fig, axs = plt.subplots(1, 3, figsize=(14, 5))\n",
    "\n",
    "axs[0].contourf(og)\n",
    "axs[2].contourf(cartesian)\n",
    "axs[1].contourf(primitive)\n",
    "\n",
    "plt.show()\n"
   ]
  },
  {
   "cell_type": "code",
   "execution_count": null,
   "metadata": {},
   "outputs": [],
   "source": []
  }
 ],
 "metadata": {
  "interpreter": {
   "hash": "6a06ed5d66c445098e60644b3382a69ae819b798ccad00addeea91043a2d37cf"
  },
  "kernelspec": {
   "display_name": "Python 3.7.10 64-bit ('drop': conda)",
   "name": "python3"
  },
  "language_info": {
   "codemirror_mode": {
    "name": "ipython",
    "version": 3
   },
   "file_extension": ".py",
   "mimetype": "text/x-python",
   "name": "python",
   "nbconvert_exporter": "python",
   "pygments_lexer": "ipython3",
   "version": "3.7.10"
  },
  "orig_nbformat": 4
 },
 "nbformat": 4,
 "nbformat_minor": 2
}