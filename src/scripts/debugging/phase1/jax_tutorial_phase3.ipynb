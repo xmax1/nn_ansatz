{
 "cells": [
  {
   "cell_type": "code",
   "execution_count": 1,
   "id": "personalized-diversity",
   "metadata": {},
   "outputs": [],
   "source": [
    "%load_ext autoreload\n",
    "%autoreload 2\n",
    "\n",
    "import os\n",
    "os.environ[\"JAX_PLATFORM_NAME\"] = \"cpu\"\n"
   ]
  },
  {
   "cell_type": "code",
   "execution_count": 3,
   "id": "extreme-setting",
   "metadata": {},
   "outputs": [
    {
     "name": "stderr",
     "output_type": "stream",
     "text": [
      "/home/xmax/anaconda3/envs/xmax/lib/python3.8/site-packages/pyscf/lib/misc.py:46: H5pyDeprecationWarning: Using default_file_mode other than 'r' is deprecated. Pass the mode to h5py.File() instead.\n",
      "  h5py.get_config().default_file_mode = 'a'\n"
     ]
    },
    {
     "ename": "ImportError",
     "evalue": "cannot import name 'model' from 'ops.wf.ferminet' (/home/xmax/nn_ansatz/src/ops/wf/ferminet.py)",
     "output_type": "error",
     "traceback": [
      "\u001b[0;31m---------------------------------------------------------------------------\u001b[0m",
      "\u001b[0;31mImportError\u001b[0m                               Traceback (most recent call last)",
      "\u001b[0;32m<ipython-input-3-7773da60b3a3>\u001b[0m in \u001b[0;36m<module>\u001b[0;34m\u001b[0m\n\u001b[1;32m     21\u001b[0m \u001b[0;32mfrom\u001b[0m \u001b[0mops\u001b[0m\u001b[0;34m.\u001b[0m\u001b[0mvmc\u001b[0m\u001b[0;34m.\u001b[0m\u001b[0mutils\u001b[0m \u001b[0;32mimport\u001b[0m \u001b[0mcreate_atom_batch\u001b[0m\u001b[0;34m\u001b[0m\u001b[0;34m\u001b[0m\u001b[0m\n\u001b[1;32m     22\u001b[0m \u001b[0;32mfrom\u001b[0m \u001b[0mops\u001b[0m\u001b[0;34m.\u001b[0m\u001b[0msystems\u001b[0m \u001b[0;32mimport\u001b[0m \u001b[0mMolecule\u001b[0m\u001b[0;34m\u001b[0m\u001b[0;34m\u001b[0m\u001b[0m\n\u001b[0;32m---> 23\u001b[0;31m \u001b[0;32mfrom\u001b[0m \u001b[0mops\u001b[0m\u001b[0;34m.\u001b[0m\u001b[0mwf\u001b[0m\u001b[0;34m.\u001b[0m\u001b[0mferminet\u001b[0m \u001b[0;32mimport\u001b[0m \u001b[0mmodel\u001b[0m\u001b[0;34m,\u001b[0m \u001b[0mcreate_masks\u001b[0m\u001b[0;34m\u001b[0m\u001b[0;34m\u001b[0m\u001b[0m\n\u001b[0m\u001b[1;32m     24\u001b[0m \u001b[0;32mfrom\u001b[0m \u001b[0mops\u001b[0m\u001b[0;34m.\u001b[0m\u001b[0mwf\u001b[0m\u001b[0;34m.\u001b[0m\u001b[0mparameters\u001b[0m \u001b[0;32mimport\u001b[0m \u001b[0minitialise_params\u001b[0m\u001b[0;34m,\u001b[0m \u001b[0mcount_mixed_features\u001b[0m\u001b[0;34m\u001b[0m\u001b[0;34m\u001b[0m\u001b[0m\n",
      "\u001b[0;31mImportError\u001b[0m: cannot import name 'model' from 'ops.wf.ferminet' (/home/xmax/nn_ansatz/src/ops/wf/ferminet.py)"
     ]
    }
   ],
   "source": [
    "import numpy as np\n",
    "from functools import partial\n",
    "\n",
    "from jax.config import config\n",
    "config.update(\"jax_enable_x64\", True)\n",
    "\n",
    "import jax\n",
    "import jax.numpy as jnp\n",
    "from jax import random as rnd\n",
    "from jax import lax\n",
    "\n",
    "from pytorch.models.og.model import fermiNet\n",
    "from pytorch.sampling import MetropolisHasting\n",
    "from pytorch.vmc import *\n",
    "from pytorch.pretraining import Pretrainer\n",
    "from pytorch.systems import Molecule as Moleculetc\n",
    "from pytorch.utils import update_state_dict, from_np\n",
    "import torch as tc\n",
    "tc.set_default_dtype(tc.float64)\n",
    "\n",
    "from ops.vmc.utils import create_atom_batch\n",
    "from ops.systems import Molecule\n",
    "from ops.wf.ferminet import model, create_masks\n",
    "from ops.wf.parameters import initialise_params, count_mixed_features"
   ]
  },
  {
   "cell_type": "code",
   "execution_count": null,
   "id": "utility-sussex",
   "metadata": {},
   "outputs": [],
   "source": [
    "def batched_cdist_l2(x1, x2):\n",
    "    x1_sq = jnp.sum(x1 ** 2, axis=-1, keepdims=True)\n",
    "    x2_sq = jnp.sum(x2 ** 2, axis=-1, keepdims=True)\n",
    "    cdist = jnp.sqrt(jnp.swapaxes(x1_sq, -1, -2) + x2_sq \\\n",
    "                 - jnp.sum(2 * jnp.expand_dims(x1, axis=1) * jnp.expand_dims(x2, axis=2), axis=-1))\n",
    "    return cdist\n",
    "\n",
    "def compute_potential_energy_jax(r_atom, r_electron, z_atom):\n",
    "    n_samples, n_electron = r_electron.shape[:2]\n",
    "    n_atom = r_atom.shape[0]\n",
    "\n",
    "    potential_energy = jnp.zeros(n_samples)\n",
    "\n",
    "    e_e_dist = batched_cdist_l2(r_electron, r_electron)  # electron - electron distances\n",
    "    potential_energy += jnp.sum(jnp.tril(1. / e_e_dist, k=-1), axis=(-1, -2))\n",
    "\n",
    "    a_e_dist = batched_cdist_l2(r_atom, r_electron)  # atom - electron distances\n",
    "    potential_energy -= jnp.einsum('a,bae->b', z_atom, 1./a_e_dist)\n",
    "\n",
    "    if n_atom > 1:  # THIS HAS NOT BEEN VERIFIED\n",
    "        a_a_dist = batched_cdist_l2(r_atom, r_atom)\n",
    "        weighted_a_a = jnp.einsum('bn,bm,bnm->bnm', z_atom, z_atom, 1/a_a_dist)\n",
    "        unique_a_a = weighted_a_a[:, jnp.tril(np.ones((n_atom, n_atom), dtype=bool), -1)]  # this will not work\n",
    "        potential_energy += jnp.sum(unique_a_a, axis=-1)\n",
    "\n",
    "    return potential_energy\n",
    "\n",
    "def sumpmodel(pmodel):\n",
    "    def _sum_pmodel(params, r_electrons):\n",
    "        logpsi = pmodel(params, r_electrons)\n",
    "        return jnp.sum(logpsi)\n",
    "    return _sum_pmodel"
   ]
  },
  {
   "cell_type": "code",
   "execution_count": null,
   "id": "pleasant-reunion",
   "metadata": {
    "scrolled": true
   },
   "outputs": [],
   "source": [
    "n_el = 4\n",
    "n_atom = 1\n",
    "n_up = 2\n",
    "n_down = n_el - n_up\n",
    "n_layers = 2\n",
    "n_sh = 20\n",
    "n_ph = 10\n",
    "key = rnd.PRNGKey(1)\n",
    "key, *subkeys = rnd.split(key, 2)\n",
    "n_det = 5\n",
    "n_walkers = 20\n",
    "\n",
    "walkers = rnd.normal(key, (n_walkers, n_el, 3))\n",
    "r_atoms = rnd.normal(key, (n_atom, 3))\n",
    "z_atoms = jnp.array([n_el])\n",
    "\n",
    "walkers_tc = from_np(walkers)\n",
    "r_atoms_tc = from_np(create_atom_batch(r_atoms, n_walkers))\n",
    "z_atoms_tc = from_np(z_atoms)\n",
    "\n",
    "mol_tc = Moleculetc(r_atoms_tc, z_atoms_tc, n_el, device='cpu', dtype=r_atoms_tc.dtype)\n",
    "mol = Molecule(r_atoms, z_atoms, n_el)\n",
    "\n",
    "\"\"\"\n",
    "In this phase\n",
    "- Integrate the drop diagonal to the jax model \n",
    "- compare logpsi and energy computations for the torch and jax implementations\n",
    "- get the energy computation working for the jax implementation\n",
    "- port the pytorch pretrainer to jax\n",
    "- establish the jax samplers\n",
    "- test the jax pretrainer\n",
    "\"\"\""
   ]
  },
  {
   "cell_type": "code",
   "execution_count": null,
   "id": "promotional-farming",
   "metadata": {},
   "outputs": [],
   "source": [
    "# setup the models\n",
    "masks = create_masks(n_atom, n_el, n_up, n_layers, n_sh, n_ph)\n",
    "params = initialise_params(key, n_atom, n_up, n_down, n_layers, n_sh, n_ph, n_det)\n",
    "pmodel = partial(model, r_atoms=r_atoms, masks=masks, n_up=n_up, n_down=n_down)\n",
    "vmodel = jax.vmap(pmodel, in_axes=(None, 0))\n",
    "\n",
    "model_tc = fermiNet(mol_tc, n_det=n_det, n_sh=n_sh, n_ph=n_ph, diagonal=False)\n",
    "model_tc = update_state_dict(model_tc, params)"
   ]
  },
  {
   "cell_type": "code",
   "execution_count": null,
   "id": "auburn-father",
   "metadata": {},
   "outputs": [],
   "source": [
    "logpsi_tc = model_tc(walkers_tc)\n",
    "logpsi = vmodel(params, walkers)\n",
    "compare(logpsi_tc, logpsi)"
   ]
  },
  {
   "cell_type": "code",
   "execution_count": null,
   "id": "difficult-farmer",
   "metadata": {},
   "outputs": [],
   "source": [
    "def local_kinetic_energy(f):\n",
    "\n",
    "    def _lapl_over_f(params, x):  # this is recalled everytime\n",
    "        x = x.reshape(-1)\n",
    "        n = x.shape[0]\n",
    "        eye = jnp.eye(n, dtype=x.dtype)\n",
    "        grad_f = jax.grad(f, argnums=1)\n",
    "        grad_f_closure = lambda y: grad_f(params, y)  # ensuring the input can be just x\n",
    "    \n",
    "        def _body_fun(i, val):\n",
    "            # primal is the first order evaluation\n",
    "            # tangent is the second order\n",
    "            primal, tangent = jax.jvp(grad_f_closure, (x,), (eye[..., i],))\n",
    "            print(primal.dtype, tangent.dtype)\n",
    "            print(primal.shape, tangent.shape)\n",
    "            return val + primal[i]**2 + tangent[i]\n",
    "    \n",
    "        # from lower to upper\n",
    "        # (lower, upper, func(int, a) -> a, init_val)\n",
    "        # this is like functools.reduce()\n",
    "        # val is the previous  val (initialised to 0.0)\n",
    "        return -0.5 * lax.fori_loop(0, n, _body_fun, 0.0)\n",
    "  \n",
    "    return _lapl_over_f\n",
    "\n",
    "lap = jax.jit(jax.vmap(local_kinetic_energy(pmodel), in_axes=(None, 0)))"
   ]
  },
  {
   "cell_type": "code",
   "execution_count": null,
   "id": "conscious-carry",
   "metadata": {},
   "outputs": [],
   "source": [
    "\n",
    "ep_tc = compute_potential_energy(walkers_tc, r_atoms_tc, z_atoms_tc)\n",
    "ek_tc =  laplacian(model_tc, walkers_tc)\n",
    "ek_tc = -0.5 * (ek_tc[0].sum(-1) + ek_tc[1].sum(-1))\n",
    "\n",
    "ek = lap(params, walkers)\n",
    "ep = compute_potential_energy_jax(r_atoms, walkers, z_atoms)"
   ]
  },
  {
   "cell_type": "code",
   "execution_count": null,
   "id": "magnetic-bobby",
   "metadata": {},
   "outputs": [],
   "source": [
    "compare(ek_tc, ek)\n",
    "compare(ep_tc, ep)\n",
    "\n",
    "print(ek, '\\n', ek_tc)"
   ]
  },
  {
   "cell_type": "code",
   "execution_count": null,
   "id": "specific-membrane",
   "metadata": {},
   "outputs": [],
   "source": [
    "\n",
    "def laplacian(params, wf, x):  # this is recalled everytime\n",
    "    x = x.reshape(-1)\n",
    "    n = x.shape[0]\n",
    "    eye = jnp.eye(n, dtype=x.dtype)\n",
    "    grad_f = jax.grad(wf, argnums=1)\n",
    "    grad_f_closure = lambda y: grad_f(params, y)  # ensuring the input can be just x\n",
    "\n",
    "    def _body_fun(i, val):\n",
    "        # primal is the first order evaluation\n",
    "        # tangent is the second order\n",
    "        primal, tangent = jax.jvp(grad_f_closure, (x,), (eye[..., i],))\n",
    "        print(primal.dtype, tangent.dtype)\n",
    "        print(primal.shape, tangent.shape)\n",
    "        return val + primal[i]**2 + tangent[i]\n",
    "\n",
    "    # from lower to upper\n",
    "    # (lower, upper, func(int, a) -> a, init_val)\n",
    "    # this is like functools.reduce()\n",
    "    # val is the previous  val (initialised to 0.0)\n",
    "    return -0.5 * lax.fori_loop(0, n, _body_fun, 0.0)\n",
    "\n",
    "lap = jax.jit(jax.vmap(laplacian, in_axes=(None, None, 0)))\n"
   ]
  },
  {
   "cell_type": "code",
   "execution_count": null,
   "id": "least-crash",
   "metadata": {},
   "outputs": [],
   "source": [
    "lap(params, pmodel, walkers)"
   ]
  },
  {
   "cell_type": "code",
   "execution_count": null,
   "id": "finnish-mobility",
   "metadata": {},
   "outputs": [],
   "source": [
    "\n"
   ]
  },
  {
   "cell_type": "code",
   "execution_count": null,
   "id": "southern-soldier",
   "metadata": {},
   "outputs": [],
   "source": []
  },
  {
   "cell_type": "code",
   "execution_count": null,
   "id": "ethical-label",
   "metadata": {},
   "outputs": [],
   "source": []
  },
  {
   "cell_type": "code",
   "execution_count": null,
   "id": "incomplete-copyright",
   "metadata": {},
   "outputs": [],
   "source": []
  },
  {
   "cell_type": "code",
   "execution_count": null,
   "id": "permanent-bennett",
   "metadata": {},
   "outputs": [],
   "source": []
  },
  {
   "cell_type": "code",
   "execution_count": null,
   "id": "frequent-arrival",
   "metadata": {},
   "outputs": [],
   "source": []
  },
  {
   "cell_type": "code",
   "execution_count": null,
   "id": "living-drink",
   "metadata": {},
   "outputs": [],
   "source": []
  },
  {
   "cell_type": "code",
   "execution_count": null,
   "id": "acquired-parish",
   "metadata": {},
   "outputs": [],
   "source": [
    "\n",
    "    "
   ]
  },
  {
   "cell_type": "code",
   "execution_count": null,
   "id": "banner-italy",
   "metadata": {},
   "outputs": [],
   "source": []
  },
  {
   "cell_type": "code",
   "execution_count": null,
   "id": "collectible-pottery",
   "metadata": {},
   "outputs": [],
   "source": []
  },
  {
   "cell_type": "code",
   "execution_count": null,
   "id": "premium-fellow",
   "metadata": {},
   "outputs": [],
   "source": [
    "# compare the forward pass\n",
    "from ops.wf.fnstar_wdiag.ferminet import model, create_masks\n",
    "from ops.wf.fnstar_wdiag.parameters import initialise_params, count_mixed_features\n",
    "from ops.vmc.utils import create_atom_batch\n",
    "\n",
    "# import importlib\n",
    "# importlib.reload(ops.wf.fnstar_wdiag.ferminet)\n",
    "\n",
    "masks = create_masks(n_atom, n_electrons, n_up, n_layers, n_sh, n_ph)\n",
    "pmodel = partial(model, r_atoms=ra, masks=masks, n_up=n_up, n_down=n_down)\n",
    "lp = pmodel(params, re)\n"
   ]
  },
  {
   "cell_type": "code",
   "execution_count": null,
   "id": "original-blair",
   "metadata": {},
   "outputs": [],
   "source": [
    "compute_local_energy(from_np(ra), from_np(re), from_np(z_atoms), model_tc)\n"
   ]
  },
  {
   "cell_type": "code",
   "execution_count": null,
   "id": "coastal-colony",
   "metadata": {},
   "outputs": [],
   "source": []
  },
  {
   "cell_type": "code",
   "execution_count": null,
   "id": "satellite-mailing",
   "metadata": {},
   "outputs": [],
   "source": []
  },
  {
   "cell_type": "code",
   "execution_count": null,
   "id": "unsigned-answer",
   "metadata": {},
   "outputs": [],
   "source": [
    "\n",
    "\n",
    "\n",
    "\n",
    "# def _lapl_over_f(params, x):  # this is recalled everytime\n",
    "#         x = x.reshape(x.shape[0], -1)\n",
    "#         n = x.shape[1]\n",
    "#         eye = jnp.eye(n)\n",
    "#         eye = jnp.repeat(eye[None, ...], x.shape[0], 0)\n",
    "#         grad_f = jax.grad(f, argnums=1)\n",
    "#         grad_f_closure = lambda y: grad_f(params, y)  # ensuring the input can be just x\n",
    "    \n",
    "#         def _body_fun(i, val):\n",
    "#             # primal is the first order evaluation\n",
    "#             # tangent is the second order\n",
    "#             primal, tangent = jax.jvp(grad_f_closure, (x,), (eye[..., i],))\n",
    "#             return val + primal[i]**2 + tangent[i]\n",
    "    \n",
    "#         # from lower to upper\n",
    "#         # (lower, upper, func(int, a) -> a, init_val)\n",
    "#         # this is like functools.reduce()\n",
    "#         # val is the previous  val (initialised to 0.0)\n",
    "#         return -0.5 * lax.fori_loop(0, n, _body_fun, 0.0)\n",
    "  \n",
    "#     return _lapl_over_f\n",
    "\n",
    "\n",
    "key = rnd.PRNGKey(1)\n",
    "x = rnd.normal(key, (25,))\n",
    "\n",
    "def function(x):\n",
    "    x = x.reshape((5, 5))\n",
    "    n = x.shape[0]\n",
    "    eye = jnp.eye(n, dtype=bool)\n",
    "    y = x[eye]\n",
    "    return jnp.sum(y)\n",
    "\n",
    "z = function(x)\n",
    "grad1f = jax.grad(function)\n",
    "g1 = gradf(x)\n",
    "grad2f = jax.grad(gradf)\n",
    "g2 = grad2f(x)\n",
    "\n",
    "primal, tangent = jax.jvp(grad_f_closure, (x,), (eye[..., i],))\n"
   ]
  },
  {
   "cell_type": "code",
   "execution_count": null,
   "id": "hydraulic-banana",
   "metadata": {},
   "outputs": [],
   "source": [
    "# compare the energy\n",
    "def local_kinetic_energy(f):\n",
    "\n",
    "  def _lapl_over_f(params, x):  # this is recalled everytime\n",
    "    n = x.shape[0]\n",
    "    eye = jnp.eye(n)\n",
    "    grad_f = jax.grad(f, argnums=1)\n",
    "    grad_f_closure = lambda y: grad_f(params, y)  # ensuring the input can be just x\n",
    "\n",
    "    def _body_fun(i, val):\n",
    "      # primal is the first order evaluation\n",
    "      # tangent is the second order \n",
    "      primal, tangent = jax.jvp(grad_f_closure, (x,), (eye[i],))\n",
    "      return val + primal[i]**2 + tangent[i]\n",
    "\n",
    "    # from lower to upper\n",
    "    # (lower, upper, func(int, a) -> a, init_val)\n",
    "    # this is like functools.reduce()\n",
    "    # val is the previous  val (initialised to 0.0)\n",
    "    return -0.5 * lax.fori_loop(0, n, _body_fun, 0.0)\n",
    "\n",
    "  return _lapl_over_f\n",
    "\n",
    "\n",
    "ke = local_kinetic_energy(pmodel)\n"
   ]
  },
  {
   "cell_type": "code",
   "execution_count": null,
   "id": "insured-journalism",
   "metadata": {},
   "outputs": [],
   "source": []
  },
  {
   "cell_type": "code",
   "execution_count": null,
   "id": "greenhouse-force",
   "metadata": {},
   "outputs": [],
   "source": [
    "lp\n"
   ]
  },
  {
   "cell_type": "code",
   "execution_count": null,
   "id": "ordered-controversy",
   "metadata": {},
   "outputs": [],
   "source": [
    "# strip the diagonal \n",
    "# https://stackoverflow.com/questions/46736258/deleting-diagonal-elements-of-a-numpy-array\n",
    "\n",
    "# Approach #1 masking\n",
    "\n",
    "# A[~np.eye(A.shape[0],dtype=bool)].reshape(A.shape[0],-1)\n",
    "\n",
    "# # Approach #2\n",
    "\n",
    "# # Using the regular pattern of non-diagonal elements that could be traced with broadcasted additions with range arrays -\n",
    "\n",
    "# m = A.shape[0]\n",
    "# idx = (np.arange(1,m+1) + (m+1)*np.arange(m-1)[:,None]).reshape(m,-1)\n",
    "# out = A.ravel()[idx]\n",
    "\n",
    "# # Approach #3 (Strides Strikes!)\n",
    "\n",
    "# # Abusing the regular pattern of non-diagonal elements from previous approach, we can introduce np.lib.stride_tricks.as_strided and some slicing help, like so -\n",
    "\n",
    "# m = A.shape[0]\n",
    "# strided = np.lib.stride_tricks.as_strided\n",
    "# s0,s1 = A.strides\n",
    "# out = strided(A.ravel()[1:], shape=(m-1,m), strides=(s0+s1,s1)).reshape(m,-1)\n",
    "\n",
    "def skip_diag_masking(A):\n",
    "    return A[~np.eye(A.shape[0],dtype=bool)].reshape(A.shape[0],-1)\n",
    "\n",
    "def skip_diag_broadcasting(A):\n",
    "    m = A.shape[0]\n",
    "    idx = (np.arange(1,m+1) + (m+1)*np.arange(m-1)[:,None]).reshape(m,-1)\n",
    "    return A.ravel()[idx]\n",
    "\n",
    "def skip_diag_strided(A):\n",
    "    m = A.shape[0]\n",
    "    strided = np.lib.stride_tricks.as_strided\n",
    "    s0,s1 = A.strides\n",
    "    return strided(A.ravel()[1:], shape=(m-1,m), strides=(s0+s1,s1)).reshape(m,-1)\n",
    "\n",
    "# Timings -\n",
    "\n",
    "A = np.random.randint(11,99,(5000,5000))\n",
    "\n",
    "%timeit skip_diag_masking(A)\n",
    "%timeit skip_diag_broadcasting(A)\n",
    "%timeit skip_diag_strided(A)\n",
    "#      ...: \n",
    "# 10 loops, best of 3: 56.1 ms per loop\n",
    "# 10 loops, best of 3: 82.1 ms per loop\n",
    "# 10 loops, best of 3: 32.6 ms per loop\n",
    "\n",
    "\n",
    "    "
   ]
  },
  {
   "cell_type": "code",
   "execution_count": null,
   "id": "fluid-volleyball",
   "metadata": {},
   "outputs": [],
   "source": []
  },
  {
   "cell_type": "code",
   "execution_count": null,
   "id": "unnecessary-valve",
   "metadata": {},
   "outputs": [],
   "source": [
    "def compute_potential_energy(r_atom, r_electron, z_atom):\n",
    "    n_samples, n_electron = r_electron.shape[:2]\n",
    "    n_atom = r_atom.shape[1]\n",
    "\n",
    "    potential_energy = jnp.zeros(n_samples)\n",
    "\n",
    "    e_e_dist = batched_cdist_l2(r_electron, r_electron)  # electron - electron distances\n",
    "    potential_energy += jnp.sum(jnp.tril(1. / e_e_dist, k=-1), axis=(-1, -2))\n",
    "\n",
    "    a_e_dist = batched_cdist_l2(r_atom, r_electron)  # atom - electron distances\n",
    "    potential_energy -= jnp.einsum('a,bae->b', z_atom, 1./a_e_dist)\n",
    "\n",
    "    if n_atom > 1:  # THIS HAS NOT BEEN VERIFIED\n",
    "        a_a_dist = batched_cdist_l2(r_atom, r_atom)\n",
    "        weighted_a_a = jnp.einsum('bn,bm,bnm->bnm', z_atom, z_atom, 1/a_a_dist)\n",
    "        unique_a_a = weighted_a_a[:, jnp.tril(np.ones((n_atom, n_atom), dtype=bool), -1)]  # this will not work\n",
    "        potential_energy += jnp.sum(unique_a_a, axis=-1)\n",
    "\n",
    "    return potential_energy\n",
    "\n",
    "compute_potential_energy(r_atoms, walkers, z_atoms).shape"
   ]
  },
  {
   "cell_type": "code",
   "execution_count": null,
   "id": "baking-mauritius",
   "metadata": {},
   "outputs": [],
   "source": []
  }
 ],
 "metadata": {
  "kernelspec": {
   "display_name": "Python 3",
   "language": "python",
   "name": "python3"
  },
  "language_info": {
   "codemirror_mode": {
    "name": "ipython",
    "version": 3
   },
   "file_extension": ".py",
   "mimetype": "text/x-python",
   "name": "python",
   "nbconvert_exporter": "python",
   "pygments_lexer": "ipython3",
   "version": "3.8.8"
  }
 },
 "nbformat": 4,
 "nbformat_minor": 5
}
