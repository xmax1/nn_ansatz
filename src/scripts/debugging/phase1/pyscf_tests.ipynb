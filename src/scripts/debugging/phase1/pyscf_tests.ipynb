{
 "cells": [
  {
   "cell_type": "code",
   "execution_count": 15,
   "id": "charitable-glance",
   "metadata": {},
   "outputs": [
    {
     "name": "stdout",
     "output_type": "stream",
     "text": [
      "converged SCF energy = -14.351880476202\n",
      "E(HF) = -14.3519\n",
      "System: uname_result(system='Linux', node='xmax', release='5.4.0-70-generic', version='#78~18.04.1-Ubuntu SMP Sat Mar 20 14:10:07 UTC 2021', machine='x86_64', processor='x86_64')  Threads 12\n",
      "Python 3.8.8 (default, Feb 24 2021, 21:46:12) \n",
      "[GCC 7.3.0]\n",
      "numpy 1.20.2  scipy 1.6.2\n",
      "Date: Tue Mar 30 10:58:06 2021\n",
      "PySCF version 1.7.6\n",
      "PySCF path  /home/xmax/anaconda3/envs/xmax/lib/python3.8/site-packages/pyscf\n",
      "\n",
      "[CONFIG] conf_file None\n",
      "[INPUT] verbose = 4\n",
      "[INPUT] num. atoms = 1\n",
      "[INPUT] num. electrons = 4\n",
      "[INPUT] charge = 0\n",
      "[INPUT] spin (= nelec alpha-beta = 2S) = 0\n",
      "[INPUT] symmetry False subgroup None\n",
      "[INPUT] Mole.unit = Bohr\n",
      "[INPUT]  1 Be     0.000000000000   0.000000000000   0.000000000000 AA    0.000000000000   0.000000000000   0.000000000000 Bohr\n",
      "\n",
      "nuclear repulsion = 0\n",
      "number of shells = 3\n",
      "number of NR pGTOs = 15\n",
      "number of NR cGTOs = 5\n",
      "basis = sto3g\n",
      "ecp = {}\n",
      "CPU time:         4.61\n",
      "atom:  \n",
      "Be 0.0 0.0 0.0\n",
      "\n",
      "[[ 0.99289819 -0.29388069  0.          0.          0.        ]\n",
      " [ 0.02613766  1.03514709  0.          0.          0.        ]\n",
      " [-0.         -0.          1.          0.          0.        ]\n",
      " [ 0.         -0.          0.          1.          0.        ]\n",
      " [ 0.         -0.          0.          0.          1.        ]]\n"
     ]
    }
   ],
   "source": [
    "from pyscf import gto\n",
    "from pyscf import scf\n",
    "import numpy as np\n",
    "import pickle\n",
    "\n",
    "samples = np.random.normal(0., 1., (100, 3))\n",
    "mol = gto.Mole()\n",
    "mol.atom = \"\"\"\n",
    "Be 0.0 0.0 0.0\n",
    "\"\"\"\n",
    "\n",
    "mol.unit = \"Bohr\"\n",
    "mol.basis = \"sto3g\"\n",
    "mol.build()\n",
    "\n",
    "m = scf.RHF(mol)\n",
    "print('E(HF) = %g' % m.kernel())\n",
    "\n",
    "number_of_atoms = mol.natm\n",
    "conv, e, mo_e, mo, mo_occ = scf.rhf.kernel(scf.hf.SCF(mol), dm0=np.eye(mol.nao_nr()))\n",
    "\n",
    "# scf.RHF(mol).run().analyze()\n",
    "# basis = gto.mole.uncontract(gto.load(\"cc-pvDZ\", \"Be\"))\n",
    "# e_scf=mf.kernel()\n",
    "\n",
    "data = {\"super_twist\": mo, \"mol\": mol.atom, \"basis\": mol.basis, \"spin\": mol.spin}\n",
    "\n",
    "# def reader(path):\n",
    "mol = gto.Mole()\n",
    "mol.atom = data[\"mol\"]\n",
    "mol.unit = \"Bohr\"\n",
    "mol.basis = data[\"basis\"]\n",
    "mol.verbose = 4\n",
    "mol.spin = data[\"spin\"]\n",
    "# mol.charge = 1\n",
    "mol.build()\n",
    "number_of_electrons = mol.tot_electrons()\n",
    "number_of_atoms = mol.natm\n",
    "ST = data[\"super_twist\"]\n",
    "print('atom: ', mol.atom)\n",
    "\n",
    "print(ST)\n",
    "\n",
    "x = mol.eval_gto(\"GTOval_cart\", samples)\n"
   ]
  },
  {
   "cell_type": "code",
   "execution_count": 16,
   "id": "occasional-estate",
   "metadata": {},
   "outputs": [
    {
     "name": "stdout",
     "output_type": "stream",
     "text": [
      "converged SCF energy = -14.351880476202\n",
      "[[ 0.99289819 -0.29388069  0.          0.          0.        ]\n",
      " [ 0.02613766  1.03514709  0.          0.          0.        ]\n",
      " [-0.         -0.          1.          0.          0.        ]\n",
      " [ 0.         -0.          0.          1.          0.        ]\n",
      " [ 0.         -0.          0.          0.          1.        ]]\n"
     ]
    }
   ],
   "source": [
    "from pyscf import dft, gto\n",
    "from pyscf.scf import RHF\n",
    "\n",
    "atom = [[4, (0., 0., 0.)]]\n",
    "basis = 'sto3g'\n",
    "mol = gto.M(atom=atom,\n",
    "            unit='Bohr',\n",
    "            basis=basis,\n",
    "            charge=0,\n",
    "            spin=0)\n",
    "mol.build()\n",
    "pyscf_mol = mol\n",
    "\n",
    "\n",
    "mf = RHF(mol)\n",
    "mf.kernel()\n",
    "\n",
    "mf = mf\n",
    "moT = mf.mo_coeff\n",
    "\n",
    "print(moT)\n",
    "\n",
    "y = mol.eval_gto(\"GTOval_cart\", samples)"
   ]
  },
  {
   "cell_type": "code",
   "execution_count": 18,
   "id": "oriental-request",
   "metadata": {},
   "outputs": [
    {
     "data": {
      "text/plain": [
       "(100, 5)"
      ]
     },
     "execution_count": 18,
     "metadata": {},
     "output_type": "execute_result"
    }
   ],
   "source": [
    "(x - y).shape"
   ]
  },
  {
   "cell_type": "code",
   "execution_count": 22,
   "id": "electoral-usage",
   "metadata": {},
   "outputs": [
    {
     "data": {
      "text/plain": [
       "(50, 3)"
      ]
     },
     "execution_count": 22,
     "metadata": {},
     "output_type": "execute_result"
    }
   ],
   "source": [
    "import jax.numpy as jnp\n",
    "jnp.split(samples, 2, axis=0)[1].shape"
   ]
  },
  {
   "cell_type": "code",
   "execution_count": null,
   "id": "brazilian-period",
   "metadata": {},
   "outputs": [],
   "source": []
  }
 ],
 "metadata": {
  "kernelspec": {
   "display_name": "Python 3",
   "language": "python",
   "name": "python3"
  },
  "language_info": {
   "codemirror_mode": {
    "name": "ipython",
    "version": 3
   },
   "file_extension": ".py",
   "mimetype": "text/x-python",
   "name": "python",
   "nbconvert_exporter": "python",
   "pygments_lexer": "ipython3",
   "version": "3.8.8"
  }
 },
 "nbformat": 4,
 "nbformat_minor": 5
}
