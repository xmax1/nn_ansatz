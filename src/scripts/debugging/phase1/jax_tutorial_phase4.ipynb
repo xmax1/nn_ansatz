{
 "cells": [
  {
   "cell_type": "code",
   "execution_count": 1,
   "id": "conscious-specialist",
   "metadata": {},
   "outputs": [],
   "source": [
    "%load_ext autoreload\n",
    "%autoreload 2\n",
    "\n",
    "import os\n",
    "os.environ[\"JAX_PLATFORM_NAME\"] = \"cpu\"\n"
   ]
  },
  {
   "cell_type": "code",
   "execution_count": 2,
   "id": "looking-evolution",
   "metadata": {},
   "outputs": [
    {
     "data": {
      "text/plain": [
       "DeviceArray([ 1.2737546 ,  2.4117248 ,  1.3882742 ,  0.7035917 ,\n",
       "              2.193741  ,  0.16973034,  1.3588555 , -0.5840599 ,\n",
       "              0.60256624,  1.2763157 , -0.31434137,  1.4645936 ,\n",
       "              2.126335  ,  0.78721184,  0.50604457, -1.538333  ,\n",
       "              0.73629296,  1.7001914 ,  1.496785  ,  0.36924478,\n",
       "              1.0543514 ,  0.9789985 ,  0.35151017, -0.066497  ,\n",
       "             -0.11481832, -0.18533254, -0.29030418,  0.7003464 ,\n",
       "             -0.76301354,  1.0972972 ,  0.69392604,  2.119694  ,\n",
       "             -0.09748547,  0.50608397,  0.7576622 ,  0.41617453,\n",
       "              0.32975954,  0.47700652, -0.27752584,  0.38763425,\n",
       "             -0.5255122 ,  1.0126301 ,  1.5729288 ,  0.66961694,\n",
       "              1.9571755 ,  0.65423685,  0.01874596,  0.6467748 ,\n",
       "             -0.22355916,  0.27673158,  1.6970062 , -0.5874497 ,\n",
       "              0.84318596, -0.10330604,  0.43957442, -0.03459455,\n",
       "              0.6331224 , -0.0070661 , -0.37678435, -0.09135703,\n",
       "             -0.2196901 ,  1.1298907 , -0.13484366,  0.61795485,\n",
       "              0.09807605,  0.36948827, -0.35639092,  0.10993996,\n",
       "              0.13844255,  1.6222696 ,  0.21020792,  0.72687256,\n",
       "              0.07807881,  0.50991505,  0.7395242 ,  1.316966  ,\n",
       "              0.5560726 ,  1.6274737 ,  0.03535041, -0.36740157,\n",
       "              1.218992  , -0.74511325,  1.1301435 ,  0.16495736,\n",
       "              1.4610145 ,  0.5568652 ,  0.13466817,  1.2335798 ,\n",
       "             -0.24078259,  2.4585693 ,  1.5488342 ,  0.09044698,\n",
       "              0.15358847,  0.33268827,  2.064854  ,  0.69833535,\n",
       "             -0.24246614,  0.10069941,  1.2762915 ,  1.4049544 ],            dtype=float32)"
      ]
     },
     "execution_count": 2,
     "metadata": {},
     "output_type": "execute_result"
    }
   ],
   "source": [
    "import jax.random as rnd\n",
    "import jax.numpy as jnp\n",
    "key = rnd.PRNGKey(1)\n",
    "x = rnd.normal(key, (100,2))\n",
    "jnp.max(x, axis=-1)"
   ]
  },
  {
   "cell_type": "code",
   "execution_count": 3,
   "id": "stable-opportunity",
   "metadata": {},
   "outputs": [
    {
     "name": "stderr",
     "output_type": "stream",
     "text": [
      "/home/xmax/anaconda3/envs/xmax/lib/python3.8/site-packages/pyscf/lib/misc.py:46: H5pyDeprecationWarning: Using default_file_mode other than 'r' is deprecated. Pass the mode to h5py.File() instead.\n",
      "  h5py.get_config().default_file_mode = 'a'\n"
     ]
    }
   ],
   "source": [
    "import numpy as np\n",
    "from ops.utils import compare\n",
    "from functools import partial\n",
    "\n",
    "from jax.config import config\n",
    "config.update(\"jax_enable_x64\", True)\n",
    "\n",
    "import jax\n",
    "import jax.numpy as jnp\n",
    "from jax import random as rnd\n",
    "from jax import lax, jit, vmap\n",
    "from jax.tree_util import tree_structure, tree_flatten, tree_unflatten\n",
    "\n",
    "from pytorch.models.og.model import fermiNet\n",
    "from pytorch.sampling import MetropolisHasting\n",
    "from pytorch.vmc import *\n",
    "from pytorch.pretraining import Pretrainer\n",
    "from pytorch.systems import Molecule as Moleculetc\n",
    "from pytorch.utils import update_state_dict, from_np\n",
    "import torch as tc\n",
    "tc.set_default_dtype(tc.float64)\n",
    "\n",
    "from ops.vmc.utils import create_atom_batch\n",
    "from ops.systems import Molecule\n",
    "from ops.wf.ferminet import create_wf, create_masks\n",
    "from ops.wf.parameters import initialise_params, count_mixed_features\n",
    "from ops.sampling import create_sampler\n",
    "from ops.vmc import create_energy_fn, local_kinetic_energy, compute_potential_energy\n",
    "from ops.pretraining import create_loss_and_sampler"
   ]
  },
  {
   "cell_type": "code",
   "execution_count": 4,
   "id": "front-comparative",
   "metadata": {
    "scrolled": true
   },
   "outputs": [
    {
     "name": "stdout",
     "output_type": "stream",
     "text": [
      "System: \n",
      " n_atoms = 1 \n",
      " n_up    = 2 \n",
      " n_down  = 2 \n",
      "\n",
      "converged SCF energy = -14.351880476202\n",
      "System: \n",
      " Device  = cpu \n",
      " dtype   = torch.float64 \n",
      " n_atoms = 1 \n",
      " n_up    = 2 \n",
      " n_down  = 2 \n",
      "\n",
      "converged SCF energy = -14.351880476202\n",
      "Model: \n",
      " device   = cpu \n",
      " n_sh     = 64 \n",
      " n_ph     = 16 \n",
      " n_layers = 2 \n",
      " n_det    = 1 \n",
      "\n"
     ]
    },
    {
     "ename": "AssertionError",
     "evalue": "",
     "output_type": "error",
     "traceback": [
      "\u001b[0;31m---------------------------------------------------------------------------\u001b[0m",
      "\u001b[0;31mAssertionError\u001b[0m                            Traceback (most recent call last)",
      "\u001b[0;32m<ipython-input-4-d25f7594311f>\u001b[0m in \u001b[0;36m<module>\u001b[0;34m\u001b[0m\n\u001b[1;32m     28\u001b[0m \u001b[0;34m\u001b[0m\u001b[0m\n\u001b[1;32m     29\u001b[0m \u001b[0mmodel_tc\u001b[0m \u001b[0;34m=\u001b[0m \u001b[0mfermiNet\u001b[0m\u001b[0;34m(\u001b[0m\u001b[0mmol_tc\u001b[0m\u001b[0;34m,\u001b[0m \u001b[0mn_det\u001b[0m\u001b[0;34m=\u001b[0m\u001b[0;36m1\u001b[0m\u001b[0;34m,\u001b[0m \u001b[0mn_sh\u001b[0m\u001b[0;34m=\u001b[0m\u001b[0;36m64\u001b[0m\u001b[0;34m,\u001b[0m \u001b[0mn_ph\u001b[0m\u001b[0;34m=\u001b[0m\u001b[0;36m16\u001b[0m\u001b[0;34m,\u001b[0m \u001b[0mdiagonal\u001b[0m\u001b[0;34m=\u001b[0m\u001b[0;32mFalse\u001b[0m\u001b[0;34m)\u001b[0m\u001b[0;34m\u001b[0m\u001b[0;34m\u001b[0m\u001b[0m\n\u001b[0;32m---> 30\u001b[0;31m \u001b[0mmodel_tc\u001b[0m \u001b[0;34m=\u001b[0m \u001b[0mupdate_state_dict\u001b[0m\u001b[0;34m(\u001b[0m\u001b[0mmodel_tc\u001b[0m\u001b[0;34m,\u001b[0m \u001b[0mparams\u001b[0m\u001b[0;34m)\u001b[0m\u001b[0;34m\u001b[0m\u001b[0;34m\u001b[0m\u001b[0m\n\u001b[0m",
      "\u001b[0;32m~/nn_ansatz/src/pytorch/utils.py\u001b[0m in \u001b[0;36mupdate_state_dict\u001b[0;34m(model_tc, params)\u001b[0m\n\u001b[1;32m     24\u001b[0m     \u001b[0msd\u001b[0m \u001b[0;34m=\u001b[0m \u001b[0mmodel_tc\u001b[0m\u001b[0;34m.\u001b[0m\u001b[0mstate_dict\u001b[0m\u001b[0;34m(\u001b[0m\u001b[0;34m)\u001b[0m\u001b[0;34m\u001b[0m\u001b[0;34m\u001b[0m\u001b[0m\n\u001b[1;32m     25\u001b[0m     \u001b[0;32mfor\u001b[0m \u001b[0;34m(\u001b[0m\u001b[0mk\u001b[0m\u001b[0;34m,\u001b[0m \u001b[0mval\u001b[0m\u001b[0;34m)\u001b[0m\u001b[0;34m,\u001b[0m \u001b[0mp\u001b[0m \u001b[0;32min\u001b[0m \u001b[0mzip\u001b[0m\u001b[0;34m(\u001b[0m\u001b[0msd\u001b[0m\u001b[0;34m.\u001b[0m\u001b[0mitems\u001b[0m\u001b[0;34m(\u001b[0m\u001b[0;34m)\u001b[0m\u001b[0;34m,\u001b[0m \u001b[0mtmp\u001b[0m\u001b[0;34m)\u001b[0m\u001b[0;34m:\u001b[0m\u001b[0;34m\u001b[0m\u001b[0;34m\u001b[0m\u001b[0m\n\u001b[0;32m---> 26\u001b[0;31m         \u001b[0;32massert\u001b[0m \u001b[0mval\u001b[0m\u001b[0;34m.\u001b[0m\u001b[0mshape\u001b[0m \u001b[0;34m==\u001b[0m \u001b[0mp\u001b[0m\u001b[0;34m.\u001b[0m\u001b[0mshape\u001b[0m\u001b[0;34m\u001b[0m\u001b[0;34m\u001b[0m\u001b[0m\n\u001b[0m\u001b[1;32m     27\u001b[0m         \u001b[0msd\u001b[0m\u001b[0;34m[\u001b[0m\u001b[0mk\u001b[0m\u001b[0;34m]\u001b[0m \u001b[0;34m=\u001b[0m \u001b[0mfrom_np\u001b[0m\u001b[0;34m(\u001b[0m\u001b[0mp\u001b[0m\u001b[0;34m)\u001b[0m\u001b[0;34m\u001b[0m\u001b[0;34m\u001b[0m\u001b[0m\n\u001b[1;32m     28\u001b[0m \u001b[0;34m\u001b[0m\u001b[0m\n",
      "\u001b[0;31mAssertionError\u001b[0m: "
     ]
    }
   ],
   "source": [
    "# randomness\n",
    "key = rnd.PRNGKey(1)\n",
    "key, *subkeys = rnd.split(key, num=3)\n",
    "\n",
    "# system\n",
    "n_walkers = 1024\n",
    "n_el = 4\n",
    "r_atoms = jnp.array([[0.0, 0.0, 0.0]])\n",
    "z_atoms = jnp.array([4.])\n",
    "\n",
    "# ansatz\n",
    "\n",
    "mol = Molecule(r_atoms, z_atoms, n_el, n_det=1)\n",
    "walkers = mol.initialise_walkers(n_walkers=n_walkers)\n",
    "wf, wf_orbitals = create_wf(mol)\n",
    "vwf = vmap(wf, in_axes=(None, 0, 0))\n",
    "sampler = create_sampler(wf, correlation_length=10)\n",
    "params = initialise_params(subkeys[0], mol)\n",
    "compute_energy = create_energy_fn(wf, r_atoms, z_atoms)\n",
    "laplacian_jax = jit(vmap(local_kinetic_energy(wf), in_axes=(None, 0)))\n",
    "loss_function, sampler = create_loss_and_sampler(mol, wf, wf_orbitals)\n",
    "\n",
    "walkers_tc = from_np(walkers)\n",
    "r_atoms_tc = from_np(create_atom_batch(r_atoms, n_walkers))\n",
    "z_atoms_tc = from_np(z_atoms)\n",
    "\n",
    "mol_tc = Moleculetc(r_atoms_tc, z_atoms_tc, n_el, device='cpu', dtype=r_atoms_tc.dtype)\n",
    "\n",
    "model_tc = fermiNet(mol_tc, n_det=1, n_sh=64, n_ph=16, diagonal=False)\n",
    "model_tc = update_state_dict(model_tc, params)\n"
   ]
  },
  {
   "cell_type": "code",
   "execution_count": null,
   "id": "outstanding-cuisine",
   "metadata": {},
   "outputs": [],
   "source": [
    "\n",
    "tree_structure(params)\n",
    "flat, tree = tree_flatten(params)\n",
    "print(params['s0'][0,0])\n",
    "\n",
    "flat = [f * 0.1 for f in flat]\n",
    "p2 = tree_unflatten(tree, flat)\n",
    "print(p2['s0'][0,0])"
   ]
  },
  {
   "cell_type": "code",
   "execution_count": null,
   "id": "cheap-county",
   "metadata": {},
   "outputs": [],
   "source": [
    "lp = vwf(params, walkers)\n",
    "lp_tc = model_tc(walkers_tc)\n",
    "compare(lp_tc, lp)\n",
    "\n",
    "ek_tc = laplacian(model_tc, walkers_tc)\n",
    "ek_tc = -0.5 * (ek_tc[0].sum(-1) + ek_tc[1].sum(-1))\n",
    "ek_jax = laplacian_jax(params, walkers)\n",
    "compare(ek_tc, ek_jax)\n",
    "\n",
    "e_jax = compute_energy(params, walkers)\n",
    "e_tc = compute_local_energy(model_tc, walkers_tc, r_atoms_tc, z_atoms_tc)\n",
    "compare(e_tc, e_jax)"
   ]
  },
  {
   "cell_type": "code",
   "execution_count": null,
   "id": "desperate-gentleman",
   "metadata": {},
   "outputs": [],
   "source": [
    "loss_function(params, walkers)"
   ]
  },
  {
   "cell_type": "code",
   "execution_count": null,
   "id": "armed-strip",
   "metadata": {},
   "outputs": [],
   "source": [
    "vwf(params, walkers)"
   ]
  },
  {
   "cell_type": "code",
   "execution_count": null,
   "id": "global-hughes",
   "metadata": {},
   "outputs": [],
   "source": [
    "print(e_tc)"
   ]
  },
  {
   "cell_type": "code",
   "execution_count": null,
   "id": "southwest-mortality",
   "metadata": {},
   "outputs": [],
   "source": [
    "print(e_jax)"
   ]
  },
  {
   "cell_type": "code",
   "execution_count": null,
   "id": "excessive-techno",
   "metadata": {},
   "outputs": [],
   "source": [
    "n, f, i, k =  2, 10, 3, 4\n",
    "x = rnd.normal(key, (n, f))\n",
    "y = rnd.normal(key, (f, i, k))\n",
    "jnp.dot(x, y)\n",
    "x @ y"
   ]
  },
  {
   "cell_type": "code",
   "execution_count": null,
   "id": "super-aluminum",
   "metadata": {},
   "outputs": [],
   "source": [
    "n, f, i, k =  2, 10, 3, 4\n",
    "x = rnd.normal(key, (f, n))\n",
    "y = rnd.normal(key, (k, i, f))\n",
    "z = jnp.dot(y, x)\n",
    "print(z.shape)"
   ]
  },
  {
   "cell_type": "code",
   "execution_count": null,
   "id": "premier-frost",
   "metadata": {},
   "outputs": [],
   "source": [
    "jnp.prod(jnp.array((1, 2, 3)))"
   ]
  },
  {
   "cell_type": "code",
   "execution_count": 5,
   "id": "color-dimension",
   "metadata": {},
   "outputs": [],
   "source": [
    "# potential energy\n",
    "\n",
    "def batched_cdist_l2(x1, x2):\n",
    "    x1_norm = (x1 ** 2).sum(-1, keepdim=True)\n",
    "    x2_norm = (x2 ** 2).sum(-1, keepdim=True)\n",
    "    cdist = (x2_norm.transpose(-1, -2) + x1_norm - 2 * x1 @ x2.transpose(-1, -2)).sqrt()\n",
    "    return cdist\n",
    "\n",
    "def pe_tc(r_atom: tc.Tensor, r_electron: tc.Tensor, z_atom: tc.Tensor) -> tc.Tensor:\n",
    "    n_samples, n_electron = r_electron.shape[:2]\n",
    "    n_atom = r_atom.shape[1]\n",
    "\n",
    "    potential_energy = tc.zeros(n_samples)\n",
    "\n",
    "    e_e_dist = batched_cdist_l2(r_electron, r_electron)  # electron - electron distances\n",
    "    potential_energy += tc.tril(1. / e_e_dist, diagonal=-1).sum((-1, -2))\n",
    "\n",
    "    a_e_dist = batched_cdist_l2(r_atom, r_electron)  # atom - electron distances\n",
    "    potential_energy -= tc.einsum('a,bae->b', z_atom, 1./a_e_dist)\n",
    "\n",
    "    return potential_energy\n",
    "\n",
    "pe_tc = pe_tc(r_atoms_tc, walkers_tc, z_atoms_tc)\n",
    "\n",
    "pe_jax = compute_potential_energy(walkers, r_atoms, z_atoms)"
   ]
  },
  {
   "cell_type": "code",
   "execution_count": 8,
   "id": "speaking-attempt",
   "metadata": {},
   "outputs": [
    {
     "name": "stdout",
     "output_type": "stream",
     "text": [
      "[0.00000000e+00 1.77635684e-15 0.00000000e+00 ... 0.00000000e+00\n",
      " 0.00000000e+00 0.00000000e+00]\n"
     ]
    }
   ],
   "source": [
    "print(pe_tc.numpy() - pe_jax)"
   ]
  },
  {
   "cell_type": "code",
   "execution_count": null,
   "id": "angry-monitoring",
   "metadata": {},
   "outputs": [],
   "source": []
  }
 ],
 "metadata": {
  "kernelspec": {
   "display_name": "Python 3",
   "language": "python",
   "name": "python3"
  },
  "language_info": {
   "codemirror_mode": {
    "name": "ipython",
    "version": 3
   },
   "file_extension": ".py",
   "mimetype": "text/x-python",
   "name": "python",
   "nbconvert_exporter": "python",
   "pygments_lexer": "ipython3",
   "version": "3.8.8"
  }
 },
 "nbformat": 4,
 "nbformat_minor": 5
}
