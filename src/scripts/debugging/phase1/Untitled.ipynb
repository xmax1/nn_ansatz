{
 "cells": [
  {
   "cell_type": "code",
   "execution_count": null,
   "id": "fifth-blackberry",
   "metadata": {},
   "outputs": [],
   "source": [
    "import torch\n",
    "\n",
    "m, n, p = 100, 4, 10\n",
    "\n",
    "def grads(x):\n",
    "    m, n, p = x.shape\n",
    "    n_flat = n * p\n",
    "    \n",
    "    x = x.reshape(m, n_flat)\n",
    "    x_flat = [x[..., i].requires_grad_(True) for i in range(n_flat)]\n",
    "    x_prime = torch.stack(x_flat, -1)\n",
    "    x = x_prime.view(m, n, p)\n",
    "    y = function(x)\n",
    "    \n",
    "    dy_dx = torch.autograd.grad(y.sum(), x_prime, create_graph=True, retain_graph=True)[0]\n",
    "    dy_dx_prime = torch.split(dy_dx, 1, -1)\n",
    "    \n",
    "    laplace = [torch.autograd.grad(g.sum(), xt, retain_graph=True)[0] for g, xt in zip(dy_dx_prime, x_flat)]\n",
    "    \n",
    "    return torch.stack(laplace)\n",
    "\n",
    "def function(x):\n",
    "    w = torch.normal(0., 1., (x.shape[-1],1), device=x.device)\n",
    "    return (x @ w).sum(1).tanh()\n",
    "    \n",
    "x = torch.normal(0., 1., (m, n, p)).to('cuda')\n",
    "\n",
    "grads(x)\n",
    "\n",
    "# def laplacian(model: nn.Module, walkers: tc.Tensor) -> Tuple[tc.Tensor, tc.Tensor]:\n",
    "#     n_walkers, n_el = walkers.shape[:2]\n",
    "#     n_r = 3 * n_el\n",
    "\n",
    "#     walkers = walkers.reshape(n_walkers, n_r)\n",
    "#     r_s = [walkers[..., i].requires_grad_(True) for i in range(n_r)]\n",
    "#     positions = tc.stack(r_s, -1)\n",
    "#     walkers = positions.view(n_walkers, n_el, 3)\n",
    "#     log_phi = model(walkers)\n",
    "\n",
    "#     dlogphi_dr = tc.autograd.grad(log_phi.sum(), positions, create_graph=True, retain_graph=True)[0]\n",
    "#     grads = tc.split(dlogphi_dr, 1, -1)\n",
    "\n",
    "#     d2logphi_dr2 = tc.stack([tc.autograd.grad(grad.sum(), r, retain_graph=True)[0] for grad, r in zip(grads, r_s)], 1)\n",
    "\n",
    "#     return dlogphi_dr**2, d2logphi_dr2"
   ]
  },
  {
   "cell_type": "code",
   "execution_count": null,
   "id": "employed-journalism",
   "metadata": {},
   "outputs": [],
   "source": []
  }
 ],
 "metadata": {
  "kernelspec": {
   "display_name": "Python 3",
   "language": "python",
   "name": "python3"
  },
  "language_info": {
   "codemirror_mode": {
    "name": "ipython",
    "version": 3
   },
   "file_extension": ".py",
   "mimetype": "text/x-python",
   "name": "python",
   "nbconvert_exporter": "python",
   "pygments_lexer": "ipython3",
   "version": "3.7.0"
  }
 },
 "nbformat": 4,
 "nbformat_minor": 5
}
