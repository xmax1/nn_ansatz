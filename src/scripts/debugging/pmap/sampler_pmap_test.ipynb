{
 "cells": [
  {
   "cell_type": "code",
   "execution_count": 1,
   "id": "smart-theme",
   "metadata": {},
   "outputs": [
    {
     "name": "stdout",
     "output_type": "stream",
     "text": [
      "Devices:  [CpuDevice(id=0), CpuDevice(id=1), CpuDevice(id=2), CpuDevice(id=3)]\n"
     ]
    },
    {
     "name": "stderr",
     "output_type": "stream",
     "text": [
      "/home/xmax/anaconda3/envs/xmax/lib/python3.8/site-packages/pyscf/lib/misc.py:46: H5pyDeprecationWarning: Using default_file_mode other than 'r' is deprecated. Pass the mode to h5py.File() instead.\n",
      "  h5py.get_config().default_file_mode = 'a'\n"
     ]
    }
   ],
   "source": [
    "import os\n",
    "os.environ['JAX_PLATFORM_NAME']='cpu'\n",
    "os.environ['XLA_FLAGS']=\"--xla_force_host_platform_device_count=4\"\n",
    "\n",
    "import jax\n",
    "import jax.numpy as jnp\n",
    "from jax import local_device_count\n",
    "devices = jax.devices()\n",
    "n_devices = len(devices)\n",
    "print('Devices: ', devices)\n",
    "\n",
    "from jax import pmap\n",
    "import jax.random as rnd\n",
    "\n",
    "from nn_ansatx import *"
   ]
  },
  {
   "cell_type": "code",
   "execution_count": 2,
   "id": "powerful-flesh",
   "metadata": {},
   "outputs": [],
   "source": [
    "key_gen = lambda keys: [x.squeeze() for x in jnp.array([rnd.split(key) for key in keys]).split(2, axis=1)]"
   ]
  },
  {
   "cell_type": "code",
   "execution_count": 3,
   "id": "stylish-blackjack",
   "metadata": {},
   "outputs": [],
   "source": [
    "def split_variables_for_pmap(n_devices, *args):\n",
    "    for i in range(len(args))[:-1]:\n",
    "        assert len(args[i]) == len(args[i+1])\n",
    "    \n",
    "    assert len(args[0]) % n_devices == 0\n",
    "        \n",
    "    new_args = []\n",
    "    for arg in args:\n",
    "        shape = arg.shape\n",
    "        new_args.append(arg.reshape(n_devices, shape[0] // n_devices, *shape[1:]))\n",
    "    \n",
    "    if len(args) == 1:\n",
    "        return new_args[0]\n",
    "    return new_args\n",
    "        "
   ]
  },
  {
   "cell_type": "code",
   "execution_count": 7,
   "id": "unable-teacher",
   "metadata": {},
   "outputs": [
    {
     "name": "stdout",
     "output_type": "stream",
     "text": [
      "version \t\t 110521\n",
      "seed \t\t 369\n",
      "n_devices \t\t 4\n",
      "save_every \t\t 1000\n",
      "print_every \t\t 0\n",
      "exp_dir \t\t /home/xmax/projects/nn_ansatz/src/scripts/debugging/pmap/experiments/Be/junk/kfac_1lr-4_1d-4_1nc-4_m1024_s32_p8_l2_det2/run10\n",
      "events_dir \t\t /home/xmax/projects/nn_ansatz/src/scripts/debugging/pmap/experiments/Be/junk/kfac_1lr-4_1d-4_1nc-4_m1024_s32_p8_l2_det2/run10/events\n",
      "models_dir \t\t /home/xmax/projects/nn_ansatz/src/scripts/debugging/pmap/experiments/Be/junk/kfac_1lr-4_1d-4_1nc-4_m1024_s32_p8_l2_det2/run10/models\n",
      "opt_state_dir \t\t /home/xmax/projects/nn_ansatz/src/scripts/debugging/pmap/experiments/Be/junk/kfac_1lr-4_1d-4_1nc-4_m1024_s32_p8_l2_det2/run10/models/opt_state\n",
      "pre_path \t\t /home/xmax/projects/nn_ansatz/src/scripts/debugging/pmap/experiments/Be/pretrained/s32_p8_l2_det2_1lr-4_i1000.pk\n",
      "timing_dir \t\t /home/xmax/projects/nn_ansatz/src/scripts/debugging/pmap/experiments/Be/junk/kfac_1lr-4_1d-4_1nc-4_m1024_s32_p8_l2_det2/run10/events/timing\n",
      "system \t\t Be\n",
      "r_atoms \t\t [[0. 0. 0.]]\n",
      "z_atoms \t\t [4.]\n",
      "n_el \t\t 4\n",
      "n_el_atoms \t\t [4]\n",
      "periodic_boundaries \t\t False\n",
      "real_basis \t\t None\n",
      "unit_cell_length \t\t None\n",
      "real_cut \t\t None\n",
      "reciprocal_cut \t\t None\n",
      "kappa \t\t None\n",
      "n_layers \t\t 2\n",
      "n_sh \t\t 32\n",
      "n_ph \t\t 8\n",
      "n_det \t\t 2\n",
      "opt \t\t kfac\n",
      "lr \t\t 0.0001\n",
      "damping \t\t 0.0001\n",
      "norm_constraint \t\t 0.0001\n",
      "n_it \t\t 1000\n",
      "load_it \t\t 0\n",
      "n_walkers \t\t 1024\n",
      "n_walkers_per_device \t\t 256\n",
      "step_size \t\t 0.02\n",
      "pre_lr \t\t 0.0001\n",
      "n_pre_it \t\t 1000\n",
      "load_pretrain \t\t True\n",
      "pretrain \t\t False\n",
      "System: \n",
      " n_atoms = 1 \n",
      " n_up    = 2 \n",
      " n_down  = 2 \n",
      " n_el    = 4 \n",
      "\n",
      "Ansatz: \n",
      " n_layers = 2 \n",
      " n_det    = 2 \n",
      " n_sh     = 32 \n",
      " n_ph     = 8 \n",
      "\n",
      "converged SCF energy = -14.351880476202\n"
     ]
    }
   ],
   "source": [
    "key = rnd.PRNGKey(123)\n",
    "\n",
    "config = setup()\n",
    "\n",
    "mol = SystemAnsatz(**config)\n",
    "\n",
    "wf, kfac_wf, wf_orbitals = create_wf(mol)\n",
    "params = initialise_params(key, mol)\n",
    "d0s = expand_d0s(initialise_d0s(mol), config['n_walkers'] // n_devices)\n",
    "walkers = mol.initialise_walkers(n_walkers=config['n_walkers'])"
   ]
  },
  {
   "cell_type": "code",
   "execution_count": 5,
   "id": "appointed-import",
   "metadata": {},
   "outputs": [
    {
     "name": "stdout",
     "output_type": "stream",
     "text": [
      "(4, 2) (4, 2)\n"
     ]
    }
   ],
   "source": [
    "key = rnd.PRNGKey(123)\n",
    "keys = rnd.split(key, 4)\n",
    "keys, subkeys = key_gen(keys) \n",
    "print(keys.shape, subkeys.shape)"
   ]
  },
  {
   "cell_type": "code",
   "execution_count": 8,
   "id": "protective-portfolio",
   "metadata": {},
   "outputs": [],
   "source": [
    "\n",
    "sampler, equilibrate = create_sampler(wf, mol)\n",
    "psampler = pmap(sampler, in_axes=(None, 0, None, 0, None))\n",
    "pwalkers = split_variables_for_pmap(4, walkers)\n",
    "\n",
    "xwalkers, acceptance, step_size = psampler(params, pwalkers, d0s, subkeys, config['n_walkers'] // n_devices)"
   ]
  },
  {
   "cell_type": "code",
   "execution_count": 9,
   "id": "eight-workstation",
   "metadata": {},
   "outputs": [
    {
     "name": "stdout",
     "output_type": "stream",
     "text": [
      "(4, 256, 4, 3)\n"
     ]
    }
   ],
   "source": [
    "print(xwalkers.shape)"
   ]
  },
  {
   "cell_type": "code",
   "execution_count": 11,
   "id": "sharing-astronomy",
   "metadata": {},
   "outputs": [],
   "source": [
    "xwalkers, acceptance, step_size = psampler(params, xwalkers, d0s, subkeys, config['n_walkers'] // n_devices)"
   ]
  },
  {
   "cell_type": "code",
   "execution_count": 12,
   "id": "presidential-riverside",
   "metadata": {},
   "outputs": [
    {
     "name": "stdout",
     "output_type": "stream",
     "text": [
      "(4, 256, 4, 3)\n"
     ]
    }
   ],
   "source": [
    "print(xwalkers.shape)"
   ]
  },
  {
   "cell_type": "code",
   "execution_count": null,
   "id": "boring-vertical",
   "metadata": {},
   "outputs": [],
   "source": []
  }
 ],
 "metadata": {
  "kernelspec": {
   "display_name": "Python 3",
   "language": "python",
   "name": "python3"
  },
  "language_info": {
   "codemirror_mode": {
    "name": "ipython",
    "version": 3
   },
   "file_extension": ".py",
   "mimetype": "text/x-python",
   "name": "python",
   "nbconvert_exporter": "python",
   "pygments_lexer": "ipython3",
   "version": "3.8.8"
  }
 },
 "nbformat": 4,
 "nbformat_minor": 5
}
