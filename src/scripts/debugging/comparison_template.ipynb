{
 "cells": [
  {
   "cell_type": "code",
   "execution_count": null,
   "metadata": {},
   "outputs": [],
   "source": [
    "%load_ext autoreload\n",
    "%autoreload 2\n",
    "\n",
    "import os\n",
    "os.environ[\"JAX_PLATFORM_NAME\"] = \"cpu\"\n"
   ]
  },
  {
   "cell_type": "code",
   "execution_count": null,
   "metadata": {},
   "outputs": [],
   "source": [
    "import numpy as np\n",
    "from ops.utils import compare\n",
    "from functools import partial\n",
    "\n",
    "from jax.config import config\n",
    "config.update(\"jax_enable_x64\", True)\n",
    "\n",
    "import jax\n",
    "import jax.numpy as jnp\n",
    "from jax import random as rnd\n",
    "from jax import lax, jit, vmap\n",
    "from jax.tree_util import tree_structure, tree_flatten, tree_unflatten\n",
    "\n",
    "from pytorch.models.og.model import fermiNet\n",
    "from pytorch.sampling import MetropolisHasting\n",
    "from pytorch.vmc import *\n",
    "from pytorch.pretraining import Pretrainer\n",
    "from pytorch.systems import Molecule as Moleculetc\n",
    "from pytorch.utils import update_state_dict, from_np\n",
    "import torch as tc\n",
    "tc.set_default_dtype(tc.float64)\n",
    "\n",
    "from ops.vmc.utils import create_atom_batch\n",
    "from ops.systems import Molecule\n",
    "from ops.wf.ferminet import create_wf, create_masks\n",
    "from ops.wf.parameters import initialise_params, count_mixed_features\n",
    "from ops.sampling import create_sampler\n",
    "from ops.vmc import create_energy_fn, local_kinetic_energy, compute_potential_energy\n",
    "from ops.pretraining import create_loss_and_sampler"
   ]
  },
  {
   "cell_type": "code",
   "execution_count": null,
   "metadata": {},
   "outputs": [],
   "source": [
    "# randomness\n",
    "key = rnd.PRNGKey(1)\n",
    "key, *subkeys = rnd.split(key, num=3)\n",
    "\n",
    "# system\n",
    "n_walkers = 1024\n",
    "n_el = 4\n",
    "r_atoms = jnp.array([[0.0, 0.0, 0.0]])\n",
    "z_atoms = jnp.array([4.])\n",
    "\n",
    "# ansatz\n",
    "\n",
    "mol = Molecule(r_atoms, z_atoms, n_el, n_det=1)\n",
    "walkers = mol.initialise_walkers(n_walkers=n_walkers)\n",
    "wf, wf_orbitals = create_wf(mol)\n",
    "vwf = vmap(wf, in_axes=(None, 0, 0))\n",
    "sampler = create_sampler(wf, correlation_length=10)\n",
    "params = initialise_params(subkeys[0], mol)\n",
    "compute_energy = create_energy_fn(wf, r_atoms, z_atoms)\n",
    "laplacian_jax = jit(vmap(local_kinetic_energy(wf), in_axes=(None, 0)))\n",
    "loss_function, sampler = create_loss_and_sampler(mol, wf, wf_orbitals)\n",
    "\n",
    "walkers_tc = from_np(walkers)\n",
    "r_atoms_tc = from_np(create_atom_batch(r_atoms, n_walkers))\n",
    "z_atoms_tc = from_np(z_atoms)\n",
    "\n",
    "mol_tc = Moleculetc(r_atoms_tc, z_atoms_tc, n_el, device='cpu', dtype=r_atoms_tc.dtype)\n",
    "\n",
    "model_tc = fermiNet(mol_tc, n_det=1, n_sh=64, n_ph=16, diagonal=False)\n",
    "model_tc = update_state_dict(model_tc, params)\n"
   ]
  }
 ],
 "metadata": {
  "kernelspec": {
   "display_name": "Python 3",
   "language": "python",
   "name": "python3"
  },
  "language_info": {
   "codemirror_mode": {
    "name": "ipython",
    "version": 3
   },
   "file_extension": ".py",
   "mimetype": "text/x-python",
   "name": "python",
   "nbconvert_exporter": "python",
   "pygments_lexer": "ipython3",
   "version": "3.8.5"
  }
 },
 "nbformat": 4,
 "nbformat_minor": 5
}
