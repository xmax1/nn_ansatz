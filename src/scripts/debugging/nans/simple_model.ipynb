{
 "metadata": {
  "language_info": {
   "codemirror_mode": {
    "name": "ipython",
    "version": 3
   },
   "file_extension": ".py",
   "mimetype": "text/x-python",
   "name": "python",
   "nbconvert_exporter": "python",
   "pygments_lexer": "ipython3",
   "version": "3.7.10"
  },
  "orig_nbformat": 2,
  "kernelspec": {
   "name": "python3710jvsc74a57bd06a06ed5d66c445098e60644b3382a69ae819b798ccad00addeea91043a2d37cf",
   "display_name": "Python 3.7.10 64-bit ('drop': conda)"
  }
 },
 "nbformat": 4,
 "nbformat_minor": 2,
 "cells": [
  {
   "cell_type": "code",
   "execution_count": 1,
   "metadata": {},
   "outputs": [
    {
     "output_type": "stream",
     "name": "stderr",
     "text": [
      "/home/xmax/anaconda3/envs/drop/lib/python3.7/site-packages/pyscf/lib/misc.py:46: H5pyDeprecationWarning: Using default_file_mode other than 'r' is deprecated. Pass the mode to h5py.File() instead.\n  h5py.get_config().default_file_mode = 'a'\n"
     ]
    }
   ],
   "source": [
    "%load_ext autoreload\n",
    "%autoreload 2\n",
    "import sys\n",
    "sys.path.append('/home/xmax/projects/nn_ansatz/src')\n",
    "\n",
    "from nn_ansatz import *\n",
    "from jax import vmap\n",
    "import jax.numpy as jnp\n",
    "from jax import vmap, lax\n",
    "import numpy as np\n",
    "import functools\n"
   ]
  },
  {
   "cell_type": "code",
   "execution_count": 23,
   "metadata": {},
   "outputs": [
    {
     "output_type": "stream",
     "name": "stdout",
     "text": [
      "(2, 1, 10)\n(2, 1, 2, 1, 1, 3)\n(2, 1, 2, 1, 1)\n(2, 2, 1, 1)\n[[[0.]\n  [0.]]\n\n [[0.]\n  [0.]]]\n()\n-inf\n(2, 3) (2, 3, 3) (2, 3)\n(2, 1, 10)\n(2, 1, 2, 1, 1, 3)\n(2, 1, 2, 1, 1)\n(2, 2, 1, 1)\nTraced<ShapedArray(float32[2,2,1])>with<JVPTrace(level=4/0)>\n  with primal = Traced<ShapedArray(float32[2,2,1])>with<JVPTrace(level=2/0)>\n                  with primal = Traced<ShapedArray(float32[2,2,1])>with<DynamicJaxprTrace(level=1/0)>\n                       tangent = Traced<ShapedArray(float32[2,2,1])>with<DynamicJaxprTrace(level=1/0)>\n       tangent = Traced<ShapedArray(float32[2,2,1]):JaxprTrace(level=3/0)>\n(2, 3) (2, 3) h\n"
     ]
    },
    {
     "output_type": "execute_result",
     "data": {
      "text/plain": [
       "DeviceArray([nan, nan], dtype=float32)"
      ]
     },
     "metadata": {},
     "execution_count": 23
    }
   ],
   "source": [
    "from jax import random as rnd\n",
    "from collections import OrderedDict\n",
    "\n",
    "key = rnd.PRNGKey(1)\n",
    "n_atom, n_up = 1, 1\n",
    "in_lin, out_lin = 3, 10\n",
    "n_det = 2\n",
    "n_walkers = 2\n",
    "\n",
    "walkers = rnd.normal(key, (n_walkers, 1, 3))\n",
    "r_atoms = jnp.array([[0.0, 0.0, 0.0]])\n",
    "params = OrderedDict()\n",
    "params['linear'] = rnd.normal(key, (in_lin, out_lin))\n",
    "params['env_linear'] = rnd.normal(key, (n_det, n_up, out_lin))\n",
    "params['env_sigma'] = rnd.normal(key, (n_det, n_up, n_atom, 3, 3))\n",
    "params['env_pi'] = rnd.normal(key, (n_det, n_up, n_atom))\n",
    "\n",
    "def compute_ae_vectors_i(walkers: jnp.array,\n",
    "                         r_atoms: jnp.array) -> jnp.array:\n",
    "    r_atoms = jnp.expand_dims(r_atoms, axis=0)\n",
    "    walkers = jnp.expand_dims(walkers, axis=1)\n",
    "    ae_vectors = walkers - r_atoms\n",
    "    return ae_vectors\n",
    "\n",
    "def slogdet(x):\n",
    "  if x.shape[-1] == 1:\n",
    "    sign = jnp.sign(x[..., 0, 0])\n",
    "    logdet = jnp.log(jnp.abs(x[..., 0, 0]))\n",
    "  else:\n",
    "    sign, logdet = jnp.linalg.slogdet(x)\n",
    "\n",
    "  return sign, logdet\n",
    "\n",
    "def logdet_matmul(xs) -> jnp.ndarray:\n",
    "  dets = [x.reshape(*x.shape[:2], -1) for x in xs if x.shape[-1] == 1]\n",
    "  dets = functools.reduce(\n",
    "    lambda a, b: a*b, dets\n",
    "  ) if len(dets) > 0 else 1.\n",
    "\n",
    "  slogdets = [slogdet(x) for x in xs if x.shape[-1] > 1]\n",
    "  maxlogdet = 0\n",
    "  if len(slogdets) > 0:\n",
    "    print('here')\n",
    "    sign_in, logdet = functools.reduce(\n",
    "      lambda a, b: (a[:, 0]*b[:, 0], a[:, 1]+b[:, 1]), slogdets\n",
    "    )\n",
    "\n",
    "    maxlogdet = jnp.max(logdet)\n",
    "    det = sign_in * dets * jnp.exp(logdet - maxlogdet)\n",
    "  else:\n",
    "    det = dets\n",
    "  print(det)\n",
    "  \n",
    "  result = jnp.sum(det, axis=1)\n",
    "\n",
    "  sign_out = jnp.sign(result)\n",
    "  log_out = jnp.log(jnp.abs(result)) + maxlogdet\n",
    "  return log_out\n",
    "\n",
    "\n",
    "def second_derivative(wf):\n",
    "\n",
    "    def _lapl_over_f(params, walkers):\n",
    "        walkers = walkers.reshape(n_walkers, -1)\n",
    "        n = walkers.shape[-1]\n",
    "        eye = jnp.eye(n, dtype=walkers.dtype)[None, ...].repeat(n_walkers, axis=0)\n",
    "        grad_f = jax.grad(wf, argnums=1)\n",
    "        grad_f_closure = lambda y: grad_f(params, y) \n",
    "\n",
    "        def _body_fun(i, val):\n",
    "\n",
    "            print(walkers.shape, eye.shape, eye[..., i].shape)\n",
    "            primal, tangent = jax.jvp(grad_f_closure, (walkers,), (eye[..., i],))\n",
    "            print(primal.shape, tangent.shape, 'h')\n",
    "            return val + primal[:, i]**2 + tangent[:, i]\n",
    "\n",
    "        return -0.5 * lax.fori_loop(0, n, _body_fun, jnp.zeros((n_walkers,)))\n",
    "    return _lapl_over_f\n",
    "\n",
    "\n",
    "def create_wf(r_atoms):\n",
    "\n",
    "    def _wf(params, walkers):\n",
    "\n",
    "        if len(walkers.shape) == 2:  # this is a hack to get around the jvp\n",
    "            walkers = walkers.reshape(n_walkers, n_up, 3)\n",
    "\n",
    "        ae_vectors = walkers[:, None, ...] - r_atoms[None, None, ...] \n",
    "\n",
    "        linear = jnp.tanh(walkers @ params['linear'])\n",
    "        \n",
    "        print(linear.shape)\n",
    "        factor = jnp.einsum('njf,kif->nkij', linear, params['env_linear'])\n",
    "\n",
    "        argument = jnp.einsum('njmv,kimvc->njkimc', ae_vectors, params['env_sigma'])\n",
    "        print(argument.shape)\n",
    "        exponent = jnp.linalg.norm(argument, axis=-1)\n",
    "        exponential = jnp.exp(-exponent)\n",
    "        print(exponential.shape)\n",
    "        orbitals = factor * jnp.einsum('njkim,kim->nkij', exponential, params['env_pi']) \n",
    "        print(orbitals.shape)\n",
    "\n",
    "        orbitals *= 0.0\n",
    "\n",
    "        log_psi = logdet_matmul([orbitals, orbitals])\n",
    "\n",
    "        return log_psi.squeeze().sum()\n",
    "    \n",
    "    return _wf\n",
    "\n",
    "wf = create_wf(r_atoms)\n",
    "log_psi = wf(params, walkers)\n",
    "print(log_psi.shape)\n",
    "grad = second_derivative(wf)\n",
    "print(log_psi)\n",
    "grad(params, walkers)\n",
    "\n",
    "\n",
    "\n",
    "\n",
    "\n"
   ]
  },
  {
   "cell_type": "code",
   "execution_count": 21,
   "metadata": {},
   "outputs": [
    {
     "output_type": "execute_result",
     "data": {
      "text/plain": [
       "DeviceArray(0., dtype=float32)"
      ]
     },
     "metadata": {},
     "execution_count": 21
    }
   ],
   "source": [
    "jnp.linalg.det(jnp.zeros((1,1)))\n"
   ]
  },
  {
   "cell_type": "code",
   "execution_count": 8,
   "metadata": {},
   "outputs": [
    {
     "output_type": "stream",
     "name": "stdout",
     "text": [
      "[nan]\n"
     ]
    }
   ],
   "source": [
    "import jax.numpy as jnp\n",
    "\n",
    "def logabssumdet(orb_up: jnp.array,\n",
    "                 orb_down: jnp.array) -> jnp.array:\n",
    "    s_up, log_up = jnp.linalg.slogdet(orb_up)\n",
    "    s_down, log_down = jnp.linalg.slogdet(orb_down)\n",
    "\n",
    "    logdet_sum = log_up + log_down\n",
    "    logdet_max = jnp.max(logdet_sum)\n",
    "\n",
    "    argument = s_up * s_down * jnp.exp(logdet_sum - logdet_max)\n",
    "\n",
    "    return jnp.log(jnp.abs(jnp.sum(argument, axis=0))) + logdet_max\n",
    "orb_up = jnp.array([[0.]])[None, ...]\n",
    "orb_down = jnp.array([[1., 2.], [-1., 2.]])[None, ...]\n",
    "\n",
    "# logabssumdet(x, y)\n",
    "\n",
    "s_up, log_up = jnp.linalg.slogdet(orb_up)\n",
    "s_down, log_down = jnp.linalg.slogdet(orb_down)\n",
    "\n",
    "logdet_sum = log_up + log_down\n",
    "logdet_max = jnp.max(logdet_sum)\n",
    "\n",
    "argument = s_up * s_down * jnp.exp(logdet_sum - logdet_max)\n",
    "\n",
    "print(logdet_sum - logdet_max)"
   ]
  },
  {
   "cell_type": "code",
   "execution_count": null,
   "metadata": {},
   "outputs": [],
   "source": []
  }
 ]
}