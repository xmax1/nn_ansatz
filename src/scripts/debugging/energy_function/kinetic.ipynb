{
 "metadata": {
  "language_info": {
   "codemirror_mode": {
    "name": "ipython",
    "version": 3
   },
   "file_extension": ".py",
   "mimetype": "text/x-python",
   "name": "python",
   "nbconvert_exporter": "python",
   "pygments_lexer": "ipython3",
   "version": "3.7.10"
  },
  "orig_nbformat": 2,
  "kernelspec": {
   "name": "python3710jvsc74a57bd06a06ed5d66c445098e60644b3382a69ae819b798ccad00addeea91043a2d37cf",
   "display_name": "Python 3.7.10 64-bit ('drop': conda)"
  }
 },
 "nbformat": 4,
 "nbformat_minor": 2,
 "cells": [
  {
   "cell_type": "code",
   "execution_count": 7,
   "metadata": {},
   "outputs": [],
   "source": [
    "import jax.random as rnd\n",
    "import jax.numpy as jnp\n",
    "from jax import lax, vmap, grad, jit\n",
    "from functools import partial\n",
    "import jax\n"
   ]
  },
  {
   "cell_type": "code",
   "execution_count": 35,
   "metadata": {},
   "outputs": [
    {
     "output_type": "stream",
     "name": "stdout",
     "text": [
      "9\n"
     ]
    }
   ],
   "source": [
    "\n",
    "key = rnd.PRNGKey(1)\n",
    "L = 3.\n",
    "x = rnd.normal(key, (10,3))\n",
    "z = jnp.linalg.norm(x, axis=-1)\n",
    "w = rnd.normal(key, (3, 1))\n",
    "mask = z < L\n",
    "print(jnp.sum(mask))\n",
    "\n",
    "def linear(x):\n",
    "    z = x @ w\n",
    "    return jnp.tanh(z).squeeze()\n",
    "\n",
    "def wf(x):\n",
    "    z = jnp.linalg.norm(w.squeeze() * x, axis=-1)\n",
    "    out = linear(x) * jnp.exp(-z)\n",
    "    print(z.shape, out.shape, x.shape, linear(x).shape, jnp.exp(-z).shape)\n",
    "    mask = (z < (L / 2.)).astype(x.dtype)\n",
    "    # assert jnp.sum(mask) > 0.\n",
    "    out = mask * out\n",
    "    out = jnp.tanh(linear(x) * out)\n",
    "    return out.squeeze()\n",
    "\n",
    "vwf = vmap(wf, in_axes=(0,))"
   ]
  },
  {
   "cell_type": "code",
   "execution_count": 37,
   "metadata": {},
   "outputs": [
    {
     "output_type": "stream",
     "name": "stdout",
     "text": [
      "() () (3,) () ()\n(10,) (10, 3)\n"
     ]
    },
    {
     "output_type": "execute_result",
     "data": {
      "text/plain": [
       "DeviceArray([-0.07822731, -0.        ,  0.79436773, -0.        ,\n",
       "             -0.        , -0.73799956,  0.16120832,  0.3664742 ,\n",
       "              0.64229894, -1.0483482 ], dtype=float32)"
      ]
     },
     "metadata": {},
     "execution_count": 37
    }
   ],
   "source": [
    "# vwf version\n",
    "\n",
    "def local_kinetic_energy_i(wf):\n",
    "    \"\"\"\n",
    "    FUNCTION SLIGHTLY ADAPTED FROM DEEPMIND JAX FERMINET IMPLEMTATION\n",
    "    https://github.com/deepmind/ferminet/tree/jax\n",
    "\n",
    "    \"\"\"\n",
    "    def _lapl_over_f(walkers):\n",
    "        n_walkers = walkers.shape[0]\n",
    "        walkers = walkers.reshape(n_walkers, -1)\n",
    "        n = walkers.shape[-1]\n",
    "        eye = jnp.eye(n, dtype=walkers.dtype)[None, ...].repeat(n_walkers, axis=0)\n",
    "        wf_new = lambda walkers: wf(walkers).sum()\n",
    "        grad_f = jax.grad(wf_new, argnums=0)\n",
    "        # grad_f_closure = lambda y: grad_f(params, y, d0s)  # ensuring the input can be just x\n",
    "\n",
    "        def _body_fun(i, val):\n",
    "            # primal is the first order evaluation\n",
    "            # tangent is the second order\n",
    "            primal, tangent = jax.jvp(grad_f, (walkers,), (eye[..., i],))\n",
    "            print(val.shape, primal.shape)\n",
    "            return val + primal[:, i]**2 + tangent[:, i]\n",
    "\n",
    "        # from lower to upper\n",
    "        # (lower, upper, func(int, a) -> a, init_val)\n",
    "        # this is like functools.reduce()\n",
    "        # val is the previous  val (initialised to 0.0)\n",
    "        return -0.5 * lax.fori_loop(0, n, _body_fun, jnp.zeros(walkers.shape[0]))\n",
    "\n",
    "    return _lapl_over_f\n",
    "\n",
    "full = local_kinetic_energy_i(vwf)\n",
    "full(x)"
   ]
  },
  {
   "cell_type": "code",
   "execution_count": null,
   "metadata": {},
   "outputs": [],
   "source": []
  },
  {
   "cell_type": "code",
   "execution_count": 16,
   "metadata": {},
   "outputs": [
    {
     "output_type": "stream",
     "name": "stdout",
     "text": [
      "3\n(3, 3)\nTraced<ShapedArray(int32[], weak_type=True)>with<DynamicJaxprTrace(level=2/0)> (3,) (3,)\n"
     ]
    },
    {
     "output_type": "execute_result",
     "data": {
      "text/plain": [
       "DeviceArray([-0.07822731, -0.        ,  0.79436773, -0.        ,\n",
       "             -0.        , -0.73799956,  0.16120833,  0.3664742 ,\n",
       "              0.64229894, -1.0483482 ], dtype=float32)"
      ]
     },
     "metadata": {},
     "execution_count": 16
    }
   ],
   "source": [
    "# second order derivs\n",
    "\n",
    "def second(wf):\n",
    "    def _lapl_over_f(x):\n",
    "        n = x.shape[0]\n",
    "        print(n)\n",
    "        eye = jnp.eye(n, dtype=x.dtype)\n",
    "        print(eye.shape)\n",
    "        grad_f = jax.grad(wf)\n",
    "        # grad_f_closure = lambda y: grad_f(y)  # ensuring the input can be just x\n",
    "\n",
    "        def _body_fun(i, val):\n",
    "            # primal is the first order evaluation\n",
    "            # tangent is the second order\n",
    "            primal, tangent = jax.jvp(grad_f, (x,), (eye[:, i],))\n",
    "            print(i, primal.shape, tangent.shape)\n",
    "            return val + primal[i]**2 + tangent[i]\n",
    "        return -0.5 * lax.fori_loop(0, n, _body_fun, 0.0)\n",
    "\n",
    "    return vmap(_lapl_over_f, in_axes=(0,))\n",
    "\n",
    "grad = second(wf)\n",
    "grad(x)"
   ]
  },
  {
   "cell_type": "code",
   "execution_count": null,
   "metadata": {},
   "outputs": [],
   "source": [
    "\n",
    "\n"
   ]
  },
  {
   "cell_type": "code",
   "execution_count": null,
   "metadata": {},
   "outputs": [],
   "source": [
    "n = x.shape[1]\n",
    "print(n)\n",
    "eye = jnp.eye(n, dtype=x.dtype)\n",
    "print(eye.shape)\n",
    "grad_f = jax.grad(wf)\n",
    "# grad_f_closure = lambda y: grad_f(y)  # ensuring the input can be just x\n",
    "\n",
    "i = 0\n",
    "val = 0.0\n",
    "primal, tangent = jax.jvp(grad_f, (x,), (eye[None, :, i].repeat(x.shape[0], axis=0),))\n",
    "print(i)\n",
    "print(primal, '\\n', tangent, '\\n', mask)\n",
    "\n",
    "d = val + primal[:, i]**2 + tangent[:, i]\n",
    "\n",
    "# _body_fun(0, 0.0)\n",
    "\n",
    "\n",
    "# -0.5 * lax.fori_loop(0, n, _body_fun, 0.0)"
   ]
  }
 ]
}