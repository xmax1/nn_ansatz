{
 "cells": [
  {
   "cell_type": "code",
   "execution_count": 1,
   "source": [
    "import matplotlib.pyplot as plt\n",
    "\n",
    "import pandas as pd\n",
    "import pickle as pk\n",
    "\n",
    "def load_pk(path):\n",
    "    with open(path, 'wb') as f:\n",
    "        x = pk.load(f)\n",
    "    return x\n",
    "\n"
   ],
   "outputs": [],
   "metadata": {}
  },
  {
   "cell_type": "code",
   "execution_count": null,
   "source": [
    "\n",
    "fig, axs = plt.subplots(1, 1, figsize=(8, 8))  # x, y\n",
    "if type(axs) is list:\n",
    "    axs = [ax for lst in axs for ax in lst]\n",
    "\n",
    "path = ''\n",
    "# data = load_pk(path)\n",
    "data = pd.read_csv(path)\n",
    "\n",
    "X = data[:, 0]\n",
    "Y = data[:, 1]\n",
    "\n",
    "axs.plot()\n",
    "\n",
    "fig.tight_layout()\n",
    "\n",
    "plt.show()\n"
   ],
   "outputs": [],
   "metadata": {}
  }
 ],
 "metadata": {
  "orig_nbformat": 4,
  "language_info": {
   "name": "python",
   "version": "3.7.10",
   "mimetype": "text/x-python",
   "codemirror_mode": {
    "name": "ipython",
    "version": 3
   },
   "pygments_lexer": "ipython3",
   "nbconvert_exporter": "python",
   "file_extension": ".py"
  },
  "kernelspec": {
   "name": "python3",
   "display_name": "Python 3.7.10 64-bit ('xmax': conda)"
  },
  "interpreter": {
   "hash": "ba38b15b27d63e295ae7c3f6cf09050ed12020747b9869b0e7356847a9db11a1"
  }
 },
 "nbformat": 4,
 "nbformat_minor": 2
}