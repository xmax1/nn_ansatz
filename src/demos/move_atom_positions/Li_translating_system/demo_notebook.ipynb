{
 "cells": [
  {
   "cell_type": "code",
   "execution_count": 2,
   "metadata": {},
   "outputs": [],
   "source": [
    "# %load_ext autoreload\n",
    "# %autoreload 2\n",
    "import os \n",
    "# os.environ['CUDA_LAUNCH_BLOCKING'] = '1'\n",
    "# os.environ['XLA_PYTHON_CLIENT_MEM_FRACTION']='.85'\n",
    "# os.environ['CUDA_VISIBLE_DEVICES'] = '5'\n",
    "#jupyter nbconvert --to notebook --execute demo_notebook.ipynb --output demo_notebook.ipynb\n",
    "# "
   ]
  },
  {
   "cell_type": "code",
   "execution_count": 3,
   "metadata": {},
   "outputs": [],
   "source": [
    "import sys\n",
    "sys.path.append('/home/amawi/projects/nn_ansatz/src')\n",
    "from nn_ansatz import *\n",
    "from jax.experimental.optimizers import adam\n",
    "from jax import tree_util\n",
    "from tqdm.notebook import trange\n",
    "from jax import pmap, vmap, grad"
   ]
  },
  {
   "cell_type": "code",
   "execution_count": 13,
   "metadata": {},
   "outputs": [
    {
     "name": "stdout",
     "output_type": "stream",
     "text": [
      "s32_p8_l3_det4 adam_1lr-4_1d-3_1nc-4_m512_ junk\n",
      "version \t\t 111021\n",
      "seed \t\t 369\n",
      "n_devices \t\t 1\n",
      "save_every \t\t 2500\n",
      "print_every \t\t 100\n",
      "exp_dir \t\t /home/amawi/projects/nn_ansatz/src/demos/move_atom_positions/Li_translating_system/experiments/LiSolidBCC/111021/junk/adam_1lr-4_1d-3_1nc-4_m512_s32_p8_l3_det4/run6\n",
      "events_dir \t\t /home/amawi/projects/nn_ansatz/src/demos/move_atom_positions/Li_translating_system/experiments/LiSolidBCC/111021/junk/adam_1lr-4_1d-3_1nc-4_m512_s32_p8_l3_det4/run6/events\n",
      "models_dir \t\t /home/amawi/projects/nn_ansatz/src/demos/move_atom_positions/Li_translating_system/experiments/LiSolidBCC/111021/junk/adam_1lr-4_1d-3_1nc-4_m512_s32_p8_l3_det4/run6/models\n",
      "opt_state_dir \t\t /home/amawi/projects/nn_ansatz/src/demos/move_atom_positions/Li_translating_system/experiments/LiSolidBCC/111021/junk/adam_1lr-4_1d-3_1nc-4_m512_s32_p8_l3_det4/run6/models/opt_state\n",
      "pre_path \t\t /home/amawi/projects/nn_ansatz/src/demos/move_atom_positions/Li_translating_system/experiments/LiSolidBCC/pretrained/s32_p8_l3_det4_1lr-4_i0.pk\n",
      "timing_dir \t\t /home/amawi/projects/nn_ansatz/src/demos/move_atom_positions/Li_translating_system/experiments/LiSolidBCC/111021/junk/adam_1lr-4_1d-3_1nc-4_m512_s32_p8_l3_det4/run6/events/timing\n",
      "csv_cfg_path \t\t /home/amawi/projects/nn_ansatz/src/demos/move_atom_positions/Li_translating_system/experiments/LiSolidBCC/111021/junk/adam_1lr-4_1d-3_1nc-4_m512_s32_p8_l3_det4/run6/config1.csv\n",
      "pk_cfg_path \t\t /home/amawi/projects/nn_ansatz/src/demos/move_atom_positions/Li_translating_system/experiments/LiSolidBCC/111021/junk/adam_1lr-4_1d-3_1nc-4_m512_s32_p8_l3_det4/run6/config1.pk\n",
      "system \t\t LiSolidBCC\n",
      "r_atoms \t\t [[0.  0.  0. ]\n",
      " [0.5 0.5 0.5]]\n",
      "z_atoms \t\t [3. 3.]\n",
      "n_el \t\t 6\n",
      "n_el_atoms \t\t [3 3]\n",
      "periodic_boundaries \t\t True\n",
      "real_basis \t\t [[1. 0. 0.]\n",
      " [0. 1. 0.]\n",
      " [0. 0. 1.]]\n",
      "unit_cell_length \t\t 6.63\n",
      "real_cut \t\t 6\n",
      "reciprocal_cut \t\t 6\n",
      "kappa \t\t 0.5\n",
      "n_layers \t\t 3\n",
      "n_sh \t\t 32\n",
      "n_ph \t\t 8\n",
      "n_det \t\t 4\n",
      "scalar_inputs \t\t False\n",
      "n_periodic_input \t\t 1\n",
      "orbitals \t\t anisotropic\n",
      "opt \t\t adam\n",
      "lr \t\t 0.0001\n",
      "damping \t\t 0.001\n",
      "norm_constraint \t\t 0.0001\n",
      "n_it \t\t 10000\n",
      "load_it \t\t 0\n",
      "n_walkers \t\t 512\n",
      "n_walkers_per_device \t\t 512\n",
      "step_size \t\t 0.02\n",
      "correlation_length \t\t 10\n",
      "pre_lr \t\t 0.0001\n",
      "n_pre_it \t\t 0\n",
      "load_pretrain \t\t False\n",
      "pretrain \t\t False\n",
      "System: \n",
      " n_atoms = 2 \n",
      " n_up    = 3 \n",
      " n_down  = 3 \n",
      " n_el    = 6 \n",
      "\n",
      "Ansatz: \n",
      " n_layers = 3 \n",
      " n_det    = 4 \n",
      " n_sh     = 32 \n",
      " n_ph     = 8 \n",
      "\n",
      "Cell: \n",
      " real_basis: \n",
      " [[6.63 0.   0.  ]\n",
      " [0.   6.63 0.  ]\n",
      " [0.   0.   6.63]] \n",
      " reciprocal_basis: \n",
      " [[0.94769007 0.         0.        ]\n",
      " [0.         0.94769007 0.        ]\n",
      " [0.         0.         0.94769007]] \n",
      " real_cut         = 6.00 \n",
      " reciprocal_cut   = 6 \n",
      " kappa            = 0.50 \n",
      " volume           = 291.43 \n",
      " min_cell_width   = 6.63 \n",
      " n_periodic_input = 1 \n",
      " unit_cell_length = 6.63 \n",
      "\n",
      "converged SCF energy = -12.1628034345359\n",
      "creating wf\n",
      "sampling no infs, this could take a while\n",
      "end sampling no infs\n"
     ]
    },
    {
     "data": {
      "application/vnd.jupyter.widget-view+json": {
       "model_id": "f3a732d39e7044a6a378a3e8f520cfeb",
       "version_major": 2,
       "version_minor": 0
      },
      "text/plain": [
       "training:   0%|          | 1/10001 [00:00<?, ?it/s]"
      ]
     },
     "metadata": {},
     "output_type": "display_data"
    },
    {
     "name": "stdout",
     "output_type": "stream",
     "text": [
      "step 100 | e_mean -11.7368 | e_std 6.5033 | e_mean_mean -11.3310 | acceptance 0.6307 | t_per_it 0.2767 |\n",
      "step 200 | e_mean -12.6552 | e_std 8.4840 | e_mean_mean -12.1602 | acceptance 0.4922 | t_per_it 0.3262 |\n",
      "step 300 | e_mean -12.6221 | e_std 4.6459 | e_mean_mean -12.5206 | acceptance 0.4914 | t_per_it 0.3312 |\n",
      "step 400 | e_mean -12.6467 | e_std 4.1731 | e_mean_mean -12.8670 | acceptance 0.4982 | t_per_it 0.3118 |\n",
      "step 500 | e_mean -13.1173 | e_std 4.2218 | e_mean_mean -13.1933 | acceptance 0.5104 | t_per_it 0.3046 |\n",
      "step 600 | e_mean -13.8792 | e_std 5.8487 | e_mean_mean -13.5738 | acceptance 0.5123 | t_per_it 0.2996 |\n",
      "step 700 | e_mean -13.8584 | e_std 3.9920 | e_mean_mean -14.0185 | acceptance 0.5084 | t_per_it 0.3159 |\n",
      "step 800 | e_mean -14.5345 | e_std 4.8519 | e_mean_mean -14.3614 | acceptance 0.4924 | t_per_it 0.3075 |\n",
      "step 900 | e_mean -14.8437 | e_std 3.9932 | e_mean_mean -14.6549 | acceptance 0.4895 | t_per_it 0.3055 |\n",
      "step 1000 | e_mean -14.8666 | e_std 3.4146 | e_mean_mean -14.9317 | acceptance 0.5254 | t_per_it 0.3152 |\n",
      "step 1100 | e_mean -15.0862 | e_std 4.1660 | e_mean_mean -14.9772 | acceptance 0.4902 | t_per_it 0.3202 |\n",
      "step 1200 | e_mean -15.8040 | e_std 6.3781 | e_mean_mean -15.2214 | acceptance 0.4912 | t_per_it 0.3164 |\n",
      "step 1300 | e_mean -15.2574 | e_std 3.6627 | e_mean_mean -15.3033 | acceptance 0.4957 | t_per_it 0.3217 |\n"
     ]
    },
    {
     "ename": "KeyboardInterrupt",
     "evalue": "",
     "output_type": "error",
     "traceback": [
      "\u001b[0;31m---------------------------------------------------------------------------\u001b[0m",
      "\u001b[0;31mKeyboardInterrupt\u001b[0m                         Traceback (most recent call last)",
      "\u001b[0;32m<ipython-input-13-5f097f45538b>\u001b[0m in \u001b[0;36m<module>\u001b[0;34m\u001b[0m\n\u001b[1;32m     21\u001b[0m                 n_it=10000)\n\u001b[1;32m     22\u001b[0m     \u001b[0mcfg\u001b[0m\u001b[0;34m[\u001b[0m\u001b[0;34m'r_atoms'\u001b[0m\u001b[0;34m]\u001b[0m \u001b[0;34m+=\u001b[0m \u001b[0mjnp\u001b[0m\u001b[0;34m.\u001b[0m\u001b[0marray\u001b[0m\u001b[0;34m(\u001b[0m\u001b[0mtranslation\u001b[0m\u001b[0;34m)\u001b[0m\u001b[0;34m\u001b[0m\u001b[0;34m\u001b[0m\u001b[0m\n\u001b[0;32m---> 23\u001b[0;31m     \u001b[0mlog\u001b[0m \u001b[0;34m=\u001b[0m \u001b[0mrun_vmc\u001b[0m\u001b[0;34m(\u001b[0m\u001b[0mcfg\u001b[0m\u001b[0;34m)\u001b[0m\u001b[0;34m\u001b[0m\u001b[0;34m\u001b[0m\u001b[0m\n\u001b[0m\u001b[1;32m     24\u001b[0m     \u001b[0me_mean\u001b[0m \u001b[0;34m=\u001b[0m \u001b[0mlog\u001b[0m\u001b[0;34m.\u001b[0m\u001b[0msummary\u001b[0m\u001b[0;34m[\u001b[0m\u001b[0;34m'e_mean_mean'\u001b[0m\u001b[0;34m]\u001b[0m\u001b[0;34m\u001b[0m\u001b[0;34m\u001b[0m\u001b[0m\n\u001b[1;32m     25\u001b[0m     \u001b[0me_means\u001b[0m\u001b[0;34m.\u001b[0m\u001b[0mappend\u001b[0m\u001b[0;34m(\u001b[0m\u001b[0me_mean\u001b[0m\u001b[0;34m)\u001b[0m\u001b[0;34m\u001b[0m\u001b[0;34m\u001b[0m\u001b[0m\n",
      "\u001b[0;32m~/projects/nn_ansatz/src/nn_ansatz/routines.py\u001b[0m in \u001b[0;36mrun_vmc\u001b[0;34m(cfg, walkers)\u001b[0m\n\u001b[1;32m     68\u001b[0m         \u001b[0;31m# stop = capture_nan(walkers, 'walkers', False)\u001b[0m\u001b[0;34m\u001b[0m\u001b[0;34m\u001b[0m\u001b[0;34m\u001b[0m\u001b[0m\n\u001b[1;32m     69\u001b[0m \u001b[0;34m\u001b[0m\u001b[0m\n\u001b[0;32m---> 70\u001b[0;31m         \u001b[0mgrads\u001b[0m\u001b[0;34m,\u001b[0m \u001b[0me_locs\u001b[0m \u001b[0;34m=\u001b[0m \u001b[0mgrad_fn\u001b[0m\u001b[0;34m(\u001b[0m\u001b[0mparams\u001b[0m\u001b[0;34m,\u001b[0m \u001b[0mwalkers\u001b[0m\u001b[0;34m)\u001b[0m\u001b[0;34m\u001b[0m\u001b[0;34m\u001b[0m\u001b[0m\n\u001b[0m\u001b[1;32m     71\u001b[0m         \u001b[0;31m# stop = capture_nan(grads, 'e_locs', stop)\u001b[0m\u001b[0;34m\u001b[0m\u001b[0;34m\u001b[0m\u001b[0;34m\u001b[0m\u001b[0m\n\u001b[1;32m     72\u001b[0m         \u001b[0;31m# stop = capture_nan(grads, 'grads', stop)\u001b[0m\u001b[0;34m\u001b[0m\u001b[0;34m\u001b[0m\u001b[0;34m\u001b[0m\u001b[0m\n",
      "\u001b[0;32m~/.conda/envs/xmax/lib/python3.7/site-packages/jax/_src/tree_util.py\u001b[0m in \u001b[0;36m<lambda>\u001b[0;34m(keys, values)\u001b[0m\n\u001b[1;32m    247\u001b[0m   \u001b[0mcollections\u001b[0m\u001b[0;34m.\u001b[0m\u001b[0mOrderedDict\u001b[0m\u001b[0;34m,\u001b[0m\u001b[0;34m\u001b[0m\u001b[0;34m\u001b[0m\u001b[0m\n\u001b[1;32m    248\u001b[0m   \u001b[0;32mlambda\u001b[0m \u001b[0mx\u001b[0m\u001b[0;34m:\u001b[0m \u001b[0;34m(\u001b[0m\u001b[0mlist\u001b[0m\u001b[0;34m(\u001b[0m\u001b[0mx\u001b[0m\u001b[0;34m.\u001b[0m\u001b[0mvalues\u001b[0m\u001b[0;34m(\u001b[0m\u001b[0;34m)\u001b[0m\u001b[0;34m)\u001b[0m\u001b[0;34m,\u001b[0m \u001b[0mlist\u001b[0m\u001b[0;34m(\u001b[0m\u001b[0mx\u001b[0m\u001b[0;34m.\u001b[0m\u001b[0mkeys\u001b[0m\u001b[0;34m(\u001b[0m\u001b[0;34m)\u001b[0m\u001b[0;34m)\u001b[0m\u001b[0;34m)\u001b[0m\u001b[0;34m,\u001b[0m\u001b[0;34m\u001b[0m\u001b[0;34m\u001b[0m\u001b[0m\n\u001b[0;32m--> 249\u001b[0;31m   lambda keys, values: collections.OrderedDict(safe_zip(keys, values)))\n\u001b[0m\u001b[1;32m    250\u001b[0m \u001b[0;34m\u001b[0m\u001b[0m\n\u001b[1;32m    251\u001b[0m register_pytree_node(\n",
      "\u001b[0;31mKeyboardInterrupt\u001b[0m: "
     ]
    }
   ],
   "source": [
    "# using routines\n",
    "translations = [np.random.uniform(0, 0.5, (1, 3)) for i in range(7)]\n",
    "\n",
    "e_means = []\n",
    "for translation in translations:\n",
    "    cfg = setup(system='LiSolidBCC',\n",
    "                n_pre_it=0,\n",
    "                n_walkers=512,\n",
    "                n_layers=3,\n",
    "                n_sh=32,\n",
    "                step_size=0.02,\n",
    "                n_ph=8,\n",
    "                scalar_inputs=False,\n",
    "                orbitals='anisotropic',\n",
    "                n_periodic_input=1,\n",
    "                opt='adam',\n",
    "                n_det=4,\n",
    "                print_every=100,\n",
    "                save_every=2500,\n",
    "                lr=1e-4,\n",
    "                n_it=20000)\n",
    "    cfg['r_atoms'] += jnp.array(translation)\n",
    "    log = run_vmc(cfg)\n",
    "    e_mean = log.summary['e_mean_mean']\n",
    "    e_means.append(e_mean)\n",
    "\n",
    "with open('data.pk', 'wb') as f:\n",
    "    pk.dump(e_means, f)"
   ]
  },
  {
   "cell_type": "code",
   "execution_count": 12,
   "metadata": {},
   "outputs": [
    {
     "data": {
      "image/png": "[encoded data removed]",
      "text/plain": [
       "<Figure size 288x288 with 1 Axes>"
      ]
     },
     "metadata": {
      "needs_background": "light"
     },
     "output_type": "display_data"
    }
   ],
   "source": [
    "import matplotlib.pyplot as plt\n",
    "x = range(len(e_means))\n",
    "fig, ax = plot.pretty_base(xlabel='experiment', ylabel='converged energy', \n",
    "                            title='convergence of vmc over translations of system nuclei Li$_2$',\n",
    "                            ylines=[-7.5])\n",
    "ax.scatter(x, [x/2. for x in e_means])\n",
    "plt.savefig('system_translations.png')"
   ]
  }
 ],
 "metadata": {
  "interpreter": {
   "hash": "ba38b15b27d63e295ae7c3f6cf09050ed12020747b9869b0e7356847a9db11a1"
  },
  "kernelspec": {
   "display_name": "Python 3.7.10 64-bit ('xmax': conda)",
   "name": "python3"
  },
  "language_info": {
   "codemirror_mode": {
    "name": "ipython",
    "version": 3
   },
   "file_extension": ".py",
   "mimetype": "text/x-python",
   "name": "python",
   "nbconvert_exporter": "python",
   "pygments_lexer": "ipython3",
   "version": "3.7.10"
  }
 },
 "nbformat": 4,
 "nbformat_minor": 5
}
