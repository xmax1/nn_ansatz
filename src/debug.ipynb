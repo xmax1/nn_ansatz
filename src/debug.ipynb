{
 "cells": [
  {
   "cell_type": "code",
   "execution_count": 25,
   "metadata": {},
   "outputs": [
    {
     "data": {
      "text/html": [
       "\n",
       "    <div class=\"bk-root\">\n",
       "        <a href=\"https://bokeh.org\" target=\"_blank\" class=\"bk-logo bk-logo-small bk-logo-notebook\"></a>\n",
       "        <span id=\"22539\">Loading BokehJS ...</span>\n",
       "    </div>"
      ]
     },
     "metadata": {},
     "output_type": "display_data"
    },
    {
     "data": {
      "application/javascript": "\n(function(root) {\n  function now() {\n    return new Date();\n  }\n\n  const force = true;\n\n  if (typeof root._bokeh_onload_callbacks === \"undefined\" || force === true) {\n    root._bokeh_onload_callbacks = [];\n    root._bokeh_is_loading = undefined;\n  }\n\n  const JS_MIME_TYPE = 'application/javascript';\n  const HTML_MIME_TYPE = 'text/html';\n  const EXEC_MIME_TYPE = 'application/vnd.bokehjs_exec.v0+json';\n  const CLASS_NAME = 'output_bokeh rendered_html';\n\n  /**\n   * Render data to the DOM node\n   */\n  function render(props, node) {\n    const script = document.createElement(\"script\");\n    node.appendChild(script);\n  }\n\n  /**\n   * Handle when an output is cleared or removed\n   */\n  function handleClearOutput(event, handle) {\n    const cell = handle.cell;\n\n    const id = cell.output_area._bokeh_element_id;\n    const server_id = cell.output_area._bokeh_server_id;\n    // Clean up Bokeh references\n    if (id != null && id in Bokeh.index) {\n      Bokeh.index[id].model.document.clear();\n      delete Bokeh.index[id];\n    }\n\n    if (server_id !== undefined) {\n      // Clean up Bokeh references\n      const cmd_clean = \"from bokeh.io.state import curstate; print(curstate().uuid_to_server['\" + server_id + \"'].get_sessions()[0].document.roots[0]._id)\";\n      cell.notebook.kernel.execute(cmd_clean, {\n        iopub: {\n          output: function(msg) {\n            const id = msg.content.text.trim();\n            if (id in Bokeh.index) {\n              Bokeh.index[id].model.document.clear();\n              delete Bokeh.index[id];\n            }\n          }\n        }\n      });\n      // Destroy server and session\n      const cmd_destroy = \"import bokeh.io.notebook as ion; ion.destroy_server('\" + server_id + \"')\";\n      cell.notebook.kernel.execute(cmd_destroy);\n    }\n  }\n\n  /**\n   * Handle when a new output is added\n   */\n  function handleAddOutput(event, handle) {\n    const output_area = handle.output_area;\n    const output = handle.output;\n\n    // limit handleAddOutput to display_data with EXEC_MIME_TYPE content only\n    if ((output.output_type != \"display_data\") || (!Object.prototype.hasOwnProperty.call(output.data, EXEC_MIME_TYPE))) {\n      return\n    }\n\n    const toinsert = output_area.element.find(\".\" + CLASS_NAME.split(' ')[0]);\n\n    if (output.metadata[EXEC_MIME_TYPE][\"id\"] !== undefined) {\n      toinsert[toinsert.length - 1].firstChild.textContent = output.data[JS_MIME_TYPE];\n      // store reference to embed id on output_area\n      output_area._bokeh_element_id = output.metadata[EXEC_MIME_TYPE][\"id\"];\n    }\n    if (output.metadata[EXEC_MIME_TYPE][\"server_id\"] !== undefined) {\n      const bk_div = document.createElement(\"div\");\n      bk_div.innerHTML = output.data[HTML_MIME_TYPE];\n      const script_attrs = bk_div.children[0].attributes;\n      for (let i = 0; i < script_attrs.length; i++) {\n        toinsert[toinsert.length - 1].firstChild.setAttribute(script_attrs[i].name, script_attrs[i].value);\n        toinsert[toinsert.length - 1].firstChild.textContent = bk_div.children[0].textContent\n      }\n      // store reference to server id on output_area\n      output_area._bokeh_server_id = output.metadata[EXEC_MIME_TYPE][\"server_id\"];\n    }\n  }\n\n  function register_renderer(events, OutputArea) {\n\n    function append_mime(data, metadata, element) {\n      // create a DOM node to render to\n      const toinsert = this.create_output_subarea(\n        metadata,\n        CLASS_NAME,\n        EXEC_MIME_TYPE\n      );\n      this.keyboard_manager.register_events(toinsert);\n      // Render to node\n      const props = {data: data, metadata: metadata[EXEC_MIME_TYPE]};\n      render(props, toinsert[toinsert.length - 1]);\n      element.append(toinsert);\n      return toinsert\n    }\n\n    /* Handle when an output is cleared or removed */\n    events.on('clear_output.CodeCell', handleClearOutput);\n    events.on('delete.Cell', handleClearOutput);\n\n    /* Handle when a new output is added */\n    events.on('output_added.OutputArea', handleAddOutput);\n\n    /**\n     * Register the mime type and append_mime function with output_area\n     */\n    OutputArea.prototype.register_mime_type(EXEC_MIME_TYPE, append_mime, {\n      /* Is output safe? */\n      safe: true,\n      /* Index of renderer in `output_area.display_order` */\n      index: 0\n    });\n  }\n\n  // register the mime type if in Jupyter Notebook environment and previously unregistered\n  if (root.Jupyter !== undefined) {\n    const events = require('base/js/events');\n    const OutputArea = require('notebook/js/outputarea').OutputArea;\n\n    if (OutputArea.prototype.mime_types().indexOf(EXEC_MIME_TYPE) == -1) {\n      register_renderer(events, OutputArea);\n    }\n  }\n\n  \n  if (typeof (root._bokeh_timeout) === \"undefined\" || force === true) {\n    root._bokeh_timeout = Date.now() + 5000;\n    root._bokeh_failed_load = false;\n  }\n\n  const NB_LOAD_WARNING = {'data': {'text/html':\n     \"<div style='background-color: #fdd'>\\n\"+\n     \"<p>\\n\"+\n     \"BokehJS does not appear to have successfully loaded. If loading BokehJS from CDN, this \\n\"+\n     \"may be due to a slow or bad network connection. Possible fixes:\\n\"+\n     \"</p>\\n\"+\n     \"<ul>\\n\"+\n     \"<li>re-rerun `output_notebook()` to attempt to load from CDN again, or</li>\\n\"+\n     \"<li>use INLINE resources instead, as so:</li>\\n\"+\n     \"</ul>\\n\"+\n     \"<code>\\n\"+\n     \"from bokeh.resources import INLINE\\n\"+\n     \"output_notebook(resources=INLINE)\\n\"+\n     \"</code>\\n\"+\n     \"</div>\"}};\n\n  function display_loaded() {\n    const el = document.getElementById(\"22539\");\n    if (el != null) {\n      el.textContent = \"BokehJS is loading...\";\n    }\n    if (root.Bokeh !== undefined) {\n      if (el != null) {\n        el.textContent = \"BokehJS \" + root.Bokeh.version + \" successfully loaded.\";\n      }\n    } else if (Date.now() < root._bokeh_timeout) {\n      setTimeout(display_loaded, 100)\n    }\n  }\n\n\n  function run_callbacks() {\n    try {\n      root._bokeh_onload_callbacks.forEach(function(callback) {\n        if (callback != null)\n          callback();\n      });\n    } finally {\n      delete root._bokeh_onload_callbacks\n    }\n    console.debug(\"Bokeh: all callbacks have finished\");\n  }\n\n  function load_libs(css_urls, js_urls, callback) {\n    if (css_urls == null) css_urls = [];\n    if (js_urls == null) js_urls = [];\n\n    root._bokeh_onload_callbacks.push(callback);\n    if (root._bokeh_is_loading > 0) {\n      console.debug(\"Bokeh: BokehJS is being loaded, scheduling callback at\", now());\n      return null;\n    }\n    if (js_urls == null || js_urls.length === 0) {\n      run_callbacks();\n      return null;\n    }\n    console.debug(\"Bokeh: BokehJS not loaded, scheduling load and callback at\", now());\n    root._bokeh_is_loading = css_urls.length + js_urls.length;\n\n    function on_load() {\n      root._bokeh_is_loading--;\n      if (root._bokeh_is_loading === 0) {\n        console.debug(\"Bokeh: all BokehJS libraries/stylesheets loaded\");\n        run_callbacks()\n      }\n    }\n\n    function on_error(url) {\n      console.error(\"failed to load \" + url);\n    }\n\n    for (let i = 0; i < css_urls.length; i++) {\n      const url = css_urls[i];\n      const element = document.createElement(\"link\");\n      element.onload = on_load;\n      element.onerror = on_error.bind(null, url);\n      element.rel = \"stylesheet\";\n      element.type = \"text/css\";\n      element.href = url;\n      console.debug(\"Bokeh: injecting link tag for BokehJS stylesheet: \", url);\n      document.body.appendChild(element);\n    }\n\n    for (let i = 0; i < js_urls.length; i++) {\n      const url = js_urls[i];\n      const element = document.createElement('script');\n      element.onload = on_load;\n      element.onerror = on_error.bind(null, url);\n      element.async = false;\n      element.src = url;\n      console.debug(\"Bokeh: injecting script tag for BokehJS library: \", url);\n      document.head.appendChild(element);\n    }\n  };\n\n  function inject_raw_css(css) {\n    const element = document.createElement(\"style\");\n    element.appendChild(document.createTextNode(css));\n    document.body.appendChild(element);\n  }\n\n  \n  const js_urls = [\"https://cdn.bokeh.org/bokeh/release/bokeh-2.4.1.min.js\", \"https://cdn.bokeh.org/bokeh/release/bokeh-gl-2.4.1.min.js\", \"https://cdn.bokeh.org/bokeh/release/bokeh-widgets-2.4.1.min.js\", \"https://cdn.bokeh.org/bokeh/release/bokeh-tables-2.4.1.min.js\", \"https://cdn.bokeh.org/bokeh/release/bokeh-mathjax-2.4.1.min.js\"];\n  const css_urls = [];\n  \n\n  const inline_js = [\n    function(Bokeh) {\n      Bokeh.set_log_level(\"info\");\n    },\n    function(Bokeh) {\n    \n    \n    }\n  ];\n\n  function run_inline_js() {\n    \n    if (root.Bokeh !== undefined || force === true) {\n      \n    for (let i = 0; i < inline_js.length; i++) {\n      inline_js[i].call(root, root.Bokeh);\n    }\n    if (force === true) {\n        display_loaded();\n      }} else if (Date.now() < root._bokeh_timeout) {\n      setTimeout(run_inline_js, 100);\n    } else if (!root._bokeh_failed_load) {\n      console.log(\"Bokeh: BokehJS failed to load within specified timeout.\");\n      root._bokeh_failed_load = true;\n    } else if (force !== true) {\n      const cell = $(document.getElementById(\"22539\")).parents('.cell').data().cell;\n      cell.output_area.append_execute_result(NB_LOAD_WARNING)\n    }\n\n  }\n\n  if (root._bokeh_is_loading === 0) {\n    console.debug(\"Bokeh: BokehJS loaded, going straight to plotting\");\n    run_inline_js();\n  } else {\n    load_libs(css_urls, js_urls, function() {\n      console.debug(\"Bokeh: BokehJS plotting callback run at\", now());\n      run_inline_js();\n    });\n  }\n}(window));",
      "application/vnd.bokehjs_load.v0+json": ""
     },
     "metadata": {},
     "output_type": "display_data"
    },
    {
     "name": "stdout",
     "output_type": "stream",
     "text": [
      "0\n",
      "1\n",
      "2\n",
      "3\n",
      "4\n",
      "5\n",
      "6\n",
      "7\n",
      "8\n",
      "9\n",
      "10\n",
      "11\n",
      "12\n",
      "13\n",
      "14\n",
      "15\n",
      "16\n",
      "17\n",
      "18\n",
      "19\n",
      "20\n",
      "21\n",
      "22\n",
      "23\n",
      "24\n",
      "25\n",
      "26\n",
      "27\n",
      "28\n",
      "29\n",
      "30\n",
      "31\n",
      "32\n",
      "33\n",
      "34\n",
      "35\n",
      "36\n",
      "37\n",
      "38\n",
      "39\n",
      "40\n",
      "41\n",
      "42\n",
      "43\n",
      "44\n",
      "45\n",
      "46\n",
      "47\n",
      "48\n",
      "49\n",
      "50\n",
      "51\n",
      "52\n",
      "53\n",
      "54\n",
      "55\n",
      "56\n",
      "57\n",
      "58\n",
      "59\n",
      "60\n",
      "61\n",
      "62\n",
      "63\n",
      "64\n",
      "65\n",
      "66\n",
      "67\n",
      "68\n",
      "69\n",
      "70\n",
      "71\n",
      "72\n",
      "73\n",
      "74\n",
      "75\n",
      "76\n",
      "77\n",
      "78\n",
      "79\n",
      "80\n",
      "81\n",
      "82\n",
      "83\n",
      "84\n",
      "85\n",
      "86\n",
      "87\n",
      "88\n",
      "89\n",
      "90\n",
      "91\n",
      "92\n",
      "93\n",
      "94\n",
      "95\n",
      "96\n",
      "97\n",
      "98\n",
      "99\n",
      "100\n",
      "101\n",
      "102\n",
      "103\n",
      "104\n",
      "105\n",
      "106\n",
      "107\n",
      "108\n",
      "109\n",
      "110\n",
      "111\n",
      "112\n",
      "113\n",
      "114\n",
      "115\n",
      "116\n",
      "117\n",
      "118\n",
      "119\n",
      "120\n",
      "121\n",
      "122\n",
      "123\n",
      "124\n",
      "125\n",
      "126\n",
      "127\n",
      "128\n",
      "129\n",
      "130\n",
      "131\n",
      "132\n",
      "133\n",
      "134\n",
      "135\n",
      "136\n",
      "137\n",
      "138\n",
      "139\n",
      "140\n",
      "141\n",
      "142\n",
      "143\n",
      "144\n",
      "145\n",
      "146\n",
      "147\n",
      "148\n",
      "149\n",
      "150\n",
      "151\n",
      "152\n",
      "153\n",
      "154\n",
      "155\n",
      "156\n",
      "157\n",
      "158\n",
      "159\n",
      "160\n",
      "161\n",
      "162\n",
      "163\n",
      "164\n",
      "165\n",
      "166\n",
      "167\n",
      "168\n",
      "169\n",
      "170\n",
      "171\n",
      "172\n",
      "173\n",
      "174\n",
      "175\n",
      "176\n",
      "177\n",
      "178\n",
      "179\n",
      "180\n",
      "181\n",
      "182\n",
      "183\n",
      "184\n",
      "185\n",
      "186\n",
      "187\n",
      "188\n",
      "189\n",
      "190\n",
      "191\n",
      "192\n",
      "193\n",
      "194\n",
      "195\n",
      "196\n",
      "197\n",
      "198\n",
      "199\n"
     ]
    },
    {
     "data": {
      "text/html": [
       "\n",
       "\n",
       "\n",
       "\n",
       "\n",
       "\n",
       "  <div class=\"bk-root\" id=\"3245b7cd-9cac-409c-9d8e-2cf6e681768d\" data-root-id=\"39284\"></div>\n"
      ]
     },
     "metadata": {},
     "output_type": "display_data"
    },
    {
     "data": {
      "application/javascript": "(function(root) {\n  function embed_document(root) {\n    \n  const docs_json = {\"f9bf8e86-eff9-4a9c-9ca5-65f42dcc7160\":{\"defs\":[],\"roots\":{\"references\":[{\"attributes\":{\"below\":[{\"id\":\"39295\"}],\"center\":[{\"id\":\"39298\"},{\"id\":\"39302\"}],\"height\":400,\"left\":[{\"id\":\"39299\"}],\"renderers\":[{\"id\":\"39321\"}],\"title\":{\"id\":\"39285\"},\"toolbar\":{\"id\":\"39310\"},\"width\":400,\"x_range\":{\"id\":\"39287\"},\"x_scale\":{\"id\":\"39291\"},\"y_range\":{\"id\":\"39289\"},\"y_scale\":{\"id\":\"39293\"}},\"id\":\"39284\",\"subtype\":\"Figure\",\"type\":\"Plot\"},{\"attributes\":{\"line_alpha\":0.2,\"line_color\":\"#1f77b4\",\"x\":{\"field\":\"x\"},\"y\":{\"field\":\"y\"}},\"id\":\"39320\",\"type\":\"Line\"},{\"attributes\":{\"line_color\":\"#1f77b4\",\"x\":{\"field\":\"x\"},\"y\":{\"field\":\"y\"}},\"id\":\"39318\",\"type\":\"Line\"},{\"attributes\":{},\"id\":\"39524\",\"type\":\"AllLabels\"},{\"attributes\":{},\"id\":\"39303\",\"type\":\"PanTool\"},{\"attributes\":{},\"id\":\"39523\",\"type\":\"BasicTickFormatter\"},{\"attributes\":{},\"id\":\"39304\",\"type\":\"WheelZoomTool\"},{\"attributes\":{},\"id\":\"39289\",\"type\":\"DataRange1d\"},{\"attributes\":{\"data\":{\"x\":[0.25,0.25125125628140704,0.2525025125628141,0.25375376884422113,0.2550050251256281,0.25625628140703516,0.2575075376884422,0.25875879396984924,0.2600100502512563,0.26126130653266333,0.26251256281407037,0.2637638190954774,0.2650150753768844,0.26626633165829144,0.2675175879396985,0.26876884422110553,0.27002010050251257,0.2712713567839196,0.27252261306532666,0.27377386934673364,0.2750251256281407,0.27627638190954773,0.2775276381909548,0.2787788944723618,0.28003015075376886,0.2812814070351759,0.2825326633165829,0.28378391959798993,0.285035175879397,0.286286432160804,0.28753768844221106,0.2887889447236181,0.29004020100502514,0.29129145728643213,0.2925427135678392,0.2937939698492462,0.29504522613065326,0.2962964824120603,0.29754773869346735,0.2987989949748744,0.3000502512562814,0.3013015075376884,0.30255276381909546,0.3038040201005025,0.30505527638190955,0.3063065326633166,0.30755778894472363,0.3088090452261307,0.3100603015075377,0.3113115577889447,0.31256281407035175,0.3138140703517588,0.31506532663316583,0.3163165829145729,0.31756783919597986,0.31881909547738696,0.32007035175879395,0.321321608040201,0.32257286432160803,0.3238241206030151,0.3250753768844221,0.32632663316582916,0.3275778894472362,0.3288291457286432,0.33008040201005023,0.3313316582914573,0.3325829145728643,0.33383417085427136,0.3350854271356784,0.33633668341708545,0.33758793969849243,0.3388391959798995,0.3400904522613065,0.34134170854271356,0.3425929648241206,0.34384422110552765,0.3450954773869347,0.3463467336683417,0.3475979899497487,0.34884924623115576,0.3501005025125628,0.35135175879396985,0.3526030150753769,0.35385427135678393,0.3551055276381909,0.356356783919598,0.357608040201005,0.35885929648241205,0.3601105527638191,0.36136180904522613,0.3626130653266332,0.36386432160804016,0.36511557788944726,0.36636683417085425,0.3676180904522613,0.36886934673366834,0.3701206030150754,0.3713718592964824,0.3726231155778894,0.3738743718592965,0.3751256281407035,0.37637688442211054,0.3776281407035176,0.3788793969849246,0.38013065326633166,0.38138190954773865,0.38263316582914575,0.38388442211055274,0.3851356783919598,0.3863869346733668,0.38763819095477386,0.3888894472361809,0.3901407035175879,0.391391959798995,0.392643216080402,0.3938944723618091,0.39514572864321607,0.3963969849246231,0.39764824120603015,0.39889949748743714,0.40015075376884424,0.4014020100502512,0.4026532663316583,0.4039045226130653,0.40515577889447235,0.4064070351758794,0.40765829145728644,0.4089095477386935,0.41016080402010047,0.41141206030150757,0.41266331658291455,0.4139145728643216,0.41516582914572864,0.4164170854271357,0.4176683417085427,0.4189195979899497,0.4201708542713568,0.4214221105527638,0.42267336683417084,0.4239246231155779,0.4251758793969849,0.42642713567839197,0.42767839195979895,0.42892964824120605,0.43018090452261304,0.4314321608040201,0.4326834170854271,0.43393467336683417,0.4351859296482412,0.4364371859296482,0.4376884422110553,0.4389396984924623,0.4401909547738693,0.44144221105527637,0.4426934673366834,0.44394472361809045,0.44519597989949744,0.44644723618090454,0.4476984924623115,0.4489497487437186,0.4502010050251256,0.45145226130653265,0.4527035175879397,0.4539547738693467,0.4552060301507538,0.45645728643216077,0.45770854271356787,0.45895979899497485,0.4602110552763819,0.46146231155778894,0.462713567839196,0.463964824120603,0.46521608040201,0.4664673366834171,0.4677185929648241,0.46896984924623114,0.4702211055276382,0.4714723618090452,0.47272361809045227,0.47397487437185926,0.47522613065326635,0.47647738693467334,0.4777286432160804,0.4789798994974874],\"y\":[0.00632207436452628,0.006278511727309454,0.006246900410512683,0.006215289708260134,0.006183679613607713,0.006152070119658247,0.0061204612195687,0.006088852906537656,0.006044730485065418,0.006013188623968626,0.005981647328735986,0.005950106592765591,0.005918566409501391,0.005887026772442929,0.0058554876751190765,0.005823949111117345,0.00577927662412776,0.005747810615345062,0.005716345119842254,0.005684880131408735,0.005653415643853249,0.0056219516510619,0.005590488146934999,0.00555902512544035,0.005513743931727761,0.005482360506729234,0.005450977545447761,0.005419595042026059,0.005388212990665936,0.0053568313856039015,0.005325450221115059,0.00529406949152824,0.005248111351130102,0.005216818393357697,0.005185525852682099,0.0051542337235974175,0.005122942000665631,0.005091650678480064,0.0050603597516869605,0.0050290692149532745,0.004982354054159372,0.004951160849142301,0.00491996801744969,0.0048887755539546275,0.004857583453545051,0.0048263917111776725,0.00479520032182504,0.0047640092805306036,0.0047164422716313775,0.004685359830802451,0.004654277722344878,0.004623195941439599,0.004592114483344468,0.004561033343343142,0.004529952516768489,0.0044988719989863596,0.004450339687023967,0.004419381172983663,0.004388422953041825,0.004357465022757056,0.004326507377700095,0.004295550013505652,0.004264592925810058,0.0042336361103373224,0.004184001189552748,0.004153182483182034,0.004122364035328438,0.004091545841860583,0.004060727898705145,0.004029910201778807,0.003999092747080449,0.003968275530610646,0.0039173696662585,0.0038867101367399794,0.003856050832744525,0.0038253917504495138,0.003794732886079055,0.0037640742359177507,0.0037334157962161624,0.003702757563345934,0.003650371315693568,0.003619894886786839,0.0035894186528944954,0.003558942610550921,0.0035284667562837735,0.0034979910866555974,0.0034675155982540817,0.0034370402877185813,0.003382908620721812,0.0033526452815645625,0.0033223821094168814,0.0032921191010464226,0.0032618562533668436,0.0032315935631891048,0.0032013310274446615,0.003171068643032917,0.00311484949059924,0.003084837493528114,0.003054825637892583,0.0030248139206989024,0.002994802339097371,0.002964790890273933,0.002934779571422602,0.002904768379767164,0.002846009890946612,0.002816299048557574,0.0027865883243301877,0.0027568777155303177,0.0027271672196140695,0.0026974568340116193,0.0026677465562087873,0.0026380363837146055,0.0025761248965668225,0.0025467817106354152,0.002517438621761925,0.0024880956276785104,0.0024587527259289366,0.002429409914323677,0.0024000671905960447,0.0023707245525464325,0.0023047980367458193,0.0022759140330371,0.0022470301075598518,0.0022181462582941958,0.00218926248320555,0.0021603787801072073,0.002131495147217382,0.0021026115825037994,0.002031407226102011,0.002003113243099555,0.001974819321810234,0.0019465254600625204,0.0019182316563067514,0.0018899379088539447,0.0018616442159702512,0.0018333505758579144,0.0017549166295655696,0.0017274090149371915,0.001699901447045444,0.0016723939247936328,0.0016448864461399465,0.0016173790100887059,0.001589871615077462,0.0015623642596487772,0.0014734627705554892,0.0014470557739197736,0.0014206488112231501,0.0013942418819956615,0.0013678349844109539,0.0013414281176179488,0.0013150212803951788,0.0012886144710229825,0.0011833198064021611,0.0011585634646311903,0.0011338071467674293,0.0011090508514693509,0.0010842945775874301,0.0010595383248020785,0.0010347820925234786,0.0010100258777802963,0.0008757953627105131,0.0008537898615433304,0.000831784375129041,0.0008097789031232261,0.0007877734452789997,0.0007657679991133481,0.0007437625655556113,0.000721757143354651,0.000524813877649799,0.0005083098164192871,0.0004918057639261194,0.00047530171960197265,0.0004587976817888399,0.0004422936499621777,0.0004257896236502153,0.0004092856024663731,2.503552920529728e-13,5.794809077031005e-13,2.117306330262636e-12,5.111466805374221e-13,2.961075828977755e-12,1.2789769243681803e-12,1.2494449919131512e-12,4.2039149938943865e-12]},\"selected\":{\"id\":\"39529\"},\"selection_policy\":{\"id\":\"39528\"}},\"id\":\"39317\",\"type\":\"ColumnDataSource\"},{\"attributes\":{\"coordinates\":null,\"group\":null,\"text\":\"spline errors\"},\"id\":\"39285\",\"type\":\"Title\"},{\"attributes\":{\"overlay\":{\"id\":\"39309\"}},\"id\":\"39305\",\"type\":\"BoxZoomTool\"},{\"attributes\":{},\"id\":\"39287\",\"type\":\"DataRange1d\"},{\"attributes\":{},\"id\":\"39306\",\"type\":\"SaveTool\"},{\"attributes\":{},\"id\":\"39291\",\"type\":\"LinearScale\"},{\"attributes\":{},\"id\":\"39307\",\"type\":\"ResetTool\"},{\"attributes\":{},\"id\":\"39308\",\"type\":\"HelpTool\"},{\"attributes\":{},\"id\":\"39293\",\"type\":\"LinearScale\"},{\"attributes\":{\"tools\":[{\"id\":\"39303\"},{\"id\":\"39304\"},{\"id\":\"39305\"},{\"id\":\"39306\"},{\"id\":\"39307\"},{\"id\":\"39308\"}]},\"id\":\"39310\",\"type\":\"Toolbar\"},{\"attributes\":{\"axis_label\":\"r\",\"coordinates\":null,\"formatter\":{\"id\":\"39526\"},\"group\":null,\"major_label_policy\":{\"id\":\"39527\"},\"ticker\":{\"id\":\"39296\"}},\"id\":\"39295\",\"type\":\"LinearAxis\"},{\"attributes\":{\"bottom_units\":\"screen\",\"coordinates\":null,\"fill_alpha\":0.5,\"fill_color\":\"lightgrey\",\"group\":null,\"left_units\":\"screen\",\"level\":\"overlay\",\"line_alpha\":1.0,\"line_color\":\"black\",\"line_dash\":[4,4],\"line_width\":2,\"right_units\":\"screen\",\"syncable\":false,\"top_units\":\"screen\"},\"id\":\"39309\",\"type\":\"BoxAnnotation\"},{\"attributes\":{\"axis\":{\"id\":\"39299\"},\"coordinates\":null,\"dimension\":1,\"group\":null,\"ticker\":null},\"id\":\"39302\",\"type\":\"Grid\"},{\"attributes\":{},\"id\":\"39296\",\"type\":\"BasicTicker\"},{\"attributes\":{\"axis\":{\"id\":\"39295\"},\"coordinates\":null,\"group\":null,\"ticker\":null},\"id\":\"39298\",\"type\":\"Grid\"},{\"attributes\":{\"line_alpha\":0.1,\"line_color\":\"#1f77b4\",\"x\":{\"field\":\"x\"},\"y\":{\"field\":\"y\"}},\"id\":\"39319\",\"type\":\"Line\"},{\"attributes\":{},\"id\":\"39529\",\"type\":\"Selection\"},{\"attributes\":{},\"id\":\"39300\",\"type\":\"BasicTicker\"},{\"attributes\":{},\"id\":\"39527\",\"type\":\"AllLabels\"},{\"attributes\":{\"axis_label\":\"loss\",\"coordinates\":null,\"formatter\":{\"id\":\"39523\"},\"group\":null,\"major_label_policy\":{\"id\":\"39524\"},\"ticker\":{\"id\":\"39300\"}},\"id\":\"39299\",\"type\":\"LinearAxis\"},{\"attributes\":{},\"id\":\"39528\",\"type\":\"UnionRenderers\"},{\"attributes\":{\"source\":{\"id\":\"39317\"}},\"id\":\"39322\",\"type\":\"CDSView\"},{\"attributes\":{\"coordinates\":null,\"data_source\":{\"id\":\"39317\"},\"glyph\":{\"id\":\"39318\"},\"group\":null,\"hover_glyph\":null,\"muted_glyph\":{\"id\":\"39320\"},\"nonselection_glyph\":{\"id\":\"39319\"},\"view\":{\"id\":\"39322\"}},\"id\":\"39321\",\"type\":\"GlyphRenderer\"},{\"attributes\":{},\"id\":\"39526\",\"type\":\"BasicTickFormatter\"}],\"root_ids\":[\"39284\"]},\"title\":\"Bokeh Application\",\"version\":\"2.4.1\"}};\n  const render_items = [{\"docid\":\"f9bf8e86-eff9-4a9c-9ca5-65f42dcc7160\",\"root_ids\":[\"39284\"],\"roots\":{\"39284\":\"3245b7cd-9cac-409c-9d8e-2cf6e681768d\"}}];\n  root.Bokeh.embed.embed_items_notebook(docs_json, render_items);\n\n  }\n  if (root.Bokeh !== undefined) {\n    embed_document(root);\n  } else {\n    let attempts = 0;\n    const timer = setInterval(function(root) {\n      if (root.Bokeh !== undefined) {\n        clearInterval(timer);\n        embed_document(root);\n      } else {\n        attempts++;\n        if (attempts > 100) {\n          clearInterval(timer);\n          console.log(\"Bokeh: ERROR: Unable to run BokehJS code because BokehJS library is missing\");\n        }\n      }\n    }, 10, root)\n  }\n})(window);",
      "application/vnd.bokehjs_exec.v0+json": ""
     },
     "metadata": {
      "application/vnd.bokehjs_exec.v0+json": {
       "id": "39284"
      }
     },
     "output_type": "display_data"
    }
   ],
   "source": [
    "import numpy as np\n",
    "from bokeh.io import output_notebook\n",
    "output_notebook()\n",
    "from bokeh.plotting import figure, show\n",
    "\n",
    "A = 1/2\n",
    "F = np.sqrt(A)\n",
    "\n",
    "def f(r, dim=3):\n",
    "    if dim == 3:\n",
    "        return [r**3, r**2, r]\n",
    "    elif dim == 4:\n",
    "        return [r**3, r**2, r, 1.] \n",
    "\n",
    "def df(r, dim=3):\n",
    "    if dim == 3:\n",
    "        return [3*r**2, 2*r, 1.]\n",
    "    elif dim == 4:\n",
    "        return [3*r**2, 2*r, 1., 0.]\n",
    "\n",
    "def u(r):\n",
    "    return (A / r) * (1 - np.exp(-r/F))\n",
    "\n",
    "def du(r):\n",
    "    return (- A / r**2) * (1 - np.exp(-r/F)) + (A/(r*F)) * np.exp(-r/F)\n",
    "\n",
    "r_boundary = 1/4.\n",
    "r_boundarys = np.linspace(0.25, 0.499, 200)\n",
    "rbs = []\n",
    "losses = []\n",
    "plots = []\n",
    "for i, r_boundary in enumerate(r_boundarys):\n",
    "    print(i)\n",
    "    dist = r_edge - r_boundary\n",
    "    n = int(dist / 0.01)\n",
    "    if n < 2:\n",
    "        continue\n",
    "    rbs.append(r_boundary)\n",
    "\n",
    "    \n",
    "    r_edge = 1/2.\n",
    "\n",
    "    coefs = [f(r_boundary),\n",
    "            df(r_boundary),\n",
    "            f(r_edge)]\n",
    "\n",
    "    res = [[u(r_boundary)],\n",
    "        [du(r_boundary)],\n",
    "        [0.0]]\n",
    "\n",
    "    dim = 4\n",
    "    coefs = [f(r_boundary, dim=dim),\n",
    "        df(r_boundary, dim=dim),\n",
    "        f(r_edge, dim=dim),\n",
    "        df(r_edge, dim=dim)]\n",
    "\n",
    "    res = [[u(r_boundary)],\n",
    "        [du(r_boundary)],\n",
    "        [u(r_edge)],\n",
    "        [0.0]]\n",
    "\n",
    "    poly = np.linalg.inv(coefs).dot(res)\n",
    "    p = figure(title=\"Simple line example\", x_axis_label='r', y_axis_label='jastrow factor', width=400, height=400)\n",
    "\n",
    "    \n",
    "    xs = np.linspace(0.001, r_edge, n)\n",
    "    ys_jastrow = np.array([u(x) for x in xs])\n",
    "    p.line(xs, ys_jastrow, legend_label=\"Jastrow factor u\", line_width=2)\n",
    "\n",
    "    xs = np.linspace(r_boundary, r_edge, n)\n",
    "    ys_poly = np.array([sum(f(x, dim=dim) * poly.reshape(-1)) for x in xs])\n",
    "    p.line(xs, ys_poly, legend_label=\"Corrected line\", line_width=2, color='red')\n",
    "\n",
    "    jastrow_compare = np.linspace(r_boundary, r_edge, n)\n",
    "    ys_jastrow = np.array([u(x) for x in jastrow_compare])\n",
    "    loss = np.mean(np.abs(ys_jastrow - ys_poly))\n",
    "\n",
    "    losses.append(loss)\n",
    "\n",
    "    ys = np.linspace(0, max(ys_jastrow), 10)\n",
    "    xs = [r_boundary for _ in ys]\n",
    "    p.line(xs, ys, color='purple', legend_label='r_boundary')\n",
    "    p.legend.location = 'bottom_left'\n",
    "    # show(p)\n",
    "    plots.append(p)\n",
    "\n",
    "p = figure(width=400, height=400, title='spline errors', x_axis_label='r', y_axis_label='loss')\n",
    "p.line(rbs, losses)\n",
    "show(p)"
   ]
  },
  {
   "cell_type": "code",
   "execution_count": 26,
   "metadata": {},
   "outputs": [
    {
     "data": {
      "text/html": [
       "\n",
       "\n",
       "\n",
       "\n",
       "\n",
       "\n",
       "  <div class=\"bk-root\" id=\"0af187f8-4a9c-4c43-92f8-e5f3a23e8b08\" data-root-id=\"22540\"></div>\n"
      ]
     },
     "metadata": {},
     "output_type": "display_data"
    },
    {
     "data": {
      "application/javascript": "(function(root) {\n  function embed_document(root) {\n    \n  const docs_json = {\"c93f2a7e-6717-4653-91ed-e81441124078\":{\"defs\":[],\"roots\":{\"references\":[{\"attributes\":{\"below\":[{\"id\":\"22551\"}],\"center\":[{\"id\":\"22554\"},{\"id\":\"22558\"},{\"id\":\"22589\"}],\"height\":400,\"left\":[{\"id\":\"22555\"}],\"renderers\":[{\"id\":\"22577\"},{\"id\":\"22595\"},{\"id\":\"22614\"}],\"title\":{\"id\":\"22541\"},\"toolbar\":{\"id\":\"22566\"},\"width\":400,\"x_range\":{\"id\":\"22543\"},\"x_scale\":{\"id\":\"22547\"},\"y_range\":{\"id\":\"22545\"},\"y_scale\":{\"id\":\"22549\"}},\"id\":\"22540\",\"subtype\":\"Figure\",\"type\":\"Plot\"},{\"attributes\":{},\"id\":\"22586\",\"type\":\"UnionRenderers\"},{\"attributes\":{\"coordinates\":null,\"data_source\":{\"id\":\"22573\"},\"glyph\":{\"id\":\"22574\"},\"group\":null,\"hover_glyph\":null,\"muted_glyph\":{\"id\":\"22576\"},\"nonselection_glyph\":{\"id\":\"22575\"},\"view\":{\"id\":\"22578\"}},\"id\":\"22577\",\"type\":\"GlyphRenderer\"},{\"attributes\":{\"coordinates\":null,\"data_source\":{\"id\":\"22610\"},\"glyph\":{\"id\":\"22611\"},\"group\":null,\"hover_glyph\":null,\"muted_glyph\":{\"id\":\"22613\"},\"nonselection_glyph\":{\"id\":\"22612\"},\"view\":{\"id\":\"22615\"}},\"id\":\"22614\",\"type\":\"GlyphRenderer\"},{\"attributes\":{\"coordinates\":null,\"group\":null,\"items\":[{\"id\":\"22590\"},{\"id\":\"22609\"},{\"id\":\"22630\"}],\"location\":\"bottom_left\"},\"id\":\"22589\",\"type\":\"Legend\"},{\"attributes\":{\"source\":{\"id\":\"22610\"}},\"id\":\"22615\",\"type\":\"CDSView\"},{\"attributes\":{},\"id\":\"22582\",\"type\":\"AllLabels\"},{\"attributes\":{},\"id\":\"22545\",\"type\":\"DataRange1d\"},{\"attributes\":{},\"id\":\"22559\",\"type\":\"PanTool\"},{\"attributes\":{},\"id\":\"22587\",\"type\":\"Selection\"},{\"attributes\":{},\"id\":\"22627\",\"type\":\"UnionRenderers\"},{\"attributes\":{},\"id\":\"22560\",\"type\":\"WheelZoomTool\"},{\"attributes\":{\"label\":{\"value\":\"Jastrow factor u\"},\"renderers\":[{\"id\":\"22577\"}]},\"id\":\"22590\",\"type\":\"LegendItem\"},{\"attributes\":{\"line_alpha\":0.2,\"line_color\":\"red\",\"line_width\":2,\"x\":{\"field\":\"x\"},\"y\":{\"field\":\"y\"}},\"id\":\"22594\",\"type\":\"Line\"},{\"attributes\":{\"overlay\":{\"id\":\"22565\"}},\"id\":\"22561\",\"type\":\"BoxZoomTool\"},{\"attributes\":{\"line_alpha\":0.1,\"line_color\":\"#1f77b4\",\"line_width\":2,\"x\":{\"field\":\"x\"},\"y\":{\"field\":\"y\"}},\"id\":\"22575\",\"type\":\"Line\"},{\"attributes\":{\"line_color\":\"#1f77b4\",\"line_width\":2,\"x\":{\"field\":\"x\"},\"y\":{\"field\":\"y\"}},\"id\":\"22574\",\"type\":\"Line\"},{\"attributes\":{\"data\":{\"x\":{\"__ndarray__\":\"AAAAAAAA0D+rqqqqqqrQP1VVVVVVVdE/AAAAAAAA0j+rqqqqqqrSP1VVVVVVVdM/AAAAAAAA1D+qqqqqqqrUP1VVVVVVVdU/AAAAAAAA1j+qqqqqqqrWP1VVVVVVVdc/AAAAAAAA2D+qqqqqqqrYP1VVVVVVVdk/AAAAAAAA2j+qqqqqqqraP1VVVVVVVds/AAAAAAAA3D+qqqqqqqrcP1VVVVVVVd0/AAAAAAAA3j+qqqqqqqreP1VVVVVVVd8/AAAAAAAA4D8=\",\"dtype\":\"float64\",\"order\":\"little\",\"shape\":[25]},\"y\":{\"__ndarray__\":\"AjbL9VcP4z8CPBApmeziP4wu/18zyOI/ZOTE222i4j9PNI7dj3viPxX1h6bgU+I/ef3ed6cr4j9CJMCSKwPiPzhAWDi02uE/HCjUqYiy4T+2smAo8IrhP862KvUxZOE/JQtfUZU+4T+Ehip+YRrhP7H/ubzd9+A/b006TlHX4D+GRthzA7ngP7nBwG47neA/0pUggECE4D+UmSTpWW7gP8Sj+erOW+A/KIvMxuZM4D+IJsq96EHgP6hMHxEcO+A/TNT4Acg44D8=\",\"dtype\":\"float64\",\"order\":\"little\",\"shape\":[25]}},\"selected\":{\"id\":\"22607\"},\"selection_policy\":{\"id\":\"22606\"}},\"id\":\"22591\",\"type\":\"ColumnDataSource\"},{\"attributes\":{},\"id\":\"22562\",\"type\":\"SaveTool\"},{\"attributes\":{},\"id\":\"22628\",\"type\":\"Selection\"},{\"attributes\":{},\"id\":\"22563\",\"type\":\"ResetTool\"},{\"attributes\":{},\"id\":\"22547\",\"type\":\"LinearScale\"},{\"attributes\":{},\"id\":\"22564\",\"type\":\"HelpTool\"},{\"attributes\":{},\"id\":\"22549\",\"type\":\"LinearScale\"},{\"attributes\":{\"line_alpha\":0.1,\"line_color\":\"red\",\"line_width\":2,\"x\":{\"field\":\"x\"},\"y\":{\"field\":\"y\"}},\"id\":\"22593\",\"type\":\"Line\"},{\"attributes\":{\"coordinates\":null,\"data_source\":{\"id\":\"22591\"},\"glyph\":{\"id\":\"22592\"},\"group\":null,\"hover_glyph\":null,\"muted_glyph\":{\"id\":\"22594\"},\"nonselection_glyph\":{\"id\":\"22593\"},\"view\":{\"id\":\"22596\"}},\"id\":\"22595\",\"type\":\"GlyphRenderer\"},{\"attributes\":{\"tools\":[{\"id\":\"22559\"},{\"id\":\"22560\"},{\"id\":\"22561\"},{\"id\":\"22562\"},{\"id\":\"22563\"},{\"id\":\"22564\"}]},\"id\":\"22566\",\"type\":\"Toolbar\"},{\"attributes\":{\"axis_label\":\"r\",\"coordinates\":null,\"formatter\":{\"id\":\"22584\"},\"group\":null,\"major_label_policy\":{\"id\":\"22585\"},\"ticker\":{\"id\":\"22552\"}},\"id\":\"22551\",\"type\":\"LinearAxis\"},{\"attributes\":{\"axis\":{\"id\":\"22555\"},\"coordinates\":null,\"dimension\":1,\"group\":null,\"ticker\":null},\"id\":\"22558\",\"type\":\"Grid\"},{\"attributes\":{\"source\":{\"id\":\"22591\"}},\"id\":\"22596\",\"type\":\"CDSView\"},{\"attributes\":{},\"id\":\"22552\",\"type\":\"BasicTicker\"},{\"attributes\":{\"bottom_units\":\"screen\",\"coordinates\":null,\"fill_alpha\":0.5,\"fill_color\":\"lightgrey\",\"group\":null,\"left_units\":\"screen\",\"level\":\"overlay\",\"line_alpha\":1.0,\"line_color\":\"black\",\"line_dash\":[4,4],\"line_width\":2,\"right_units\":\"screen\",\"syncable\":false,\"top_units\":\"screen\"},\"id\":\"22565\",\"type\":\"BoxAnnotation\"},{\"attributes\":{},\"id\":\"22581\",\"type\":\"BasicTickFormatter\"},{\"attributes\":{\"label\":{\"value\":\"Corrected line\"},\"renderers\":[{\"id\":\"22595\"}]},\"id\":\"22609\",\"type\":\"LegendItem\"},{\"attributes\":{\"axis\":{\"id\":\"22551\"},\"coordinates\":null,\"group\":null,\"ticker\":null},\"id\":\"22554\",\"type\":\"Grid\"},{\"attributes\":{\"line_color\":\"purple\",\"x\":{\"field\":\"x\"},\"y\":{\"field\":\"y\"}},\"id\":\"22611\",\"type\":\"Line\"},{\"attributes\":{\"label\":{\"value\":\"r_boundary\"},\"renderers\":[{\"id\":\"22614\"}]},\"id\":\"22630\",\"type\":\"LegendItem\"},{\"attributes\":{},\"id\":\"22607\",\"type\":\"Selection\"},{\"attributes\":{},\"id\":\"22543\",\"type\":\"DataRange1d\"},{\"attributes\":{\"line_alpha\":0.2,\"line_color\":\"#1f77b4\",\"line_width\":2,\"x\":{\"field\":\"x\"},\"y\":{\"field\":\"y\"}},\"id\":\"22576\",\"type\":\"Line\"},{\"attributes\":{},\"id\":\"22556\",\"type\":\"BasicTicker\"},{\"attributes\":{\"coordinates\":null,\"group\":null,\"text\":\"Simple line example\"},\"id\":\"22541\",\"type\":\"Title\"},{\"attributes\":{\"axis_label\":\"jastrow factor\",\"coordinates\":null,\"formatter\":{\"id\":\"22581\"},\"group\":null,\"major_label_policy\":{\"id\":\"22582\"},\"ticker\":{\"id\":\"22556\"}},\"id\":\"22555\",\"type\":\"LinearAxis\"},{\"attributes\":{\"line_alpha\":0.2,\"line_color\":\"purple\",\"x\":{\"field\":\"x\"},\"y\":{\"field\":\"y\"}},\"id\":\"22613\",\"type\":\"Line\"},{\"attributes\":{},\"id\":\"22585\",\"type\":\"AllLabels\"},{\"attributes\":{},\"id\":\"22584\",\"type\":\"BasicTickFormatter\"},{\"attributes\":{},\"id\":\"22606\",\"type\":\"UnionRenderers\"},{\"attributes\":{\"data\":{\"x\":{\"__ndarray__\":\"/Knx0k1iUD+EeaL+jVCWPzTsCpB7zaU/001iEFg5sD+MJb9Y8ou1P0X9G6GM3ro/f2q8dJMYwD9c1uqY4MHCPzhCGb0ta8U/FK5H4XoUyD/xGXYFyL3KP86FpCkVZ80/1XjpJjEI0D/DrgC511zRP7LkF0t+sdI/oBov3SQG1D+OUEZvy1rVP3yGXQFyr9Y/arx0kxgE2D9Z8oslv1jZP0coo7dlrdo/NV66SQwC3D8klNHbslbdPxLK6G1Zq94/AAAAAAAA4D8=\",\"dtype\":\"float64\",\"order\":\"little\",\"shape\":[25]},\"y\":{\"__ndarray__\":\"SLeJUYac5j8JVBUeRUjmP5PWpoul9eU/umWRg56k5T8MISQlJ1XlP2g0XMQ2B+U/6Taf6MS65D/6n31LyW/kP3sefdc7JuQ/ZJ7qphTe4z+Fy7MCTJfjP2rgR2HaUeM/bZJ/ZbgN4z+47Ivd3sriP23t68FGieI/D7loNOlI4j/NORh/vwniP+8AZhPDy+E/EkIiie2O4T/FwJadOFPhPyWKoTKeGOE/8lTVTRjf4D/OY58XoabgPwnGctoyb+A/aNT4Acg44D8=\",\"dtype\":\"float64\",\"order\":\"little\",\"shape\":[25]}},\"selected\":{\"id\":\"22587\"},\"selection_policy\":{\"id\":\"22586\"}},\"id\":\"22573\",\"type\":\"ColumnDataSource\"},{\"attributes\":{\"data\":{\"x\":[0.25,0.25,0.25,0.25,0.25,0.25,0.25,0.25,0.25,0.25],\"y\":{\"__ndarray__\":\"AAAAAAAAAAAn9wm+MfGwPyf3Cb4x8cA/uvIOncppyT8n9wm+MfHQP/F0jC1+LdU/uvIOncpp2T+EcJEMF6bdPyf3Cb4x8eA/DDbL9VcP4z8=\",\"dtype\":\"float64\",\"order\":\"little\",\"shape\":[10]}},\"selected\":{\"id\":\"22628\"},\"selection_policy\":{\"id\":\"22627\"}},\"id\":\"22610\",\"type\":\"ColumnDataSource\"},{\"attributes\":{\"line_alpha\":0.1,\"line_color\":\"purple\",\"x\":{\"field\":\"x\"},\"y\":{\"field\":\"y\"}},\"id\":\"22612\",\"type\":\"Line\"},{\"attributes\":{\"line_color\":\"red\",\"line_width\":2,\"x\":{\"field\":\"x\"},\"y\":{\"field\":\"y\"}},\"id\":\"22592\",\"type\":\"Line\"},{\"attributes\":{\"source\":{\"id\":\"22573\"}},\"id\":\"22578\",\"type\":\"CDSView\"}],\"root_ids\":[\"22540\"]},\"title\":\"Bokeh Application\",\"version\":\"2.4.1\"}};\n  const render_items = [{\"docid\":\"c93f2a7e-6717-4653-91ed-e81441124078\",\"root_ids\":[\"22540\"],\"roots\":{\"22540\":\"0af187f8-4a9c-4c43-92f8-e5f3a23e8b08\"}}];\n  root.Bokeh.embed.embed_items_notebook(docs_json, render_items);\n\n  }\n  if (root.Bokeh !== undefined) {\n    embed_document(root);\n  } else {\n    let attempts = 0;\n    const timer = setInterval(function(root) {\n      if (root.Bokeh !== undefined) {\n        clearInterval(timer);\n        embed_document(root);\n      } else {\n        attempts++;\n        if (attempts > 100) {\n          clearInterval(timer);\n          console.log(\"Bokeh: ERROR: Unable to run BokehJS code because BokehJS library is missing\");\n        }\n      }\n    }, 10, root)\n  }\n})(window);",
      "application/vnd.bokehjs_exec.v0+json": ""
     },
     "metadata": {
      "application/vnd.bokehjs_exec.v0+json": {
       "id": "22540"
      }
     },
     "output_type": "display_data"
    },
    {
     "data": {
      "text/html": [
       "\n",
       "\n",
       "\n",
       "\n",
       "\n",
       "\n",
       "  <div class=\"bk-root\" id=\"e4882c0f-2b01-4707-a388-a0fcb2a060c7\" data-root-id=\"24360\"></div>\n"
      ]
     },
     "metadata": {},
     "output_type": "display_data"
    },
    {
     "data": {
      "application/javascript": "(function(root) {\n  function embed_document(root) {\n    \n  const docs_json = {\"6fe9d312-d206-4bce-8a1e-b3b82362d839\":{\"defs\":[],\"roots\":{\"references\":[{\"attributes\":{\"below\":[{\"id\":\"24371\"}],\"center\":[{\"id\":\"24374\"},{\"id\":\"24378\"},{\"id\":\"24409\"}],\"height\":400,\"left\":[{\"id\":\"24375\"}],\"renderers\":[{\"id\":\"24397\"},{\"id\":\"24415\"},{\"id\":\"24434\"}],\"title\":{\"id\":\"24361\"},\"toolbar\":{\"id\":\"24386\"},\"width\":400,\"x_range\":{\"id\":\"24363\"},\"x_scale\":{\"id\":\"24367\"},\"y_range\":{\"id\":\"24365\"},\"y_scale\":{\"id\":\"24369\"}},\"id\":\"24360\",\"subtype\":\"Figure\",\"type\":\"Plot\"},{\"attributes\":{\"coordinates\":null,\"group\":null,\"text\":\"Simple line example\"},\"id\":\"24361\",\"type\":\"Title\"},{\"attributes\":{\"overlay\":{\"id\":\"24385\"}},\"id\":\"24381\",\"type\":\"BoxZoomTool\"},{\"attributes\":{},\"id\":\"24405\",\"type\":\"AllLabels\"},{\"attributes\":{},\"id\":\"24382\",\"type\":\"SaveTool\"},{\"attributes\":{},\"id\":\"24406\",\"type\":\"UnionRenderers\"},{\"attributes\":{},\"id\":\"24383\",\"type\":\"ResetTool\"},{\"attributes\":{},\"id\":\"24407\",\"type\":\"Selection\"},{\"attributes\":{},\"id\":\"24367\",\"type\":\"LinearScale\"},{\"attributes\":{},\"id\":\"24384\",\"type\":\"HelpTool\"},{\"attributes\":{},\"id\":\"24365\",\"type\":\"DataRange1d\"},{\"attributes\":{},\"id\":\"24369\",\"type\":\"LinearScale\"},{\"attributes\":{\"coordinates\":null,\"data_source\":{\"id\":\"24411\"},\"glyph\":{\"id\":\"24412\"},\"group\":null,\"hover_glyph\":null,\"muted_glyph\":{\"id\":\"24414\"},\"nonselection_glyph\":{\"id\":\"24413\"},\"view\":{\"id\":\"24416\"}},\"id\":\"24415\",\"type\":\"GlyphRenderer\"},{\"attributes\":{},\"id\":\"24404\",\"type\":\"BasicTickFormatter\"},{\"attributes\":{},\"id\":\"24426\",\"type\":\"UnionRenderers\"},{\"attributes\":{\"axis_label\":\"r\",\"coordinates\":null,\"formatter\":{\"id\":\"24404\"},\"group\":null,\"major_label_policy\":{\"id\":\"24405\"},\"ticker\":{\"id\":\"24372\"}},\"id\":\"24371\",\"type\":\"LinearAxis\"},{\"attributes\":{\"source\":{\"id\":\"24411\"}},\"id\":\"24416\",\"type\":\"CDSView\"},{\"attributes\":{\"bottom_units\":\"screen\",\"coordinates\":null,\"fill_alpha\":0.5,\"fill_color\":\"lightgrey\",\"group\":null,\"left_units\":\"screen\",\"level\":\"overlay\",\"line_alpha\":1.0,\"line_color\":\"black\",\"line_dash\":[4,4],\"line_width\":2,\"right_units\":\"screen\",\"syncable\":false,\"top_units\":\"screen\"},\"id\":\"24385\",\"type\":\"BoxAnnotation\"},{\"attributes\":{\"axis\":{\"id\":\"24375\"},\"coordinates\":null,\"dimension\":1,\"group\":null,\"ticker\":null},\"id\":\"24378\",\"type\":\"Grid\"},{\"attributes\":{\"coordinates\":null,\"data_source\":{\"id\":\"24430\"},\"glyph\":{\"id\":\"24431\"},\"group\":null,\"hover_glyph\":null,\"muted_glyph\":{\"id\":\"24433\"},\"nonselection_glyph\":{\"id\":\"24432\"},\"view\":{\"id\":\"24435\"}},\"id\":\"24434\",\"type\":\"GlyphRenderer\"},{\"attributes\":{},\"id\":\"24401\",\"type\":\"BasicTickFormatter\"},{\"attributes\":{},\"id\":\"24372\",\"type\":\"BasicTicker\"},{\"attributes\":{\"coordinates\":null,\"group\":null,\"items\":[{\"id\":\"24410\"},{\"id\":\"24429\"},{\"id\":\"24450\"}],\"location\":\"bottom_left\"},\"id\":\"24409\",\"type\":\"Legend\"},{\"attributes\":{},\"id\":\"24380\",\"type\":\"WheelZoomTool\"},{\"attributes\":{\"axis\":{\"id\":\"24371\"},\"coordinates\":null,\"group\":null,\"ticker\":null},\"id\":\"24374\",\"type\":\"Grid\"},{\"attributes\":{},\"id\":\"24427\",\"type\":\"Selection\"},{\"attributes\":{\"line_alpha\":0.1,\"line_color\":\"#1f77b4\",\"line_width\":2,\"x\":{\"field\":\"x\"},\"y\":{\"field\":\"y\"}},\"id\":\"24395\",\"type\":\"Line\"},{\"attributes\":{},\"id\":\"24376\",\"type\":\"BasicTicker\"},{\"attributes\":{\"axis_label\":\"jastrow factor\",\"coordinates\":null,\"formatter\":{\"id\":\"24401\"},\"group\":null,\"major_label_policy\":{\"id\":\"24402\"},\"ticker\":{\"id\":\"24376\"}},\"id\":\"24375\",\"type\":\"LinearAxis\"},{\"attributes\":{\"line_color\":\"#1f77b4\",\"line_width\":2,\"x\":{\"field\":\"x\"},\"y\":{\"field\":\"y\"}},\"id\":\"24394\",\"type\":\"Line\"},{\"attributes\":{\"line_alpha\":0.2,\"line_color\":\"red\",\"line_width\":2,\"x\":{\"field\":\"x\"},\"y\":{\"field\":\"y\"}},\"id\":\"24414\",\"type\":\"Line\"},{\"attributes\":{},\"id\":\"24448\",\"type\":\"Selection\"},{\"attributes\":{\"data\":{\"x\":{\"__ndarray__\":\"iawJ/AKa0T+bNgnwiEnSP63ACOQO+dI/vkoI2JSo0z/Q1AfMGljUP+JeB8CgB9U/9OgGtCa31T8GcwaorGbWPxj9BZwyFtc/KocFkLjF1z88EQWEPnXYP02bBHjEJNk/XyUEbErU2T9xrwNg0IPaP4M5A1RWM9s/lMMCSNzi2z+mTQI8YpLcP7jXATDoQd0/ymEBJG7x3T/c6wAY9KDeP+51AAx6UN8/AAAAAAAA4D8=\",\"dtype\":\"float64\",\"order\":\"little\",\"shape\":[22]},\"y\":{\"__ndarray__\":\"thbUHAC/4j/89c/t5pviP6Yhb/TcduI/kbD5HUJQ4j+ZubdXdijiP5dT8Y7Z/+E/bJXusMvW4T/xlfeqrK3hP/9rVGrchOE/eS5N3Lpc4T829CnupzXhPxLUMo0DEOE/6uSvpi3s4D+aPeknhsrgP/70Jv5sq+A/8iGxFkKP4D9R289eZXbgP/c3y8M2YeA/wk7rMhZQ4D+LNniZY0PgPy8GuuR+O+A/jNT4Acg44D8=\",\"dtype\":\"float64\",\"order\":\"little\",\"shape\":[22]}},\"selected\":{\"id\":\"24427\"},\"selection_policy\":{\"id\":\"24426\"}},\"id\":\"24411\",\"type\":\"ColumnDataSource\"},{\"attributes\":{\"data\":{\"x\":[0.2750251256281407,0.2750251256281407,0.2750251256281407,0.2750251256281407,0.2750251256281407,0.2750251256281407,0.2750251256281407,0.2750251256281407,0.2750251256281407,0.2750251256281407],\"y\":{\"__ndarray__\":\"AAAAAAAAAAA/2xE2x6mwPz/bETbHqcA/3sga0ar+yD8/2xE2x6nQPw9SlgM51NQ/3sga0ar+2D+uP5+eHCndPz/bETbHqeA/pxbUHAC/4j8=\",\"dtype\":\"float64\",\"order\":\"little\",\"shape\":[10]}},\"selected\":{\"id\":\"24448\"},\"selection_policy\":{\"id\":\"24447\"}},\"id\":\"24430\",\"type\":\"ColumnDataSource\"},{\"attributes\":{\"line_alpha\":0.2,\"line_color\":\"#1f77b4\",\"line_width\":2,\"x\":{\"field\":\"x\"},\"y\":{\"field\":\"y\"}},\"id\":\"24396\",\"type\":\"Line\"},{\"attributes\":{\"line_alpha\":0.2,\"line_color\":\"purple\",\"x\":{\"field\":\"x\"},\"y\":{\"field\":\"y\"}},\"id\":\"24433\",\"type\":\"Line\"},{\"attributes\":{\"line_alpha\":0.1,\"line_color\":\"red\",\"line_width\":2,\"x\":{\"field\":\"x\"},\"y\":{\"field\":\"y\"}},\"id\":\"24413\",\"type\":\"Line\"},{\"attributes\":{\"line_alpha\":0.1,\"line_color\":\"purple\",\"x\":{\"field\":\"x\"},\"y\":{\"field\":\"y\"}},\"id\":\"24432\",\"type\":\"Line\"},{\"attributes\":{\"source\":{\"id\":\"24430\"}},\"id\":\"24435\",\"type\":\"CDSView\"},{\"attributes\":{\"tools\":[{\"id\":\"24379\"},{\"id\":\"24380\"},{\"id\":\"24381\"},{\"id\":\"24382\"},{\"id\":\"24383\"},{\"id\":\"24384\"}]},\"id\":\"24386\",\"type\":\"Toolbar\"},{\"attributes\":{\"source\":{\"id\":\"24393\"}},\"id\":\"24398\",\"type\":\"CDSView\"},{\"attributes\":{\"label\":{\"value\":\"Jastrow factor u\"},\"renderers\":[{\"id\":\"24397\"}]},\"id\":\"24410\",\"type\":\"LegendItem\"},{\"attributes\":{\"coordinates\":null,\"data_source\":{\"id\":\"24393\"},\"glyph\":{\"id\":\"24394\"},\"group\":null,\"hover_glyph\":null,\"muted_glyph\":{\"id\":\"24396\"},\"nonselection_glyph\":{\"id\":\"24395\"},\"view\":{\"id\":\"24398\"}},\"id\":\"24397\",\"type\":\"GlyphRenderer\"},{\"attributes\":{\"label\":{\"value\":\"Corrected line\"},\"renderers\":[{\"id\":\"24415\"}]},\"id\":\"24429\",\"type\":\"LegendItem\"},{\"attributes\":{\"line_color\":\"purple\",\"x\":{\"field\":\"x\"},\"y\":{\"field\":\"y\"}},\"id\":\"24431\",\"type\":\"Line\"},{\"attributes\":{},\"id\":\"24447\",\"type\":\"UnionRenderers\"},{\"attributes\":{\"line_color\":\"red\",\"line_width\":2,\"x\":{\"field\":\"x\"},\"y\":{\"field\":\"y\"}},\"id\":\"24412\",\"type\":\"Line\"},{\"attributes\":{},\"id\":\"24379\",\"type\":\"PanTool\"},{\"attributes\":{},\"id\":\"24402\",\"type\":\"AllLabels\"},{\"attributes\":{},\"id\":\"24363\",\"type\":\"DataRange1d\"},{\"attributes\":{\"data\":{\"x\":{\"__ndarray__\":\"/Knx0k1iUD+AYo5ML1uZPzDV9t0c2Kg/kDzTClGBsj+IDqumk5a4P4DggkLWq74/PFktb4xgwj84Qhm9LWvFPzQrBQvPdcg/MBTxWHCAyz8s/dymEYvOPxRzZHrZytA/kmdaISpQ0j8QXFDIetXTP45QRm/LWtU/DEU8Fhzg1j+KOTK9bGXYPwguKGS96tk/hiIeCw5w2z8EFxSyXvXcP4ILClmvet4/AAAAAAAA4D8=\",\"dtype\":\"float64\",\"order\":\"little\",\"shape\":[22]},\"y\":{\"__ndarray__\":\"SLeJUYac5j9j8wocXjzmPwONXqtV3uU/GkDSf1+C5T9mjih1bijlPxiBE8B10OQ/TLPB62h65D97Hn3XOybkP6MlW7Ti0+M/lF/9AlKD4z9ZpGKRfjTjP8zlx3hd5+I/cl6YG+Sb4j93pWwjCFLiP805GH+/CeI/wxnFYADD4T9r/xw8wX3hP1rdf8T4OeE/DjpH65334D8+Cxbep7bgPyO1NAUOd+A/aNT4Acg44D8=\",\"dtype\":\"float64\",\"order\":\"little\",\"shape\":[22]}},\"selected\":{\"id\":\"24407\"},\"selection_policy\":{\"id\":\"24406\"}},\"id\":\"24393\",\"type\":\"ColumnDataSource\"},{\"attributes\":{\"label\":{\"value\":\"r_boundary\"},\"renderers\":[{\"id\":\"24434\"}]},\"id\":\"24450\",\"type\":\"LegendItem\"}],\"root_ids\":[\"24360\"]},\"title\":\"Bokeh Application\",\"version\":\"2.4.1\"}};\n  const render_items = [{\"docid\":\"6fe9d312-d206-4bce-8a1e-b3b82362d839\",\"root_ids\":[\"24360\"],\"roots\":{\"24360\":\"e4882c0f-2b01-4707-a388-a0fcb2a060c7\"}}];\n  root.Bokeh.embed.embed_items_notebook(docs_json, render_items);\n\n  }\n  if (root.Bokeh !== undefined) {\n    embed_document(root);\n  } else {\n    let attempts = 0;\n    const timer = setInterval(function(root) {\n      if (root.Bokeh !== undefined) {\n        clearInterval(timer);\n        embed_document(root);\n      } else {\n        attempts++;\n        if (attempts > 100) {\n          clearInterval(timer);\n          console.log(\"Bokeh: ERROR: Unable to run BokehJS code because BokehJS library is missing\");\n        }\n      }\n    }, 10, root)\n  }\n})(window);",
      "application/vnd.bokehjs_exec.v0+json": ""
     },
     "metadata": {
      "application/vnd.bokehjs_exec.v0+json": {
       "id": "24360"
      }
     },
     "output_type": "display_data"
    },
    {
     "data": {
      "text/html": [
       "\n",
       "\n",
       "\n",
       "\n",
       "\n",
       "\n",
       "  <div class=\"bk-root\" id=\"eb066b82-77b1-41b9-a897-0ddf024f257c\" data-root-id=\"26180\"></div>\n"
      ]
     },
     "metadata": {},
     "output_type": "display_data"
    },
    {
     "data": {
      "application/javascript": "(function(root) {\n  function embed_document(root) {\n    \n  const docs_json = {\"a9af5263-95c7-4825-98dd-9f7dc6bccdce\":{\"defs\":[],\"roots\":{\"references\":[{\"attributes\":{\"below\":[{\"id\":\"26191\"}],\"center\":[{\"id\":\"26194\"},{\"id\":\"26198\"},{\"id\":\"26229\"}],\"height\":400,\"left\":[{\"id\":\"26195\"}],\"renderers\":[{\"id\":\"26217\"},{\"id\":\"26235\"},{\"id\":\"26254\"}],\"title\":{\"id\":\"26181\"},\"toolbar\":{\"id\":\"26206\"},\"width\":400,\"x_range\":{\"id\":\"26183\"},\"x_scale\":{\"id\":\"26187\"},\"y_range\":{\"id\":\"26185\"},\"y_scale\":{\"id\":\"26189\"}},\"id\":\"26180\",\"subtype\":\"Figure\",\"type\":\"Plot\"},{\"attributes\":{\"axis\":{\"id\":\"26191\"},\"coordinates\":null,\"group\":null,\"ticker\":null},\"id\":\"26194\",\"type\":\"Grid\"},{\"attributes\":{\"line_alpha\":0.2,\"line_color\":\"red\",\"line_width\":2,\"x\":{\"field\":\"x\"},\"y\":{\"field\":\"y\"}},\"id\":\"26234\",\"type\":\"Line\"},{\"attributes\":{\"line_alpha\":0.1,\"line_color\":\"#1f77b4\",\"line_width\":2,\"x\":{\"field\":\"x\"},\"y\":{\"field\":\"y\"}},\"id\":\"26215\",\"type\":\"Line\"},{\"attributes\":{\"coordinates\":null,\"data_source\":{\"id\":\"26231\"},\"glyph\":{\"id\":\"26232\"},\"group\":null,\"hover_glyph\":null,\"muted_glyph\":{\"id\":\"26234\"},\"nonselection_glyph\":{\"id\":\"26233\"},\"view\":{\"id\":\"26236\"}},\"id\":\"26235\",\"type\":\"GlyphRenderer\"},{\"attributes\":{\"tools\":[{\"id\":\"26199\"},{\"id\":\"26200\"},{\"id\":\"26201\"},{\"id\":\"26202\"},{\"id\":\"26203\"},{\"id\":\"26204\"}]},\"id\":\"26206\",\"type\":\"Toolbar\"},{\"attributes\":{\"coordinates\":null,\"group\":null,\"text\":\"Simple line example\"},\"id\":\"26181\",\"type\":\"Title\"},{\"attributes\":{\"line_color\":\"purple\",\"x\":{\"field\":\"x\"},\"y\":{\"field\":\"y\"}},\"id\":\"26251\",\"type\":\"Line\"},{\"attributes\":{\"overlay\":{\"id\":\"26205\"}},\"id\":\"26201\",\"type\":\"BoxZoomTool\"},{\"attributes\":{},\"id\":\"26187\",\"type\":\"LinearScale\"},{\"attributes\":{},\"id\":\"26267\",\"type\":\"UnionRenderers\"},{\"attributes\":{\"coordinates\":null,\"data_source\":{\"id\":\"26213\"},\"glyph\":{\"id\":\"26214\"},\"group\":null,\"hover_glyph\":null,\"muted_glyph\":{\"id\":\"26216\"},\"nonselection_glyph\":{\"id\":\"26215\"},\"view\":{\"id\":\"26218\"}},\"id\":\"26217\",\"type\":\"GlyphRenderer\"},{\"attributes\":{},\"id\":\"26221\",\"type\":\"BasicTickFormatter\"},{\"attributes\":{\"bottom_units\":\"screen\",\"coordinates\":null,\"fill_alpha\":0.5,\"fill_color\":\"lightgrey\",\"group\":null,\"left_units\":\"screen\",\"level\":\"overlay\",\"line_alpha\":1.0,\"line_color\":\"black\",\"line_dash\":[4,4],\"line_width\":2,\"right_units\":\"screen\",\"syncable\":false,\"top_units\":\"screen\"},\"id\":\"26205\",\"type\":\"BoxAnnotation\"},{\"attributes\":{\"axis_label\":\"r\",\"coordinates\":null,\"formatter\":{\"id\":\"26224\"},\"group\":null,\"major_label_policy\":{\"id\":\"26225\"},\"ticker\":{\"id\":\"26192\"}},\"id\":\"26191\",\"type\":\"LinearAxis\"},{\"attributes\":{},\"id\":\"26224\",\"type\":\"BasicTickFormatter\"},{\"attributes\":{\"line_alpha\":0.2,\"line_color\":\"#1f77b4\",\"line_width\":2,\"x\":{\"field\":\"x\"},\"y\":{\"field\":\"y\"}},\"id\":\"26216\",\"type\":\"Line\"},{\"attributes\":{},\"id\":\"26246\",\"type\":\"UnionRenderers\"},{\"attributes\":{},\"id\":\"26200\",\"type\":\"WheelZoomTool\"},{\"attributes\":{},\"id\":\"26226\",\"type\":\"UnionRenderers\"},{\"attributes\":{},\"id\":\"26183\",\"type\":\"DataRange1d\"},{\"attributes\":{\"coordinates\":null,\"group\":null,\"items\":[{\"id\":\"26230\"},{\"id\":\"26249\"},{\"id\":\"26270\"}],\"location\":\"bottom_left\"},\"id\":\"26229\",\"type\":\"Legend\"},{\"attributes\":{\"line_alpha\":0.1,\"line_color\":\"purple\",\"x\":{\"field\":\"x\"},\"y\":{\"field\":\"y\"}},\"id\":\"26252\",\"type\":\"Line\"},{\"attributes\":{\"axis\":{\"id\":\"26195\"},\"coordinates\":null,\"dimension\":1,\"group\":null,\"ticker\":null},\"id\":\"26198\",\"type\":\"Grid\"},{\"attributes\":{},\"id\":\"26192\",\"type\":\"BasicTicker\"},{\"attributes\":{},\"id\":\"26185\",\"type\":\"DataRange1d\"},{\"attributes\":{},\"id\":\"26199\",\"type\":\"PanTool\"},{\"attributes\":{\"label\":{\"value\":\"Jastrow factor u\"},\"renderers\":[{\"id\":\"26217\"}]},\"id\":\"26230\",\"type\":\"LegendItem\"},{\"attributes\":{},\"id\":\"26189\",\"type\":\"LinearScale\"},{\"attributes\":{\"data\":{\"x\":[0.3000502512562814,0.3000502512562814,0.3000502512562814,0.3000502512562814,0.3000502512562814,0.3000502512562814,0.3000502512562814,0.3000502512562814,0.3000502512562814,0.3000502512562814],\"y\":{\"__ndarray__\":\"AAAAAAAAAABVNdD8+GOwP1U10Pz4Y8A/AFA4e/WVyD9VNdD8+GPQP6pCBDz3fNQ/AFA4e/WV2D9VXWy6867cP1U10Pz4Y+A/ADxqHHhw4j8=\",\"dtype\":\"float64\",\"order\":\"little\",\"shape\":[10]}},\"selected\":{\"id\":\"26268\"},\"selection_policy\":{\"id\":\"26267\"}},\"id\":\"26250\",\"type\":\"ColumnDataSource\"},{\"attributes\":{},\"id\":\"26203\",\"type\":\"ResetTool\"},{\"attributes\":{\"line_alpha\":0.2,\"line_color\":\"purple\",\"x\":{\"field\":\"x\"},\"y\":{\"field\":\"y\"}},\"id\":\"26253\",\"type\":\"Line\"},{\"attributes\":{},\"id\":\"26202\",\"type\":\"SaveTool\"},{\"attributes\":{\"source\":{\"id\":\"26213\"}},\"id\":\"26218\",\"type\":\"CDSView\"},{\"attributes\":{},\"id\":\"26222\",\"type\":\"AllLabels\"},{\"attributes\":{\"label\":{\"value\":\"r_boundary\"},\"renderers\":[{\"id\":\"26254\"}]},\"id\":\"26270\",\"type\":\"LegendItem\"},{\"attributes\":{\"line_color\":\"red\",\"line_width\":2,\"x\":{\"field\":\"x\"},\"y\":{\"field\":\"y\"}},\"id\":\"26232\",\"type\":\"Line\"},{\"attributes\":{\"line_color\":\"#1f77b4\",\"line_width\":2,\"x\":{\"field\":\"x\"},\"y\":{\"field\":\"y\"}},\"id\":\"26214\",\"type\":\"Line\"},{\"attributes\":{\"label\":{\"value\":\"Corrected line\"},\"renderers\":[{\"id\":\"26235\"}]},\"id\":\"26249\",\"type\":\"LegendItem\"},{\"attributes\":{},\"id\":\"26268\",\"type\":\"Selection\"},{\"attributes\":{},\"id\":\"26247\",\"type\":\"Selection\"},{\"attributes\":{\"source\":{\"id\":\"26250\"}},\"id\":\"26255\",\"type\":\"CDSView\"},{\"attributes\":{},\"id\":\"26196\",\"type\":\"BasicTicker\"},{\"attributes\":{\"coordinates\":null,\"data_source\":{\"id\":\"26250\"},\"glyph\":{\"id\":\"26251\"},\"group\":null,\"hover_glyph\":null,\"muted_glyph\":{\"id\":\"26253\"},\"nonselection_glyph\":{\"id\":\"26252\"},\"view\":{\"id\":\"26255\"}},\"id\":\"26254\",\"type\":\"GlyphRenderer\"},{\"attributes\":{\"data\":{\"x\":{\"__ndarray__\":\"/Knx0k1iUD8lmXO0W2mdP9UL3EVJ5qw/jCW/WPKLtT8tRZAOwKS8P2eyMOLG3sE/OEIZvS1rxT8I0gGYlPfIP9lh6nL7g8w/1XjpJjEI0D+9wF2UZM7RP6UI0gGYlNM/jlBGb8ta1T92mLrc/iDXP17gLkoy59g/Ryijt2Wt2j8vcBclmXPcPxe4i5LMOd4/AAAAAAAA4D8=\",\"dtype\":\"float64\",\"order\":\"little\",\"shape\":[19]},\"y\":{\"__ndarray__\":\"SLeJUYac5j+ZzrykjCzmP9rFRgR0v+U/DCEkJSdV5T+COzBkke3kP8gsw8CeiOQ/ex591zsm5D/BjD3dVcbjP8v2RJraaOM/bZJ/ZbgN4z/Vofcf3rTiP7sWbjA7XuI/zTkYf78J4j+bGIFxW7fhP8yGjeb/ZuE/JYqhMp4Y4T/VEuYbKMzgP0/rrdaPgeA/aNT4Acg44D8=\",\"dtype\":\"float64\",\"order\":\"little\",\"shape\":[19]}},\"selected\":{\"id\":\"26227\"},\"selection_policy\":{\"id\":\"26226\"}},\"id\":\"26213\",\"type\":\"ColumnDataSource\"},{\"attributes\":{\"source\":{\"id\":\"26231\"}},\"id\":\"26236\",\"type\":\"CDSView\"},{\"attributes\":{},\"id\":\"26204\",\"type\":\"HelpTool\"},{\"attributes\":{\"axis_label\":\"jastrow factor\",\"coordinates\":null,\"formatter\":{\"id\":\"26221\"},\"group\":null,\"major_label_policy\":{\"id\":\"26222\"},\"ticker\":{\"id\":\"26196\"}},\"id\":\"26195\",\"type\":\"LinearAxis\"},{\"attributes\":{},\"id\":\"26227\",\"type\":\"Selection\"},{\"attributes\":{\"data\":{\"x\":{\"__ndarray__\":\"ElkT+AU00z+tty6jBerTP0kWSk4FoNQ/5HRl+QRW1T+A04CkBAzWPxsynE8EwtY/tpC3+gN41z9S79KlAy7YP+5N7lAD5Ng/iawJ/AKa2T8kCyWnAlDaP8BpQFICBts/W8hb/QG82z/2JneoAXLcP5KFklMBKN0/LuSt/gDe3T/JQsmpAJTeP2Sh5FQASt8/AAAAAAAA4D8=\",\"dtype\":\"float64\",\"order\":\"little\",\"shape\":[19]},\"y\":{\"__ndarray__\":\"6ztqHHhw4j/TwNGqqkziP5kWeTaKJuI/uqePZJ7+4T+w3kTabtXhP/glyDyDq+E/EOhIMWOB4T9xj/ZcllfhP5aGAGWkLuE/ADiW7hQH4T8mDueeb+HgP4lzIhs8vuA/n9J3CAKe4D/plRYMSYHgP94nLsuYaOA//vLt6nhU4D/CYYUQcUXgP6zeI+EIPOA/MNT4Acg44D8=\",\"dtype\":\"float64\",\"order\":\"little\",\"shape\":[19]}},\"selected\":{\"id\":\"26247\"},\"selection_policy\":{\"id\":\"26246\"}},\"id\":\"26231\",\"type\":\"ColumnDataSource\"},{\"attributes\":{},\"id\":\"26225\",\"type\":\"AllLabels\"},{\"attributes\":{\"line_alpha\":0.1,\"line_color\":\"red\",\"line_width\":2,\"x\":{\"field\":\"x\"},\"y\":{\"field\":\"y\"}},\"id\":\"26233\",\"type\":\"Line\"}],\"root_ids\":[\"26180\"]},\"title\":\"Bokeh Application\",\"version\":\"2.4.1\"}};\n  const render_items = [{\"docid\":\"a9af5263-95c7-4825-98dd-9f7dc6bccdce\",\"root_ids\":[\"26180\"],\"roots\":{\"26180\":\"eb066b82-77b1-41b9-a897-0ddf024f257c\"}}];\n  root.Bokeh.embed.embed_items_notebook(docs_json, render_items);\n\n  }\n  if (root.Bokeh !== undefined) {\n    embed_document(root);\n  } else {\n    let attempts = 0;\n    const timer = setInterval(function(root) {\n      if (root.Bokeh !== undefined) {\n        clearInterval(timer);\n        embed_document(root);\n      } else {\n        attempts++;\n        if (attempts > 100) {\n          clearInterval(timer);\n          console.log(\"Bokeh: ERROR: Unable to run BokehJS code because BokehJS library is missing\");\n        }\n      }\n    }, 10, root)\n  }\n})(window);",
      "application/vnd.bokehjs_exec.v0+json": ""
     },
     "metadata": {
      "application/vnd.bokehjs_exec.v0+json": {
       "id": "26180"
      }
     },
     "output_type": "display_data"
    },
    {
     "data": {
      "text/html": [
       "\n",
       "\n",
       "\n",
       "\n",
       "\n",
       "\n",
       "  <div class=\"bk-root\" id=\"985eb761-8507-4fb9-9d16-07ed49e7f00f\" data-root-id=\"38374\"></div>\n"
      ]
     },
     "metadata": {},
     "output_type": "display_data"
    },
    {
     "data": {
      "application/javascript": "(function(root) {\n  function embed_document(root) {\n    \n  const docs_json = {\"e417784e-2dc1-4e9b-ae1c-6108f062d2e0\":{\"defs\":[],\"roots\":{\"references\":[{\"attributes\":{\"below\":[{\"id\":\"38385\"}],\"center\":[{\"id\":\"38388\"},{\"id\":\"38392\"},{\"id\":\"38423\"}],\"height\":400,\"left\":[{\"id\":\"38389\"}],\"renderers\":[{\"id\":\"38411\"},{\"id\":\"38429\"},{\"id\":\"38448\"}],\"title\":{\"id\":\"38375\"},\"toolbar\":{\"id\":\"38400\"},\"width\":400,\"x_range\":{\"id\":\"38377\"},\"x_scale\":{\"id\":\"38381\"},\"y_range\":{\"id\":\"38379\"},\"y_scale\":{\"id\":\"38383\"}},\"id\":\"38374\",\"subtype\":\"Figure\",\"type\":\"Plot\"},{\"attributes\":{},\"id\":\"38394\",\"type\":\"WheelZoomTool\"},{\"attributes\":{\"label\":{\"value\":\"Jastrow factor u\"},\"renderers\":[{\"id\":\"38411\"}]},\"id\":\"38424\",\"type\":\"LegendItem\"},{\"attributes\":{},\"id\":\"38461\",\"type\":\"UnionRenderers\"},{\"attributes\":{},\"id\":\"38381\",\"type\":\"LinearScale\"},{\"attributes\":{\"overlay\":{\"id\":\"38399\"}},\"id\":\"38395\",\"type\":\"BoxZoomTool\"},{\"attributes\":{\"line_alpha\":0.1,\"line_color\":\"#1f77b4\",\"line_width\":2,\"x\":{\"field\":\"x\"},\"y\":{\"field\":\"y\"}},\"id\":\"38409\",\"type\":\"Line\"},{\"attributes\":{\"line_alpha\":0.2,\"line_color\":\"red\",\"line_width\":2,\"x\":{\"field\":\"x\"},\"y\":{\"field\":\"y\"}},\"id\":\"38428\",\"type\":\"Line\"},{\"attributes\":{},\"id\":\"38462\",\"type\":\"Selection\"},{\"attributes\":{},\"id\":\"38396\",\"type\":\"SaveTool\"},{\"attributes\":{\"data\":{\"x\":{\"__ndarray__\":\"qvYg9xnv3T9Ve5D7jPfePwAAAAAAAOA/\",\"dtype\":\"float64\",\"order\":\"little\",\"shape\":[3]},\"y\":{\"__ndarray__\":\"gLsuJLSN4D+ALrFyeVjgPwCw+AHIOOA/\",\"dtype\":\"float64\",\"order\":\"little\",\"shape\":[3]}},\"selected\":{\"id\":\"38441\"},\"selection_policy\":{\"id\":\"38440\"}},\"id\":\"38425\",\"type\":\"ColumnDataSource\"},{\"attributes\":{\"label\":{\"value\":\"r_boundary\"},\"renderers\":[{\"id\":\"38448\"}]},\"id\":\"38464\",\"type\":\"LegendItem\"},{\"attributes\":{\"coordinates\":null,\"data_source\":{\"id\":\"38444\"},\"glyph\":{\"id\":\"38445\"},\"group\":null,\"hover_glyph\":null,\"muted_glyph\":{\"id\":\"38447\"},\"nonselection_glyph\":{\"id\":\"38446\"},\"view\":{\"id\":\"38449\"}},\"id\":\"38448\",\"type\":\"GlyphRenderer\"},{\"attributes\":{\"coordinates\":null,\"group\":null,\"text\":\"Simple line example\"},\"id\":\"38375\",\"type\":\"Title\"},{\"attributes\":{},\"id\":\"38397\",\"type\":\"ResetTool\"},{\"attributes\":{},\"id\":\"38398\",\"type\":\"HelpTool\"},{\"attributes\":{},\"id\":\"38383\",\"type\":\"LinearScale\"},{\"attributes\":{\"tools\":[{\"id\":\"38393\"},{\"id\":\"38394\"},{\"id\":\"38395\"},{\"id\":\"38396\"},{\"id\":\"38397\"},{\"id\":\"38398\"}]},\"id\":\"38400\",\"type\":\"Toolbar\"},{\"attributes\":{\"line_alpha\":0.1,\"line_color\":\"red\",\"line_width\":2,\"x\":{\"field\":\"x\"},\"y\":{\"field\":\"y\"}},\"id\":\"38427\",\"type\":\"Line\"},{\"attributes\":{\"coordinates\":null,\"data_source\":{\"id\":\"38425\"},\"glyph\":{\"id\":\"38426\"},\"group\":null,\"hover_glyph\":null,\"muted_glyph\":{\"id\":\"38428\"},\"nonselection_glyph\":{\"id\":\"38427\"},\"view\":{\"id\":\"38430\"}},\"id\":\"38429\",\"type\":\"GlyphRenderer\"},{\"attributes\":{\"axis_label\":\"r\",\"coordinates\":null,\"formatter\":{\"id\":\"38418\"},\"group\":null,\"major_label_policy\":{\"id\":\"38419\"},\"ticker\":{\"id\":\"38386\"}},\"id\":\"38385\",\"type\":\"LinearAxis\"},{\"attributes\":{\"axis\":{\"id\":\"38389\"},\"coordinates\":null,\"dimension\":1,\"group\":null,\"ticker\":null},\"id\":\"38392\",\"type\":\"Grid\"},{\"attributes\":{},\"id\":\"38421\",\"type\":\"Selection\"},{\"attributes\":{},\"id\":\"38386\",\"type\":\"BasicTicker\"},{\"attributes\":{},\"id\":\"38440\",\"type\":\"UnionRenderers\"},{\"attributes\":{\"bottom_units\":\"screen\",\"coordinates\":null,\"fill_alpha\":0.5,\"fill_color\":\"lightgrey\",\"group\":null,\"left_units\":\"screen\",\"level\":\"overlay\",\"line_alpha\":1.0,\"line_color\":\"black\",\"line_dash\":[4,4],\"line_width\":2,\"right_units\":\"screen\",\"syncable\":false,\"top_units\":\"screen\"},\"id\":\"38399\",\"type\":\"BoxAnnotation\"},{\"attributes\":{\"source\":{\"id\":\"38425\"}},\"id\":\"38430\",\"type\":\"CDSView\"},{\"attributes\":{},\"id\":\"38415\",\"type\":\"BasicTickFormatter\"},{\"attributes\":{\"axis\":{\"id\":\"38385\"},\"coordinates\":null,\"group\":null,\"ticker\":null},\"id\":\"38388\",\"type\":\"Grid\"},{\"attributes\":{\"coordinates\":null,\"group\":null,\"items\":[{\"id\":\"38424\"},{\"id\":\"38443\"},{\"id\":\"38464\"}],\"location\":\"bottom_left\"},\"id\":\"38423\",\"type\":\"Legend\"},{\"attributes\":{\"line_color\":\"red\",\"line_width\":2,\"x\":{\"field\":\"x\"},\"y\":{\"field\":\"y\"}},\"id\":\"38426\",\"type\":\"Line\"},{\"attributes\":{\"label\":{\"value\":\"Corrected line\"},\"renderers\":[{\"id\":\"38429\"}]},\"id\":\"38443\",\"type\":\"LegendItem\"},{\"attributes\":{},\"id\":\"38379\",\"type\":\"DataRange1d\"},{\"attributes\":{},\"id\":\"38390\",\"type\":\"BasicTicker\"},{\"attributes\":{\"axis_label\":\"jastrow factor\",\"coordinates\":null,\"formatter\":{\"id\":\"38415\"},\"group\":null,\"major_label_policy\":{\"id\":\"38416\"},\"ticker\":{\"id\":\"38390\"}},\"id\":\"38389\",\"type\":\"LinearAxis\"},{\"attributes\":{},\"id\":\"38419\",\"type\":\"AllLabels\"},{\"attributes\":{},\"id\":\"38441\",\"type\":\"Selection\"},{\"attributes\":{},\"id\":\"38377\",\"type\":\"DataRange1d\"},{\"attributes\":{},\"id\":\"38418\",\"type\":\"BasicTickFormatter\"},{\"attributes\":{\"line_color\":\"#1f77b4\",\"line_width\":2,\"x\":{\"field\":\"x\"},\"y\":{\"field\":\"y\"}},\"id\":\"38408\",\"type\":\"Line\"},{\"attributes\":{\"coordinates\":null,\"data_source\":{\"id\":\"38407\"},\"glyph\":{\"id\":\"38408\"},\"group\":null,\"hover_glyph\":null,\"muted_glyph\":{\"id\":\"38410\"},\"nonselection_glyph\":{\"id\":\"38409\"},\"view\":{\"id\":\"38412\"}},\"id\":\"38411\",\"type\":\"GlyphRenderer\"},{\"attributes\":{\"data\":{\"x\":[0.4677185929648241,0.4677185929648241,0.4677185929648241,0.4677185929648241,0.4677185929648241,0.4677185929648241,0.4677185929648241,0.4677185929648241,0.4677185929648241,0.4677185929648241],\"y\":{\"__ndarray__\":\"AAAAAAAAAAAMvG8Hsm2tPwy8bweybb0/Cc2ThUUSxj8MvG8Hsm3NP4jVpUSPZNI/Cc2ThUUS1j+KxIHG+7/ZPwy8bweybd0/x9kuJLSN4D8=\",\"dtype\":\"float64\",\"order\":\"little\",\"shape\":[10]}},\"selected\":{\"id\":\"38462\"},\"selection_policy\":{\"id\":\"38461\"}},\"id\":\"38444\",\"type\":\"ColumnDataSource\"},{\"attributes\":{\"line_alpha\":0.2,\"line_color\":\"#1f77b4\",\"line_width\":2,\"x\":{\"field\":\"x\"},\"y\":{\"field\":\"y\"}},\"id\":\"38410\",\"type\":\"Line\"},{\"attributes\":{\"line_alpha\":0.2,\"line_color\":\"purple\",\"x\":{\"field\":\"x\"},\"y\":{\"field\":\"y\"}},\"id\":\"38447\",\"type\":\"Line\"},{\"attributes\":{\"line_alpha\":0.1,\"line_color\":\"purple\",\"x\":{\"field\":\"x\"},\"y\":{\"field\":\"y\"}},\"id\":\"38446\",\"type\":\"Line\"},{\"attributes\":{},\"id\":\"38420\",\"type\":\"UnionRenderers\"},{\"attributes\":{\"source\":{\"id\":\"38444\"}},\"id\":\"38449\",\"type\":\"CDSView\"},{\"attributes\":{\"data\":{\"x\":{\"__ndarray__\":\"/Knx0k1iUD/VeOkmMQjQPwAAAAAAAOA/\",\"dtype\":\"float64\",\"order\":\"little\",\"shape\":[3]},\"y\":{\"__ndarray__\":\"SLeJUYac5j9tkn9luA3jP2jU+AHIOOA/\",\"dtype\":\"float64\",\"order\":\"little\",\"shape\":[3]}},\"selected\":{\"id\":\"38421\"},\"selection_policy\":{\"id\":\"38420\"}},\"id\":\"38407\",\"type\":\"ColumnDataSource\"},{\"attributes\":{\"source\":{\"id\":\"38407\"}},\"id\":\"38412\",\"type\":\"CDSView\"},{\"attributes\":{},\"id\":\"38393\",\"type\":\"PanTool\"},{\"attributes\":{},\"id\":\"38416\",\"type\":\"AllLabels\"},{\"attributes\":{\"line_color\":\"purple\",\"x\":{\"field\":\"x\"},\"y\":{\"field\":\"y\"}},\"id\":\"38445\",\"type\":\"Line\"}],\"root_ids\":[\"38374\"]},\"title\":\"Bokeh Application\",\"version\":\"2.4.1\"}};\n  const render_items = [{\"docid\":\"e417784e-2dc1-4e9b-ae1c-6108f062d2e0\",\"root_ids\":[\"38374\"],\"roots\":{\"38374\":\"985eb761-8507-4fb9-9d16-07ed49e7f00f\"}}];\n  root.Bokeh.embed.embed_items_notebook(docs_json, render_items);\n\n  }\n  if (root.Bokeh !== undefined) {\n    embed_document(root);\n  } else {\n    let attempts = 0;\n    const timer = setInterval(function(root) {\n      if (root.Bokeh !== undefined) {\n        clearInterval(timer);\n        embed_document(root);\n      } else {\n        attempts++;\n        if (attempts > 100) {\n          clearInterval(timer);\n          console.log(\"Bokeh: ERROR: Unable to run BokehJS code because BokehJS library is missing\");\n        }\n      }\n    }, 10, root)\n  }\n})(window);",
      "application/vnd.bokehjs_exec.v0+json": ""
     },
     "metadata": {
      "application/vnd.bokehjs_exec.v0+json": {
       "id": "38374"
      }
     },
     "output_type": "display_data"
    },
    {
     "data": {
      "text/html": [
       "\n",
       "\n",
       "\n",
       "\n",
       "\n",
       "\n",
       "  <div class=\"bk-root\" id=\"9c6a07a4-d566-4981-bbed-99d9c833cbd5\" data-root-id=\"39193\"></div>\n"
      ]
     },
     "metadata": {},
     "output_type": "display_data"
    },
    {
     "data": {
      "application/javascript": "(function(root) {\n  function embed_document(root) {\n    \n  const docs_json = {\"26605814-7c0d-44e8-9692-20610d183dd7\":{\"defs\":[],\"roots\":{\"references\":[{\"attributes\":{\"below\":[{\"id\":\"39204\"}],\"center\":[{\"id\":\"39207\"},{\"id\":\"39211\"},{\"id\":\"39242\"}],\"height\":400,\"left\":[{\"id\":\"39208\"}],\"renderers\":[{\"id\":\"39230\"},{\"id\":\"39248\"},{\"id\":\"39267\"}],\"title\":{\"id\":\"39194\"},\"toolbar\":{\"id\":\"39219\"},\"width\":400,\"x_range\":{\"id\":\"39196\"},\"x_scale\":{\"id\":\"39200\"},\"y_range\":{\"id\":\"39198\"},\"y_scale\":{\"id\":\"39202\"}},\"id\":\"39193\",\"subtype\":\"Figure\",\"type\":\"Plot\"},{\"attributes\":{\"coordinates\":null,\"data_source\":{\"id\":\"39226\"},\"glyph\":{\"id\":\"39227\"},\"group\":null,\"hover_glyph\":null,\"muted_glyph\":{\"id\":\"39229\"},\"nonselection_glyph\":{\"id\":\"39228\"},\"view\":{\"id\":\"39231\"}},\"id\":\"39230\",\"type\":\"GlyphRenderer\"},{\"attributes\":{\"source\":{\"id\":\"39263\"}},\"id\":\"39268\",\"type\":\"CDSView\"},{\"attributes\":{\"coordinates\":null,\"data_source\":{\"id\":\"39263\"},\"glyph\":{\"id\":\"39264\"},\"group\":null,\"hover_glyph\":null,\"muted_glyph\":{\"id\":\"39266\"},\"nonselection_glyph\":{\"id\":\"39265\"},\"view\":{\"id\":\"39268\"}},\"id\":\"39267\",\"type\":\"GlyphRenderer\"},{\"attributes\":{\"source\":{\"id\":\"39226\"}},\"id\":\"39231\",\"type\":\"CDSView\"},{\"attributes\":{\"label\":{\"value\":\"Jastrow factor u\"},\"renderers\":[{\"id\":\"39230\"}]},\"id\":\"39243\",\"type\":\"LegendItem\"},{\"attributes\":{\"coordinates\":null,\"group\":null,\"items\":[{\"id\":\"39243\"},{\"id\":\"39262\"},{\"id\":\"39283\"}],\"location\":\"bottom_left\"},\"id\":\"39242\",\"type\":\"Legend\"},{\"attributes\":{},\"id\":\"39234\",\"type\":\"BasicTickFormatter\"},{\"attributes\":{},\"id\":\"39281\",\"type\":\"Selection\"},{\"attributes\":{},\"id\":\"39212\",\"type\":\"PanTool\"},{\"attributes\":{},\"id\":\"39235\",\"type\":\"AllLabels\"},{\"attributes\":{},\"id\":\"39196\",\"type\":\"DataRange1d\"},{\"attributes\":{},\"id\":\"39237\",\"type\":\"BasicTickFormatter\"},{\"attributes\":{},\"id\":\"39213\",\"type\":\"WheelZoomTool\"},{\"attributes\":{\"label\":{\"value\":\"r_boundary\"},\"renderers\":[{\"id\":\"39267\"}]},\"id\":\"39283\",\"type\":\"LegendItem\"},{\"attributes\":{\"coordinates\":null,\"group\":null,\"text\":\"Simple line example\"},\"id\":\"39194\",\"type\":\"Title\"},{\"attributes\":{},\"id\":\"39198\",\"type\":\"DataRange1d\"},{\"attributes\":{\"line_alpha\":0.1,\"line_color\":\"#1f77b4\",\"line_width\":2,\"x\":{\"field\":\"x\"},\"y\":{\"field\":\"y\"}},\"id\":\"39228\",\"type\":\"Line\"},{\"attributes\":{\"overlay\":{\"id\":\"39218\"}},\"id\":\"39214\",\"type\":\"BoxZoomTool\"},{\"attributes\":{},\"id\":\"39238\",\"type\":\"AllLabels\"},{\"attributes\":{},\"id\":\"39239\",\"type\":\"UnionRenderers\"},{\"attributes\":{},\"id\":\"39215\",\"type\":\"SaveTool\"},{\"attributes\":{},\"id\":\"39240\",\"type\":\"Selection\"},{\"attributes\":{},\"id\":\"39216\",\"type\":\"ResetTool\"},{\"attributes\":{\"line_alpha\":0.2,\"line_color\":\"#1f77b4\",\"line_width\":2,\"x\":{\"field\":\"x\"},\"y\":{\"field\":\"y\"}},\"id\":\"39229\",\"type\":\"Line\"},{\"attributes\":{},\"id\":\"39200\",\"type\":\"LinearScale\"},{\"attributes\":{\"coordinates\":null,\"data_source\":{\"id\":\"39244\"},\"glyph\":{\"id\":\"39245\"},\"group\":null,\"hover_glyph\":null,\"muted_glyph\":{\"id\":\"39247\"},\"nonselection_glyph\":{\"id\":\"39246\"},\"view\":{\"id\":\"39249\"}},\"id\":\"39248\",\"type\":\"GlyphRenderer\"},{\"attributes\":{},\"id\":\"39217\",\"type\":\"HelpTool\"},{\"attributes\":{},\"id\":\"39202\",\"type\":\"LinearScale\"},{\"attributes\":{\"line_alpha\":0.2,\"line_color\":\"purple\",\"x\":{\"field\":\"x\"},\"y\":{\"field\":\"y\"}},\"id\":\"39266\",\"type\":\"Line\"},{\"attributes\":{\"tools\":[{\"id\":\"39212\"},{\"id\":\"39213\"},{\"id\":\"39214\"},{\"id\":\"39215\"},{\"id\":\"39216\"},{\"id\":\"39217\"}]},\"id\":\"39219\",\"type\":\"Toolbar\"},{\"attributes\":{},\"id\":\"39260\",\"type\":\"Selection\"},{\"attributes\":{\"axis_label\":\"r\",\"coordinates\":null,\"formatter\":{\"id\":\"39237\"},\"group\":null,\"major_label_policy\":{\"id\":\"39238\"},\"ticker\":{\"id\":\"39205\"}},\"id\":\"39204\",\"type\":\"LinearAxis\"},{\"attributes\":{\"source\":{\"id\":\"39244\"}},\"id\":\"39249\",\"type\":\"CDSView\"},{\"attributes\":{\"axis\":{\"id\":\"39208\"},\"coordinates\":null,\"dimension\":1,\"group\":null,\"ticker\":null},\"id\":\"39211\",\"type\":\"Grid\"},{\"attributes\":{\"label\":{\"value\":\"Corrected line\"},\"renderers\":[{\"id\":\"39248\"}]},\"id\":\"39262\",\"type\":\"LegendItem\"},{\"attributes\":{\"bottom_units\":\"screen\",\"coordinates\":null,\"fill_alpha\":0.5,\"fill_color\":\"lightgrey\",\"group\":null,\"left_units\":\"screen\",\"level\":\"overlay\",\"line_alpha\":1.0,\"line_color\":\"black\",\"line_dash\":[4,4],\"line_width\":2,\"right_units\":\"screen\",\"syncable\":false,\"top_units\":\"screen\"},\"id\":\"39218\",\"type\":\"BoxAnnotation\"},{\"attributes\":{\"line_alpha\":0.1,\"line_color\":\"red\",\"line_width\":2,\"x\":{\"field\":\"x\"},\"y\":{\"field\":\"y\"}},\"id\":\"39246\",\"type\":\"Line\"},{\"attributes\":{\"line_alpha\":0.2,\"line_color\":\"red\",\"line_width\":2,\"x\":{\"field\":\"x\"},\"y\":{\"field\":\"y\"}},\"id\":\"39247\",\"type\":\"Line\"},{\"attributes\":{},\"id\":\"39205\",\"type\":\"BasicTicker\"},{\"attributes\":{},\"id\":\"39280\",\"type\":\"UnionRenderers\"},{\"attributes\":{\"axis\":{\"id\":\"39204\"},\"coordinates\":null,\"group\":null,\"ticker\":null},\"id\":\"39207\",\"type\":\"Grid\"},{\"attributes\":{\"data\":{\"x\":{\"__ndarray__\":\"6B3yTpun3j8AAAAAAADgPw==\",\"dtype\":\"float64\",\"order\":\"little\",\"shape\":[2]},\"y\":{\"__ndarray__\":\"AITVVs1v4D8AQPgByDjgPw==\",\"dtype\":\"float64\",\"order\":\"little\",\"shape\":[2]}},\"selected\":{\"id\":\"39260\"},\"selection_policy\":{\"id\":\"39259\"}},\"id\":\"39244\",\"type\":\"ColumnDataSource\"},{\"attributes\":{},\"id\":\"39209\",\"type\":\"BasicTicker\"},{\"attributes\":{\"axis_label\":\"jastrow factor\",\"coordinates\":null,\"formatter\":{\"id\":\"39234\"},\"group\":null,\"major_label_policy\":{\"id\":\"39235\"},\"ticker\":{\"id\":\"39209\"}},\"id\":\"39208\",\"type\":\"LinearAxis\"},{\"attributes\":{\"data\":{\"x\":[0.4789798994974874,0.4789798994974874,0.4789798994974874,0.4789798994974874,0.4789798994974874,0.4789798994974874,0.4789798994974874,0.4789798994974874,0.4789798994974874,0.4789798994974874],\"y\":{\"__ndarray__\":\"AAAAAAAAAACFYu59iTitP4Vi7n2JOL0/5MlyHmfqxT+FYu59iTjNP5P9tO5VQ9I/5MlyHmfq1T80ljBOeJHZP4Vi7n2JON0/axfWVs1v4D8=\",\"dtype\":\"float64\",\"order\":\"little\",\"shape\":[10]}},\"selected\":{\"id\":\"39281\"},\"selection_policy\":{\"id\":\"39280\"}},\"id\":\"39263\",\"type\":\"ColumnDataSource\"},{\"attributes\":{\"data\":{\"x\":{\"__ndarray__\":\"/Knx0k1iUD8AAAAAAADgPw==\",\"dtype\":\"float64\",\"order\":\"little\",\"shape\":[2]},\"y\":{\"__ndarray__\":\"SLeJUYac5j9o1PgByDjgPw==\",\"dtype\":\"float64\",\"order\":\"little\",\"shape\":[2]}},\"selected\":{\"id\":\"39240\"},\"selection_policy\":{\"id\":\"39239\"}},\"id\":\"39226\",\"type\":\"ColumnDataSource\"},{\"attributes\":{\"line_color\":\"purple\",\"x\":{\"field\":\"x\"},\"y\":{\"field\":\"y\"}},\"id\":\"39264\",\"type\":\"Line\"},{\"attributes\":{\"line_alpha\":0.1,\"line_color\":\"purple\",\"x\":{\"field\":\"x\"},\"y\":{\"field\":\"y\"}},\"id\":\"39265\",\"type\":\"Line\"},{\"attributes\":{},\"id\":\"39259\",\"type\":\"UnionRenderers\"},{\"attributes\":{\"line_color\":\"red\",\"line_width\":2,\"x\":{\"field\":\"x\"},\"y\":{\"field\":\"y\"}},\"id\":\"39245\",\"type\":\"Line\"},{\"attributes\":{\"line_color\":\"#1f77b4\",\"line_width\":2,\"x\":{\"field\":\"x\"},\"y\":{\"field\":\"y\"}},\"id\":\"39227\",\"type\":\"Line\"}],\"root_ids\":[\"39193\"]},\"title\":\"Bokeh Application\",\"version\":\"2.4.1\"}};\n  const render_items = [{\"docid\":\"26605814-7c0d-44e8-9692-20610d183dd7\",\"root_ids\":[\"39193\"],\"roots\":{\"39193\":\"9c6a07a4-d566-4981-bbed-99d9c833cbd5\"}}];\n  root.Bokeh.embed.embed_items_notebook(docs_json, render_items);\n\n  }\n  if (root.Bokeh !== undefined) {\n    embed_document(root);\n  } else {\n    let attempts = 0;\n    const timer = setInterval(function(root) {\n      if (root.Bokeh !== undefined) {\n        clearInterval(timer);\n        embed_document(root);\n      } else {\n        attempts++;\n        if (attempts > 100) {\n          clearInterval(timer);\n          console.log(\"Bokeh: ERROR: Unable to run BokehJS code because BokehJS library is missing\");\n        }\n      }\n    }, 10, root)\n  }\n})(window);",
      "application/vnd.bokehjs_exec.v0+json": ""
     },
     "metadata": {
      "application/vnd.bokehjs_exec.v0+json": {
       "id": "39193"
      }
     },
     "output_type": "display_data"
    }
   ],
   "source": [
    "show(plots[0])\n",
    "show(plots[20])\n",
    "show(plots[40])\n",
    "show(plots[-10])\n",
    "show(plots[-1])"
   ]
  },
  {
   "cell_type": "code",
   "execution_count": null,
   "metadata": {},
   "outputs": [],
   "source": []
  }
 ],
 "metadata": {
  "interpreter": {
   "hash": "c02ff6a36e3d46c1ead4b797cf1aafcc2fcdb1b8c513784bf1d611625458fd41"
  },
  "kernelspec": {
   "display_name": "Python 3.7.10 64-bit ('pansatz': conda)",
   "language": "python",
   "name": "python3"
  },
  "language_info": {
   "codemirror_mode": {
    "name": "ipython",
    "version": 3
   },
   "file_extension": ".py",
   "mimetype": "text/x-python",
   "name": "python",
   "nbconvert_exporter": "python",
   "pygments_lexer": "ipython3",
   "version": "3.7.10"
  },
  "orig_nbformat": 4
 },
 "nbformat": 4,
 "nbformat_minor": 2
}
