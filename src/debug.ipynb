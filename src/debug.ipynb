{
 "cells": [
  {
   "cell_type": "code",
   "execution_count": 22,
   "metadata": {},
   "outputs": [
    {
     "name": "stdout",
     "output_type": "stream",
     "text": [
      "[[0.015625, 0.0625, 0.25], [0.1875, 0.5, 1.0], [0.125, 0.25, 0.5]]\n",
      "[[0.5956229973468807], [-0.3964029855506057], [0.5069313086047602]]\n",
      "-0.3964029855506066\n"
     ]
    }
   ],
   "source": [
    "import numpy as np\n",
    "\n",
    "A = 1/2\n",
    "F = np.sqrt(A)\n",
    "\n",
    "def f(r, dim=3):\n",
    "    if dim == 3:\n",
    "        return [r**3, r**2, r]\n",
    "    elif dim == 4:\n",
    "        return [r**3, r**2, r, 1.] \n",
    "\n",
    "def df(r, dim=3):\n",
    "    if dim == 3:\n",
    "        return [3*r**2, 2*r, 1.]\n",
    "    elif dim == 4:\n",
    "        return [3*r**2, 2*r, 1., 0.]\n",
    "\n",
    "def u(r):\n",
    "    return (A / r) * (1 - np.exp(-r/F))\n",
    "\n",
    "def du(r):\n",
    "    return (- A / r**2) * (1 - np.exp(-r/F)) + (A/(r*F)) * np.exp(-r/F)\n",
    "\n",
    "r_boundary = 1/4.\n",
    "r_edge = 1/2.\n",
    "\n",
    "coefs = [f(r_boundary),\n",
    "         df(r_boundary),\n",
    "         f(r_edge)]\n",
    "\n",
    "res = [[u(r_boundary)],\n",
    "       [du(r_boundary)],\n",
    "       [0.0]]\n",
    "\n",
    "dim = 4\n",
    "coefs = [f(r_boundary, dim=dim),\n",
    "     df(r_boundary, dim=dim),\n",
    "     f(r_edge, dim=dim),\n",
    "     df(r_boundary, dim=dim)]\n",
    "\n",
    "res = [[u(r_boundary)],\n",
    "     [du(r_boundary)],\n",
    "     [0.0],\n",
    "     [0.0]]\n",
    "\n",
    "print(coefs)\n",
    "\n",
    "print(res)\n",
    "\n",
    "poly = np.linalg.inv(coefs).dot(res)\n",
    "\n",
    "print(sum(df(r_boundary) * poly.reshape(-1)))"
   ]
  },
  {
   "cell_type": "code",
   "execution_count": null,
   "metadata": {},
   "outputs": [],
   "source": []
  }
 ],
 "metadata": {
  "interpreter": {
   "hash": "c02ff6a36e3d46c1ead4b797cf1aafcc2fcdb1b8c513784bf1d611625458fd41"
  },
  "kernelspec": {
   "display_name": "Python 3.7.10 64-bit ('pansatz': conda)",
   "language": "python",
   "name": "python3"
  },
  "language_info": {
   "codemirror_mode": {
    "name": "ipython",
    "version": 3
   },
   "file_extension": ".py",
   "mimetype": "text/x-python",
   "name": "python",
   "nbconvert_exporter": "python",
   "pygments_lexer": "ipython3",
   "version": "3.7.10"
  },
  "orig_nbformat": 4
 },
 "nbformat": 4,
 "nbformat_minor": 2
}
